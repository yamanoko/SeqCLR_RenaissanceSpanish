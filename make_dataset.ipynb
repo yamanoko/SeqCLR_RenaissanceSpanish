{
 "cells": [
  {
   "cell_type": "code",
   "outputs": [
    {
     "data": {
      "text/plain": "'NOTES:\\t\\tu and v are used interchangeably \\tcheck against dictionary?\\n\\t\\tf and s are used interchangeably \\tcheck against dictionary?\\n\\t\\taccents are inconsistent \\t\\tshould be ignored\\n\\t\\tsome letters have horizontal “cap”\\ttends to mean n follows, or ue after capped q\\n\\t\\tsome line end hyphens not present\\tleave words split for now, can decide later\\n\\t\\tç old spelling is always modern z\\tteach AI to always interpret ç as z\\n\\nPDF p1\\n\\nDEDICATORIA\\nEN LOS CONSEJOS\\nque dexo a sus hijo, e hija\\nmayores una gran Señora\\ndestos Reynos de España\\nque por justos respec-\\ntos se ocultó su\\nnombre. \\n\\nSIENDO (hijos\\nmios) tan cierto, \\nque el virtuoso ser\\nes el que por obli-\\ngacion han de dar\\na los hijos sus Pa-\\ndres, y por el que principalmente\\nellos les pueden quedar obligados;\\ndesseando yo cumplir en esto la par\\nte que me toca, y executaros en la\\nvuestra, no aviendose servido nues-\\n\\nPDF p2\\n\\ntro Señor por sus rectisimos y ocul\\ntos juyzios de darme tiempo, para \\nque en vuestra educacion lo mani\\nfestasse, pues me hallo tantos meses \\nha rendida en esta cama, a una en\\nfermedad tal, que desde su princi\\npio me amenaza con la muerte, y \\nvuestra orfandad en tiernos años, \\nasi pues como os di al mundo con \\ndolores, con los de tan penosos ac-\\ncidentes, os procuro encaminar \\nahora a Dios, y que renazcays de mi \\npara él, por medio de la virtud, a \\nque os exorto con estos documen\\ntos (que he recogido con el desve-\\nlo posible) juzgando es la mas esti-\\nmable herencia que puedo dexaros \\nen prendas del entrañable amor \\nque os tengo, por este, y en primer \\nlugar por el que deveys a Dios, os \\npido, y encargo, que me libreys la \\npaga en el puntual exercicio dellos, \\ny en premio os prometo (con mi \\nbendicion, que desde aquí os doy) \\n\\nde parte de Dios los doce mas ex\\ncelentes que un Maestro de espiri-\\ntu largamente escribe, y son en su-\\nma: que tendra su divina Magestad \\nprovidencia particular de vosotros, \\ny os concedera la gracia del Espíri-\\ntu Santo, sus consolaciones, y lum-\\nbre sobrenatural, la alegría de la \\nbuena conciencia, la esperanza en la \\ndivina misericordia, la verdadera li\\nbertad, y paz interior, oydo grato a \\nvuestras oraciones, su asistencia, y \\nfavor en los trabajos, y benciciones \\nque en la Santa Escritura promete \\na los virtuosos de todo lo temporal, \\ny ultimamente, glorioso y alegre \\nfin, que cada cosa destas por si pu-\\ndiera sernos incentivo para seguir \\nel camino de la virtud, aunque no \\nnos tuviera Dios de antemano o-\\nbligados a ella, por ser el que es, y \\npor los inestimables beneficios ge\\nnerales de la creacion, conserva-\\ncion, redempcion, justificacion, y\\n\\nPDF p3\\n\\npredeterminacion, a q se añaden en ca-\\nda uno los particulares suyos. Aqui \\nos hago memoria de la calidad que \\nos dio, que se funda en la excelencia \\nde la virtud, origen de que se deriva \\nqualquiera verdadera nobleza, y \\npues es deuda, y efecto de la virtud, \\nsed tales como ella os obliga a ser, \\nmirad que no solo es necesaria, sino \\nforzosa en los nobles la virtud, y \\nque el que la busca, es el que se \\nmuestra de más generoso, y noble \\nanimo, y como dixo Bruno Sigui-\\nno, puede ser mas noble el esclavo \\nque su señor, pues consiste la noble-\\nza mayor en mas virtud, y nace de-\\nlla la nobleza, conservase en ella, \\nqueda cadaver si le falta, por ser el \\nalma, y vida de la nobleza la virtud, \\nella tiene mayor fuerza que todas \\nlas armas, y tan grande claridad, que \\naunque este en un lugar obscuro, a si \\nmisma se haze luz como la más rica \\nde las piedras, q es el Carbunco, sola \\n\\nella es suficiente premio del virtuo-\\nso: es tan noble, que ni puede usar \\nmal de nada, ni nadie mal della, y el \\nsujeto propio, y asiento suyo, es el \\nmás excelente, pues en el hombre \\nes el corazon, y en el mundo los \\nPrincipes, y Reyes; esta sola es la \\nque quita el sentimiento de las es-\\npinas de la vida, y contra ella no \\ntienen las calamidades más fuerza \\nque la niebla contra el Sol. Socra-\\ntes preguntado. Por Iorgias, si te\\nnía por dichoso al Rey de Persia, \\nrespondio: No puedo juzgar de es-\\nso, sin saber quanta virtud tiene. Y \\nconforma con esto lo que Seneca \\ndespués de largos discursos conclu-\\nye, de que en ella consiste la bien\\naventurada, y mas feliz vida, a \\nque añade, que sola la virtud es el \\npropio bien del hombre, pues to-\\ndas las demas cosas humanas se con-\\nsumen, y ella da muestras de natu\\nraleza eterna, no aviendo otra co-\\n\\nPDF p4\\n\\nsa de immortal, que a los mortales \\ntoque. Para que conozcays pues, \\nque es la virtud de que aqui os ha-\\nblo en general (remitiendo para \\nadelante lo particular) dize Aristo-\\nteles, que es un habito para elegir \\nlo recto, el qual haze bueno al hom-\\nbre y sus obras, y segun la difinen \\nSan Agustin, y Santo Thomas; es \\nuna qualidad del alma, con que se \\nvive rectamente, y la que yo creo \\nos condederá nuestro Señor, obli-\\ngándole con pidírsela, y disponer-\\nos de vuestra parte; assi sea como \\nyo desseo, y que os de larga \\nvida para grangear \\nen ella mucha \\ngloria. \\n\\nConsejos que dexó la dicha \\nSeñora a su hijo \\nPrimogénito.\\n\\nNo de los enga-\\nños injustamente \\nmás recibidos en \\nel mundo, es creer, \\nque los bienes na\\nturales, en que al-\\ngunos por privilegio nacen here-\\ndados, son para vivir mas licencio-\\nsamente con solo estima propia, y \\ndesprecio de los otros, con super-\\nfluos regalos, y soberania tiranica, \\nentregandose de tal suerte a todo \\ngenero de vicios, que estos tengan \\ncampal guerra, sobre ser cada uno \\nel mayor. Y assi, si bien ay algunos \\ngrandes Señores, que conocen ser \\nla verdadera calidad de la Virtud, y la \\nmayor, no la heredada, sino la pro-\\n\\nPDF p5\\n\\npia (que procuran) pero son mas\\n los que dexandose llevar de incli-\\nnaciones depravadas, y aduladores \\n(peste de la Nobleza) usan mal de \\nla autoridad, y rentas con que se \\nhallan, tomando por armas contra \\nDios, las mercedes que del recibie\\nron, y desestimandose, con lo que \\npiensan se engrandecen, pues en to\\ndas las cosas quieren bondad sino \\nen si mismos, como dixo San Agus-\\ntin: y siendo de los que David dize \\nno conocieron la honra en que fue-\\nron criados, y la pusieron en lo que \\nmas los abatio, pues consistiendo la \\nverdadera en servir, y agradar a \\nDios, vemos q dan en hazerse estos \\nsectarios, y cabezas mostruosas de \\nvicios, professando unos la valen\\ntia (en ellos falsa y civil) otros ser \\ngraciosos, hurtando el oficio a los \\ntruhanes, otros sabios muy por lo \\ninchado, unos enfadados de todos, \\ny descorteses, Poetas con agenos \\n\\nversos: los locos, y los que mas lo \\nson, enamorados< y llega la desdicha \\nde nuestros tiempos a ver baylar \\ncomo mugeres, nietos de los que \\ntruxeron casi toda su vida el peso \\nde los Arneses sobre si, y las armas \\nen la mano, con que les ganaron \\nlo que tan indignamente posseen. \\nTampoco faltan otros, que hazen \\ngracia de exceder en los brindis de \\nlos combites, y de no jugar limpio, \\nni tratar verdad< y gala de vivir mu\\nchos años en mal estado (descuydo \\ndigno de ser llorado en España) por \\nla educación de sus Nobles, y el re\\npresentarle yo en estas lastimosas \\nverdades, es como pintaros aquí la \\nfealdad de los vicios, para que con \\nhorror della les cobreys el aborre\\ncimiento que desseo, creyendo jun-\\ntamente, que la vida del Señor gra-\\nnde (no contentandose con huyr de\\nllos) ha de ser un continuo exerci-\\ncio de virtudes, porque la magna-\\n\\nPDF p6\\n\\nnima fortaleza, que es la propia, y \\nconnatural de los Ilustres, procede \\nde corazon grande, y este debe des\\npreciar la bxeza mayor, que es el\\nabatirse a los vicios: segun Aristo-\\nteles, y Ciceron, consiste en tres co-\\nsas, desestimar todas las exteriores, \\nsufrir mucho por la Virtud, y por \\nella acometer arduas y grandes em-\\npresas en beneficio comun: y la for-\\ntaleza Christiana, es sufrir, y hazer \\nmucho por Dios, y su gloria, y bien \\nde todos, venciendose uno a si mis-\\nmo, triunfo a que esta vinculada la \\nverdadera grandeza. Considerad \\npues, que la honra, y hazienda os la \\ndio Dios para repartirla, y que \\naveys nacido tanto para los demas, \\ncomo para vos mismo: assi lo dixo \\nCiceron del Noble, y creed, que \\nson talentos de que les aveys de dar \\ncuenta muy estrecha, y carga con \\nque os ha obligado a ser defensor\\nes de su Fe y Religion, accerrimo per-\\n\\nseguidor de los vicios en vos, y en \\nquantos corrieren por vuestra cuen\\nta, y exemplo de virtud a todos, \\nque según el que nos dieron los Ro\\nmanos en aquellos dos tempos, pa-\\nra entrar en el de la honra, se ha de \\npassar primero por el de la virtud, \\ny no os parezca que es mudaros de \\nprofession obligaros a esto, y daros \\nla de Religioso, que seria hazer \\nagravio a la Nobleza, donde se ha \\nde hallar lo mejor de cada estado, \\nde los Prelados, el ser limosneros: \\nde los Religiosos, el zelo y devo-\\ncion : de buenos Reyes, el exerci-\\ncio de la justicia : de los Soldados, el \\nvalor y alentado corazon : de los Pa-\\ndres de Familias, la piedad y amor \\npara con sus subditos : y aun de los \\nArtifices, el huyr la ociosidad, rin-\\ndiendose al incansable trabajo, que \\nes obligacion poner en el beneficio \\ny buen gobierno d elos vassallos, el \\nqual pagan con las rentas, y sin esse\\n\\nPDF p7\\n\\ndesuelo no podrian obtenerse jus-\\ntamente. Si soys el que deveys a \\nDios, y a vuestra sangre, aveys de \\nexercitar con su divina Magestad \\nlas tres Virtudes Theologales, y de \\nlas Cardinales, y Morales la Pruden-\\ncia con todos, y en todos tiempos \\nla Iusticia y equidad con vuestros \\nsubditos, Fortaleza, Templanza, \\nContinencia en vos mismo, Obe-\\ndiencia con vuestro Rey, y Padre \\n(que la de la Iglesia y Confessor en \\nlo primero se incluye) Piedad con \\ntodos, y mas con los pobres afligi\\ndos y enfermos, Liberalidad, Pacien\\ncia, y Afabilidad (grave en las oca-\\nsiones que la pidieren) con vuestros \\nfamiliares, amigos, y hermanos: Re-\\nsignacion en los trabajos, y en las \\nprosperidades, animo agradecido a \\nDios, con desprecio dellas en quan-\\nto no sean importantes para bolver-\\nselas a el. Esto es lo que pretendo \\naquí individuaros, y enseñaros con \\n\\namor, y obligacion de Madre, por \\ndescuento de las que con el mas \\npropio suyo, que de los hijos, \\nlos crian afeminados, y toleran ma\\nlas costumbres. Bien veo, que sien-\\ndo tan varias las condiciones huma-\\nnas, es muy dificil el dar reglas, y \\npreceptos a una, que la ajusten al \\ntrato de todas pero estas generales \\nvan sugetas al dominio de la prud-\\nencia, que se ha de usar en la apli-\\ncación, según los estados, tiempos, \\nlugares, y condiciones, porque a es-\\nta virtud, q es guia, y Maestra de to-\\ndas, Cicero la llamo justamete Arte \\nde la vida, y Aristoteles conocio sin \\nluz de Fe, q no la podia tener verda-\\ndera ninguno, que no fuesse Vir-\\ntuoso, en cuya conformidad dize \\nSan Basilio, que ay dos prudencias, \\nuna Christiana, y otra Gentilica, que \\nes la fagacidad, siempre encamina-\\nda a engañar, y a la particular con-\\nveniencia de la primera os preciad, \\n\\nPDF p8\\n\\ny usad en todas vuestras acciones \\ncon sencillez recatada, para conocer \\nlas maquinas de los maliciosos, y no \\nser engañado dellos. Espero pues \\nque llegareys con el exercicio des-\\ntos consejos, a ser un exemplar de \\nbuenos Cavalleros, y grandes Seño-\\nres, imitando la Religion del Em-\\nperador Constantino, el valor de \\nCarlo Magno, el menosprecio del \\nmundo y sus grandezas de Carlos \\nQuinto, la clemencia del Santo Rey \\nLuys, la templanza de Theodosio, \\nconstancia del Rey Ingles Artus, \\njusticia y verdad de Gofredo de \\nBullon, prudencia del Rey Fernan-\\ndo de Castilla, llamado el Santo, li-\\nberalidad de Don Alonso el Sexto, \\nestudiosidad, y sabiduria del otro \\nDon Alonso tan conocido por ella, \\nque teniendo estos Principes el va-\\nlor y virtud natural del animo illus-\\ntrado con el realce de nuestra Santa \\nFe, no necessitamos de valernos de \\n\\nNuma, Anibal, Socrates, Cesar, Sci-\\npion, Caton, Trajano, Platon, Ale-\\nxandro, Marco Aurelio, a quien se \\natribuyen las mismas virtudes, por-\\nque faltandoles la excelencia mayor \\nde la verdadera Religion, no pu-\\ndieron ser en ellos perfectas: y si a \\ntodos no quadraredes (que es casi \\nimposible) contentaos con el agra-\\ndo de los que bien sienten, pues \\naunque son los menos, es la mejor \\nparte, y principalmente con hazer \\nlo que deveys. \\n\\nPara con Dios, y todo lo to-\\ncante a Religion\\n\\nPUES el mejor, y \\ncierto principio de \\nlas cosas es Dios \\nguia, y fundamen\\nto de toda Virtud \\n(y conocieron esto \\naun los Gentiles, que Tito Livio\\n\\nPDF p9\\n\\nnos dexo escrito: al que sirve a Dios\\ntodo le sucede bien con este prin\\ncipio, y assi lo sintieron Platon, Ci-\\nceron, Socrates, y Aristoteles) Digo\\nlo primero, que el titulo principal\\nde que os aveys de preciar, ha de\\nser el de Christiano, teniendo por\\nasentado el faltar a todos, para con-\\nservaros en merecer este, que reci-\\nbistes de Dios tan de valde, y de que\\nsiempre os aveys de reconocer in-\\ndigno. \\nEn las cosas tocantes a la autori-\\ndad del Sumo Pontifice, e Inquisi-\\ncion, asistid con particular gusto y\\ndesuelo siempre que seays menes-\\nter, y hablad de lo uno, y lo otro\\ncon gran veneracion, sintiendo con\\nigual piedad. \\nA las censuras de la Iglesia tened\\nmucho respeto, y por todos los in-\\ntereses del mundo ni un instante os\\ndescuydeys en incurrir en ellas, ni\\nlo consintays a vuestros ministros y \\n\\nvasallos, como tampoco ser por cau-\\nsa vuestra nadie descomulgado.\\nHablad muy bien siempre de to-\\ndas las Religiones, y favorecedlas \\nquanto os sea possible, y aun a qual-\\nquiera Religioso y Sacerdote (que\\nes la mayor dignidad, pues según\\nSan Leon excede a la Real) venerad\\ny respetad en toda ocasión, tenien-\\ndo por buena suerte el ofrecerseos\\nalguna de mostrarles rendimiento, \\ny no lo rehuseys en publico (por lo\\nque deveys al buen exemplo) no\\nconsintays jamas que dellos se ha-\\nble con nota, ni indecencia delan-\\nte de vos, aunque sea en materia \\nleve y no os contenteys con esto, \\nmas estad tan lexos de recibir es-\\ncandalo por falta (aunque sea muy \\npublica) de cualquier Eclesiastico, \\no Religioso< y hazed tanta estima\\nde las Religiones, que si de alguna\\nde las aprobadas por la Iglesia fues\\nse possible ver apostatar a todos los\\n\\nPDF p10\\n\\nDe ella, quedando solo uno que la\\nobservase, en el venereys, y estimeys\\nsu Religion con la fineza, que vien-\\ndola muy poblada de Santos: y tan\\ncapaz ha de ser vuestro corazon que \\nquepa en el, el amor de todas las\\nReligiones, assi de las que comuni-\\ncays, como de las que nunca aveys\\nvisto, que esse sera el mas desinte-\\nressado, fundandole solo en ser co-\\nlumnas de la Iglesia. \\nNo tendreys por ningun caso\\npuntos de cortesias con los Obispos\\ny Prelados, tomad dellos con esti-\\nmacion cualquiera, y dadles la qu\\nquisieren, teniendo os por inferior\\ndel que mas lo es entre los Minis\\ntros de la Iglesia. \\nCon gente virtuosa, y dedidada a\\nDios nunca sustenteys diferencias,\\nque saldreys mal dellas, porque los \\nampara el mas poderoso patroci-\\nnio, assistiendolos siempre su divina\\nMagestad.\\n\\nA los Religiosos, y Religiosas de\\nlos Conventos de vuestros Estados, \\ndad toda la cortesia que a los de o-\\ntras partes, y concededles las cosas\\nde gracia factibles que os pidieren\\npor criados, y vassallos, para que les\\nqueden bien afectos; y siempre vos\\nganareys en su comunicación, bus-\\ncando para ello los mas aprovecha-\\ndos, y Doctos: pero mirad mucho en\\nno distraerlos, ni hazerlos faltar por\\nvuestro respecto a los de sus institu-\\ntos, como tampoco a los Prelados\\nen lo mas conveniente a las Reli-\\ngiones: No os mateys en governar-\\nlas, que ni lo entienden, ni es de-\\ncente introduzirse en esto de los secu-\\nlares, aunque sean fundadores, pues\\npor serlo han de dessear mas la per-\\nfeccion de aquellas obras, que el \\ncumplimiento de sus antojos.\\nParece que siendo de ordinario\\nen los lugares propios hijos de vas-\\nsallos los Clerigos, tendra algun in\\n\\nPDF p11\\n\\nconveniente tratarlos con tanta fa-\\nmiliaridad, pero en casos forzosos \\nsea con cortesia, y oyendolos alo-\\nmenos en pie, y haziendolos a\\nellos cubrir; y aun con vuestros Ca-\\npellanes no useys del, vos ni dexeys\\nde quitarles el sombrero, hazed que\\nse cubran, y para no estar en pie, en\\nvendiciendo la mesa, que se vayan.\\nPreciaos de cumplir con las obli-\\ngaciones devidas a vuestra Parro-\\nchia donde quiera que esteys, no\\npretendiendo exempciones en esto, \\nni ceremonias nuevas para vuestra\\npersona, sino admitiendo con hu-\\nmildad las que hallaredes introdu-\\nzidas en vuestro Estado con los an-\\ntecessores señores del. \\nRespetad mucho los Templos, es-\\ntando en ellos con gran compostura\\ndescubierto, y de rodillas (no con\\nuna sola) quanto podays, meditando\\ncon el corazon lo que pronuncian\\nlos labios, atentos los ojos a la Ma-\\n\\ngestad que alli preside. No seays de\\nlos inquietos, y vagueadores q vio\\nel Propheta; ni permitireys os ha-\\nblen en negocios, sino lo muy for-\\nzoso, y si para esto algun criado hin-\\ncare la rodilla, sepa ha de ser enton-\\nces al Altar, y no a vos.\\nAssistid a los divinos Oficios siem-\\npre que podays, no permitiendo si-\\ntial estando patente el Santissimo\\nSacramento, ni en Semana Santa. \\nOyd de buena gana Sermones, \\ncon desseo de aprovechar, y no di-\\ngays mal de ninguno, aunque no os \\naya parecido bien. \\nAcudireys a las processiones, imi-\\ntando alli interiormente el espiritu\\ndel Santo Rey David. \\n\\nDe las Iglesias de vuestro Estado\\nhareys cuydar mucho (q no esta des-\\nobligados desto los Señores tempora-\\nles, por tocar principalmete a los O-\\nbispos) procurad las tega co todas de-\\ncencia, y proveydas de lo necessario;\\n\\nPDF p12\\n\\ny para edificarlas, y adornarlas, con \\nRetablos, como tambien para Her-\\nmitas, y otras cosas de devocion de \\nvuestros vassallos los ayudareys con limosnas, \\ny se las alabareys. \\n\\nPara las fiestas de acavallo, y ar-\\nmas que huvieredes de hazer, to-\\nmad motivos devotos en honra de \\nnuestro Señor, y de sus Santos, por-\\nque saqueys provecho de todo, y no\\naya en ellas desgracias. \\nCada año celebrareys con solem-\\nnidad de la Iglesia (a lo menos) la\\nFiesta del Santo de vuestro nombre.\\nY del Angel de la Guarda, a quien\\naveys de tener gran respeto, conti-\\nnua consideracion de traerle pre-\\nsente, y agradecimiento a los mu-\\nchos beneficios, que según ponde-\\nran los Santos Doctores Bernardo, \\nAmbrosio, y Basilio, exercitan estos\\ngloriosos Angeles con todas las al-\\nmas de que tienen tutela; Platon, \\ny otros muchos Philosophos Gen-\\n\\nTiles lo conocieron assi, y los vene-\\nraron por ello. \\nMas vuestra mayor Fiesta reser-\\nvad para el dia en que cumplieredes\\naños de Bautismo, este han de ser las\\ngalas, y regozijo, en reconocimien-\\nto de averos hecho Dios hijo de su \\nIglesia, y no como se acostumbra en\\nel que nacimos hijos de ira, cuya\\nmemoria siepre nos devria entriste-\\nzer, enternezer, y lastimar; y una\\nde las acciones que aveys de hazer\\ncon mucha atencion y devocion en\\nel dia desta Fiesta, ha de ser ofrecer\\nen la Missa (saliendo de vuestro\\npuesto a besar la mano al Sacerdote)\\ntantas monedas de oro, quantos \\naños cumplieredes, para que se gas-\\nten en ornato de la Iglesia, o limos-\\nnas. \\nVuestra principal devocion em-\\nplead en el Santissimo Sacramento\\ndel Altar, y aunque no os ha de mo-\\ntivar a ello interes, sino el amor, mi-\\n\\nPDF p13\\n\\nrad lo que ha engrandezido Dios\\npor este camino sobre todas las fa-\\nmilias del mundo, la imperial Casa\\nde Austria, imitad los actos de Fe\\nvisa que muchos han hecho con\\neste divino Misterio. De uno de los\\nPotentados de Italia de nuestros\\ntiempos, oi, que aviendo de traerle\\na la hora de su muerte el Viatico\\nhizo colgar, cubrir de alhombras, y \\nperfumar su casa, inchirla de lumi-\\nnarias, y todo genero de rico ador-\\nno, y musica, y que al entrar este Su-\\npremo Rey por sus puertas, se dispa-\\nrase la artilleria del Castillo, que le\\nhizo una gran salva. A este exemplo \\nañadire otro de la Condesa de \\nBuendia Doña Maria de Acuña, \\nbien conocida por su rara virtud. \\nEsta Señora llegando a su casa un\\ndia, que venia de Missa, y oyendo\\ntrayan la comunion a un cochero\\nsuyo, quiso entrar en el aposento \\ndonde estava, y viendole (como lo\\n\\navia juzgado) tan indecente para es-\\nperar tal huesped, mandando ocu-\\npar los reposteros en limpiarle, y\\ncolgarle con lo mejor de su casa, \\ny a los q le acopanava en coponer un\\ncurioso Altar todo muy perfumado, \\nassistio alli hasta q recibio, y acopaño\\n(al salir) el Santissimo Sacramento: lo\\nqual hareys vos, no solo encontran-\\ndole, sino buscando ocasiones para\\nello, alumbradle por vuestra perso-\\nna, y las de vuestros pajes y criados, \\ntomad la esclavitud suya (y de la\\nVirgen nuestra Señora, que ha de \\nser vuestro amparo y Madre) y al fin\\nen todas ocasiones reverenciad, y \\nservid a aquel Divino Señor Sacra-\\nmentado en el Misterio de Fe que \\nmas la manifiesta, pues hasta los irra-\\ncionales nos enseñan esto, como en-\\ntre otros muchos se vio en la oveji-\\nta que crio San Francisco, y el cor-\\nderillo, de que escribe Estephano\\nIuliaco.\\n\\nPDF p14\\n\\n--this part intentionally left blank to check after test--\\n\\nPDF p15\\n\\n--this part intentionally left blank to check after test--\\n\\nPDF p16\\n\\n--this part intentionally left blank to check after test--'"
     },
     "execution_count": 1,
     "metadata": {},
     "output_type": "execute_result"
    }
   ],
   "source": [
    "import docx2txt\n",
    "\n",
    "padilla_text = docx2txt.process('Padilla - 1 Nobleza virtuosa_testTranscription.docx')\n",
    "padilla_text"
   ],
   "metadata": {
    "collapsed": false,
    "ExecuteTime": {
     "end_time": "2024-03-27T10:07:37.975247Z",
     "start_time": "2024-03-27T10:07:37.936374Z"
    }
   },
   "id": "a322235b4dbeccd",
   "execution_count": 1
  },
  {
   "cell_type": "code",
   "outputs": [
    {
     "data": {
      "text/plain": "['NOTES:\\t\\tu and v are used interchangeably \\tcheck against dictionary?',\n '\\t\\tf and s are used interchangeably \\tcheck against dictionary?',\n '\\t\\taccents are inconsistent \\t\\tshould be ignored',\n '\\t\\tsome letters have horizontal “cap”\\ttends to mean n follows, or ue after capped q',\n '\\t\\tsome line end hyphens not present\\tleave words split for now, can decide later',\n '\\t\\tç old spelling is always modern z\\tteach AI to always interpret ç as z',\n '',\n 'PDF p1',\n '',\n 'DEDICATORIA',\n 'EN LOS CONSEJOS',\n 'que dexo a sus hijo, e hija',\n 'mayores una gran Señora',\n 'destos Reynos de España',\n 'que por justos respec-',\n 'tos se ocultó su',\n 'nombre. ',\n '',\n 'SIENDO (hijos',\n 'mios) tan cierto, ',\n 'que el virtuoso ser',\n 'es el que por obli-',\n 'gacion han de dar',\n 'a los hijos sus Pa-',\n 'dres, y por el que principalmente',\n 'ellos les pueden quedar obligados;',\n 'desseando yo cumplir en esto la par',\n 'te que me toca, y executaros en la',\n 'vuestra, no aviendose servido nues-',\n '',\n 'PDF p2',\n '',\n 'tro Señor por sus rectisimos y ocul',\n 'tos juyzios de darme tiempo, para ',\n 'que en vuestra educacion lo mani',\n 'festasse, pues me hallo tantos meses ',\n 'ha rendida en esta cama, a una en',\n 'fermedad tal, que desde su princi',\n 'pio me amenaza con la muerte, y ',\n 'vuestra orfandad en tiernos años, ',\n 'asi pues como os di al mundo con ',\n 'dolores, con los de tan penosos ac-',\n 'cidentes, os procuro encaminar ',\n 'ahora a Dios, y que renazcays de mi ',\n 'para él, por medio de la virtud, a ',\n 'que os exorto con estos documen',\n 'tos (que he recogido con el desve-',\n 'lo posible) juzgando es la mas esti-',\n 'mable herencia que puedo dexaros ',\n 'en prendas del entrañable amor ',\n 'que os tengo, por este, y en primer ',\n 'lugar por el que deveys a Dios, os ',\n 'pido, y encargo, que me libreys la ',\n 'paga en el puntual exercicio dellos, ',\n 'y en premio os prometo (con mi ',\n 'bendicion, que desde aquí os doy) ',\n '',\n 'de parte de Dios los doce mas ex',\n 'celentes que un Maestro de espiri-',\n 'tu largamente escribe, y son en su-',\n 'ma: que tendra su divina Magestad ',\n 'providencia particular de vosotros, ',\n 'y os concedera la gracia del Espíri-',\n 'tu Santo, sus consolaciones, y lum-',\n 'bre sobrenatural, la alegría de la ',\n 'buena conciencia, la esperanza en la ',\n 'divina misericordia, la verdadera li',\n 'bertad, y paz interior, oydo grato a ',\n 'vuestras oraciones, su asistencia, y ',\n 'favor en los trabajos, y benciciones ',\n 'que en la Santa Escritura promete ',\n 'a los virtuosos de todo lo temporal, ',\n 'y ultimamente, glorioso y alegre ',\n 'fin, que cada cosa destas por si pu-',\n 'diera sernos incentivo para seguir ',\n 'el camino de la virtud, aunque no ',\n 'nos tuviera Dios de antemano o-',\n 'bligados a ella, por ser el que es, y ',\n 'por los inestimables beneficios ge',\n 'nerales de la creacion, conserva-',\n 'cion, redempcion, justificacion, y',\n '',\n 'PDF p3',\n '',\n 'predeterminacion, a q se añaden en ca-',\n 'da uno los particulares suyos. Aqui ',\n 'os hago memoria de la calidad que ',\n 'os dio, que se funda en la excelencia ',\n 'de la virtud, origen de que se deriva ',\n 'qualquiera verdadera nobleza, y ',\n 'pues es deuda, y efecto de la virtud, ',\n 'sed tales como ella os obliga a ser, ',\n 'mirad que no solo es necesaria, sino ',\n 'forzosa en los nobles la virtud, y ',\n 'que el que la busca, es el que se ',\n 'muestra de más generoso, y noble ',\n 'animo, y como dixo Bruno Sigui-',\n 'no, puede ser mas noble el esclavo ',\n 'que su señor, pues consiste la noble-',\n 'za mayor en mas virtud, y nace de-',\n 'lla la nobleza, conservase en ella, ',\n 'queda cadaver si le falta, por ser el ',\n 'alma, y vida de la nobleza la virtud, ',\n 'ella tiene mayor fuerza que todas ',\n 'las armas, y tan grande claridad, que ',\n 'aunque este en un lugar obscuro, a si ',\n 'misma se haze luz como la más rica ',\n 'de las piedras, q es el Carbunco, sola ',\n '',\n 'ella es suficiente premio del virtuo-',\n 'so: es tan noble, que ni puede usar ',\n 'mal de nada, ni nadie mal della, y el ',\n 'sujeto propio, y asiento suyo, es el ',\n 'más excelente, pues en el hombre ',\n 'es el corazon, y en el mundo los ',\n 'Principes, y Reyes; esta sola es la ',\n 'que quita el sentimiento de las es-',\n 'pinas de la vida, y contra ella no ',\n 'tienen las calamidades más fuerza ',\n 'que la niebla contra el Sol. Socra-',\n 'tes preguntado. Por Iorgias, si te',\n 'nía por dichoso al Rey de Persia, ',\n 'respondio: No puedo juzgar de es-',\n 'so, sin saber quanta virtud tiene. Y ',\n 'conforma con esto lo que Seneca ',\n 'después de largos discursos conclu-',\n 'ye, de que en ella consiste la bien',\n 'aventurada, y mas feliz vida, a ',\n 'que añade, que sola la virtud es el ',\n 'propio bien del hombre, pues to-',\n 'das las demas cosas humanas se con-',\n 'sumen, y ella da muestras de natu',\n 'raleza eterna, no aviendo otra co-',\n '',\n 'PDF p4',\n '',\n 'sa de immortal, que a los mortales ',\n 'toque. Para que conozcays pues, ',\n 'que es la virtud de que aqui os ha-',\n 'blo en general (remitiendo para ',\n 'adelante lo particular) dize Aristo-',\n 'teles, que es un habito para elegir ',\n 'lo recto, el qual haze bueno al hom-',\n 'bre y sus obras, y segun la difinen ',\n 'San Agustin, y Santo Thomas; es ',\n 'una qualidad del alma, con que se ',\n 'vive rectamente, y la que yo creo ',\n 'os condederá nuestro Señor, obli-',\n 'gándole con pidírsela, y disponer-',\n 'os de vuestra parte; assi sea como ',\n 'yo desseo, y que os de larga ',\n 'vida para grangear ',\n 'en ella mucha ',\n 'gloria. ',\n '',\n 'Consejos que dexó la dicha ',\n 'Señora a su hijo ',\n 'Primogénito.',\n '',\n 'No de los enga-',\n 'ños injustamente ',\n 'más recibidos en ',\n 'el mundo, es creer, ',\n 'que los bienes na',\n 'turales, en que al-',\n 'gunos por privilegio nacen here-',\n 'dados, son para vivir mas licencio-',\n 'samente con solo estima propia, y ',\n 'desprecio de los otros, con super-',\n 'fluos regalos, y soberania tiranica, ',\n 'entregandose de tal suerte a todo ',\n 'genero de vicios, que estos tengan ',\n 'campal guerra, sobre ser cada uno ',\n 'el mayor. Y assi, si bien ay algunos ',\n 'grandes Señores, que conocen ser ',\n 'la verdadera calidad de la Virtud, y la ',\n 'mayor, no la heredada, sino la pro-',\n '',\n 'PDF p5',\n '',\n 'pia (que procuran) pero son mas',\n ' los que dexandose llevar de incli-',\n 'naciones depravadas, y aduladores ',\n '(peste de la Nobleza) usan mal de ',\n 'la autoridad, y rentas con que se ',\n 'hallan, tomando por armas contra ',\n 'Dios, las mercedes que del recibie',\n 'ron, y desestimandose, con lo que ',\n 'piensan se engrandecen, pues en to',\n 'das las cosas quieren bondad sino ',\n 'en si mismos, como dixo San Agus-',\n 'tin: y siendo de los que David dize ',\n 'no conocieron la honra en que fue-',\n 'ron criados, y la pusieron en lo que ',\n 'mas los abatio, pues consistiendo la ',\n 'verdadera en servir, y agradar a ',\n 'Dios, vemos q dan en hazerse estos ',\n 'sectarios, y cabezas mostruosas de ',\n 'vicios, professando unos la valen',\n 'tia (en ellos falsa y civil) otros ser ',\n 'graciosos, hurtando el oficio a los ',\n 'truhanes, otros sabios muy por lo ',\n 'inchado, unos enfadados de todos, ',\n 'y descorteses, Poetas con agenos ',\n '',\n 'versos: los locos, y los que mas lo ',\n 'son, enamorados< y llega la desdicha ',\n 'de nuestros tiempos a ver baylar ',\n 'como mugeres, nietos de los que ',\n 'truxeron casi toda su vida el peso ',\n 'de los Arneses sobre si, y las armas ',\n 'en la mano, con que les ganaron ',\n 'lo que tan indignamente posseen. ',\n 'Tampoco faltan otros, que hazen ',\n 'gracia de exceder en los brindis de ',\n 'los combites, y de no jugar limpio, ',\n 'ni tratar verdad< y gala de vivir mu',\n 'chos años en mal estado (descuydo ',\n 'digno de ser llorado en España) por ',\n 'la educación de sus Nobles, y el re',\n 'presentarle yo en estas lastimosas ',\n 'verdades, es como pintaros aquí la ',\n 'fealdad de los vicios, para que con ',\n 'horror della les cobreys el aborre',\n 'cimiento que desseo, creyendo jun-',\n 'tamente, que la vida del Señor gra-',\n 'nde (no contentandose con huyr de',\n 'llos) ha de ser un continuo exerci-',\n 'cio de virtudes, porque la magna-',\n '',\n 'PDF p6',\n '',\n 'nima fortaleza, que es la propia, y ',\n 'connatural de los Ilustres, procede ',\n 'de corazon grande, y este debe des',\n 'preciar la bxeza mayor, que es el',\n 'abatirse a los vicios: segun Aristo-',\n 'teles, y Ciceron, consiste en tres co-',\n 'sas, desestimar todas las exteriores, ',\n 'sufrir mucho por la Virtud, y por ',\n 'ella acometer arduas y grandes em-',\n 'presas en beneficio comun: y la for-',\n 'taleza Christiana, es sufrir, y hazer ',\n 'mucho por Dios, y su gloria, y bien ',\n 'de todos, venciendose uno a si mis-',\n 'mo, triunfo a que esta vinculada la ',\n 'verdadera grandeza. Considerad ',\n 'pues, que la honra, y hazienda os la ',\n 'dio Dios para repartirla, y que ',\n 'aveys nacido tanto para los demas, ',\n 'como para vos mismo: assi lo dixo ',\n 'Ciceron del Noble, y creed, que ',\n 'son talentos de que les aveys de dar ',\n 'cuenta muy estrecha, y carga con ',\n 'que os ha obligado a ser defensor',\n 'es de su Fe y Religion, accerrimo per-',\n '',\n 'seguidor de los vicios en vos, y en ',\n 'quantos corrieren por vuestra cuen',\n 'ta, y exemplo de virtud a todos, ',\n 'que según el que nos dieron los Ro',\n 'manos en aquellos dos tempos, pa-',\n 'ra entrar en el de la honra, se ha de ',\n 'passar primero por el de la virtud, ',\n 'y no os parezca que es mudaros de ',\n 'profession obligaros a esto, y daros ',\n 'la de Religioso, que seria hazer ',\n 'agravio a la Nobleza, donde se ha ',\n 'de hallar lo mejor de cada estado, ',\n 'de los Prelados, el ser limosneros: ',\n 'de los Religiosos, el zelo y devo-',\n 'cion : de buenos Reyes, el exerci-',\n 'cio de la justicia : de los Soldados, el ',\n 'valor y alentado corazon : de los Pa-',\n 'dres de Familias, la piedad y amor ',\n 'para con sus subditos : y aun de los ',\n 'Artifices, el huyr la ociosidad, rin-',\n 'diendose al incansable trabajo, que ',\n 'es obligacion poner en el beneficio ',\n 'y buen gobierno d elos vassallos, el ',\n 'qual pagan con las rentas, y sin esse',\n '',\n 'PDF p7',\n '',\n 'desuelo no podrian obtenerse jus-',\n 'tamente. Si soys el que deveys a ',\n 'Dios, y a vuestra sangre, aveys de ',\n 'exercitar con su divina Magestad ',\n 'las tres Virtudes Theologales, y de ',\n 'las Cardinales, y Morales la Pruden-',\n 'cia con todos, y en todos tiempos ',\n 'la Iusticia y equidad con vuestros ',\n 'subditos, Fortaleza, Templanza, ',\n 'Continencia en vos mismo, Obe-',\n 'diencia con vuestro Rey, y Padre ',\n '(que la de la Iglesia y Confessor en ',\n 'lo primero se incluye) Piedad con ',\n 'todos, y mas con los pobres afligi',\n 'dos y enfermos, Liberalidad, Pacien',\n 'cia, y Afabilidad (grave en las oca-',\n 'siones que la pidieren) con vuestros ',\n 'familiares, amigos, y hermanos: Re-',\n 'signacion en los trabajos, y en las ',\n 'prosperidades, animo agradecido a ',\n 'Dios, con desprecio dellas en quan-',\n 'to no sean importantes para bolver-',\n 'selas a el. Esto es lo que pretendo ',\n 'aquí individuaros, y enseñaros con ',\n '',\n 'amor, y obligacion de Madre, por ',\n 'descuento de las que con el mas ',\n 'propio suyo, que de los hijos, ',\n 'los crian afeminados, y toleran ma',\n 'las costumbres. Bien veo, que sien-',\n 'do tan varias las condiciones huma-',\n 'nas, es muy dificil el dar reglas, y ',\n 'preceptos a una, que la ajusten al ',\n 'trato de todas pero estas generales ',\n 'van sugetas al dominio de la prud-',\n 'encia, que se ha de usar en la apli-',\n 'cación, según los estados, tiempos, ',\n 'lugares, y condiciones, porque a es-',\n 'ta virtud, q es guia, y Maestra de to-',\n 'das, Cicero la llamo justamete Arte ',\n 'de la vida, y Aristoteles conocio sin ',\n 'luz de Fe, q no la podia tener verda-',\n 'dera ninguno, que no fuesse Vir-',\n 'tuoso, en cuya conformidad dize ',\n 'San Basilio, que ay dos prudencias, ',\n 'una Christiana, y otra Gentilica, que ',\n 'es la fagacidad, siempre encamina-',\n 'da a engañar, y a la particular con-',\n 'veniencia de la primera os preciad, ',\n '',\n 'PDF p8',\n '',\n 'y usad en todas vuestras acciones ',\n 'con sencillez recatada, para conocer ',\n 'las maquinas de los maliciosos, y no ',\n 'ser engañado dellos. Espero pues ',\n 'que llegareys con el exercicio des-',\n 'tos consejos, a ser un exemplar de ',\n 'buenos Cavalleros, y grandes Seño-',\n 'res, imitando la Religion del Em-',\n 'perador Constantino, el valor de ',\n 'Carlo Magno, el menosprecio del ',\n 'mundo y sus grandezas de Carlos ',\n 'Quinto, la clemencia del Santo Rey ',\n 'Luys, la templanza de Theodosio, ',\n 'constancia del Rey Ingles Artus, ',\n 'justicia y verdad de Gofredo de ',\n 'Bullon, prudencia del Rey Fernan-',\n 'do de Castilla, llamado el Santo, li-',\n 'beralidad de Don Alonso el Sexto, ',\n 'estudiosidad, y sabiduria del otro ',\n 'Don Alonso tan conocido por ella, ',\n 'que teniendo estos Principes el va-',\n 'lor y virtud natural del animo illus-',\n 'trado con el realce de nuestra Santa ',\n 'Fe, no necessitamos de valernos de ',\n '',\n 'Numa, Anibal, Socrates, Cesar, Sci-',\n 'pion, Caton, Trajano, Platon, Ale-',\n 'xandro, Marco Aurelio, a quien se ',\n 'atribuyen las mismas virtudes, por-',\n 'que faltandoles la excelencia mayor ',\n 'de la verdadera Religion, no pu-',\n 'dieron ser en ellos perfectas: y si a ',\n 'todos no quadraredes (que es casi ',\n 'imposible) contentaos con el agra-',\n 'do de los que bien sienten, pues ',\n 'aunque son los menos, es la mejor ',\n 'parte, y principalmente con hazer ',\n 'lo que deveys. ',\n '',\n 'Para con Dios, y todo lo to-',\n 'cante a Religion',\n '',\n 'PUES el mejor, y ',\n 'cierto principio de ',\n 'las cosas es Dios ',\n 'guia, y fundamen',\n 'to de toda Virtud ',\n '(y conocieron esto ',\n 'aun los Gentiles, que Tito Livio',\n '',\n 'PDF p9',\n '',\n 'nos dexo escrito: al que sirve a Dios',\n 'todo le sucede bien con este prin',\n 'cipio, y assi lo sintieron Platon, Ci-',\n 'ceron, Socrates, y Aristoteles) Digo',\n 'lo primero, que el titulo principal',\n 'de que os aveys de preciar, ha de',\n 'ser el de Christiano, teniendo por',\n 'asentado el faltar a todos, para con-',\n 'servaros en merecer este, que reci-',\n 'bistes de Dios tan de valde, y de que',\n 'siempre os aveys de reconocer in-',\n 'digno. ',\n 'En las cosas tocantes a la autori-',\n 'dad del Sumo Pontifice, e Inquisi-',\n 'cion, asistid con particular gusto y',\n 'desuelo siempre que seays menes-',\n 'ter, y hablad de lo uno, y lo otro',\n 'con gran veneracion, sintiendo con',\n 'igual piedad. ',\n 'A las censuras de la Iglesia tened',\n 'mucho respeto, y por todos los in-',\n 'tereses del mundo ni un instante os',\n 'descuydeys en incurrir en ellas, ni',\n 'lo consintays a vuestros ministros y ',\n '',\n 'vasallos, como tampoco ser por cau-',\n 'sa vuestra nadie descomulgado.',\n 'Hablad muy bien siempre de to-',\n 'das las Religiones, y favorecedlas ',\n 'quanto os sea possible, y aun a qual-',\n 'quiera Religioso y Sacerdote (que',\n 'es la mayor dignidad, pues según',\n 'San Leon excede a la Real) venerad',\n 'y respetad en toda ocasión, tenien-',\n 'do por buena suerte el ofrecerseos',\n 'alguna de mostrarles rendimiento, ',\n 'y no lo rehuseys en publico (por lo',\n 'que deveys al buen exemplo) no',\n 'consintays jamas que dellos se ha-',\n 'ble con nota, ni indecencia delan-',\n 'te de vos, aunque sea en materia ',\n 'leve y no os contenteys con esto, ',\n 'mas estad tan lexos de recibir es-',\n 'candalo por falta (aunque sea muy ',\n 'publica) de cualquier Eclesiastico, ',\n 'o Religioso< y hazed tanta estima',\n 'de las Religiones, que si de alguna',\n 'de las aprobadas por la Iglesia fues',\n 'se possible ver apostatar a todos los',\n '',\n 'PDF p10',\n '',\n 'De ella, quedando solo uno que la',\n 'observase, en el venereys, y estimeys',\n 'su Religion con la fineza, que vien-',\n 'dola muy poblada de Santos: y tan',\n 'capaz ha de ser vuestro corazon que ',\n 'quepa en el, el amor de todas las',\n 'Religiones, assi de las que comuni-',\n 'cays, como de las que nunca aveys',\n 'visto, que esse sera el mas desinte-',\n 'ressado, fundandole solo en ser co-',\n 'lumnas de la Iglesia. ',\n 'No tendreys por ningun caso',\n 'puntos de cortesias con los Obispos',\n 'y Prelados, tomad dellos con esti-',\n 'macion cualquiera, y dadles la qu',\n 'quisieren, teniendo os por inferior',\n 'del que mas lo es entre los Minis',\n 'tros de la Iglesia. ',\n 'Con gente virtuosa, y dedidada a',\n 'Dios nunca sustenteys diferencias,',\n 'que saldreys mal dellas, porque los ',\n 'ampara el mas poderoso patroci-',\n 'nio, assistiendolos siempre su divina',\n 'Magestad.',\n '',\n 'A los Religiosos, y Religiosas de',\n 'los Conventos de vuestros Estados, ',\n 'dad toda la cortesia que a los de o-',\n 'tras partes, y concededles las cosas',\n 'de gracia factibles que os pidieren',\n 'por criados, y vassallos, para que les',\n 'queden bien afectos; y siempre vos',\n 'ganareys en su comunicación, bus-',\n 'cando para ello los mas aprovecha-',\n 'dos, y Doctos: pero mirad mucho en',\n 'no distraerlos, ni hazerlos faltar por',\n 'vuestro respecto a los de sus institu-',\n 'tos, como tampoco a los Prelados',\n 'en lo mas conveniente a las Reli-',\n 'giones: No os mateys en governar-',\n 'las, que ni lo entienden, ni es de-',\n 'cente introduzirse en esto de los secu-',\n 'lares, aunque sean fundadores, pues',\n 'por serlo han de dessear mas la per-',\n 'feccion de aquellas obras, que el ',\n 'cumplimiento de sus antojos.',\n 'Parece que siendo de ordinario',\n 'en los lugares propios hijos de vas-',\n 'sallos los Clerigos, tendra algun in',\n '',\n 'PDF p11',\n '',\n 'conveniente tratarlos con tanta fa-',\n 'miliaridad, pero en casos forzosos ',\n 'sea con cortesia, y oyendolos alo-',\n 'menos en pie, y haziendolos a',\n 'ellos cubrir; y aun con vuestros Ca-',\n 'pellanes no useys del, vos ni dexeys',\n 'de quitarles el sombrero, hazed que',\n 'se cubran, y para no estar en pie, en',\n 'vendiciendo la mesa, que se vayan.',\n 'Preciaos de cumplir con las obli-',\n 'gaciones devidas a vuestra Parro-',\n 'chia donde quiera que esteys, no',\n 'pretendiendo exempciones en esto, ',\n 'ni ceremonias nuevas para vuestra',\n 'persona, sino admitiendo con hu-',\n 'mildad las que hallaredes introdu-',\n 'zidas en vuestro Estado con los an-',\n 'tecessores señores del. ',\n 'Respetad mucho los Templos, es-',\n 'tando en ellos con gran compostura',\n 'descubierto, y de rodillas (no con',\n 'una sola) quanto podays, meditando',\n 'con el corazon lo que pronuncian',\n 'los labios, atentos los ojos a la Ma-',\n '',\n 'gestad que alli preside. No seays de',\n 'los inquietos, y vagueadores q vio',\n 'el Propheta; ni permitireys os ha-',\n 'blen en negocios, sino lo muy for-',\n 'zoso, y si para esto algun criado hin-',\n 'care la rodilla, sepa ha de ser enton-',\n 'ces al Altar, y no a vos.',\n 'Assistid a los divinos Oficios siem-',\n 'pre que podays, no permitiendo si-',\n 'tial estando patente el Santissimo',\n 'Sacramento, ni en Semana Santa. ',\n 'Oyd de buena gana Sermones, ',\n 'con desseo de aprovechar, y no di-',\n 'gays mal de ninguno, aunque no os ',\n 'aya parecido bien. ',\n 'Acudireys a las processiones, imi-',\n 'tando alli interiormente el espiritu',\n 'del Santo Rey David. ',\n '',\n 'De las Iglesias de vuestro Estado',\n 'hareys cuydar mucho (q no esta des-',\n 'obligados desto los Señores tempora-',\n 'les, por tocar principalmete a los O-',\n 'bispos) procurad las tega co todas de-',\n 'cencia, y proveydas de lo necessario;',\n '',\n 'PDF p12',\n '',\n 'y para edificarlas, y adornarlas, con ',\n 'Retablos, como tambien para Her-',\n 'mitas, y otras cosas de devocion de ',\n 'vuestros vassallos los ayudareys con limosnas, ',\n 'y se las alabareys. ',\n '',\n 'Para las fiestas de acavallo, y ar-',\n 'mas que huvieredes de hazer, to-',\n 'mad motivos devotos en honra de ',\n 'nuestro Señor, y de sus Santos, por-',\n 'que saqueys provecho de todo, y no',\n 'aya en ellas desgracias. ',\n 'Cada año celebrareys con solem-',\n 'nidad de la Iglesia (a lo menos) la',\n 'Fiesta del Santo de vuestro nombre.',\n 'Y del Angel de la Guarda, a quien',\n 'aveys de tener gran respeto, conti-',\n 'nua consideracion de traerle pre-',\n 'sente, y agradecimiento a los mu-',\n 'chos beneficios, que según ponde-',\n 'ran los Santos Doctores Bernardo, ',\n 'Ambrosio, y Basilio, exercitan estos',\n 'gloriosos Angeles con todas las al-',\n 'mas de que tienen tutela; Platon, ',\n 'y otros muchos Philosophos Gen-',\n '',\n 'Tiles lo conocieron assi, y los vene-',\n 'raron por ello. ',\n 'Mas vuestra mayor Fiesta reser-',\n 'vad para el dia en que cumplieredes',\n 'años de Bautismo, este han de ser las',\n 'galas, y regozijo, en reconocimien-',\n 'to de averos hecho Dios hijo de su ',\n 'Iglesia, y no como se acostumbra en',\n 'el que nacimos hijos de ira, cuya',\n 'memoria siepre nos devria entriste-',\n 'zer, enternezer, y lastimar; y una',\n 'de las acciones que aveys de hazer',\n 'con mucha atencion y devocion en',\n 'el dia desta Fiesta, ha de ser ofrecer',\n 'en la Missa (saliendo de vuestro',\n 'puesto a besar la mano al Sacerdote)',\n 'tantas monedas de oro, quantos ',\n 'años cumplieredes, para que se gas-',\n 'ten en ornato de la Iglesia, o limos-',\n 'nas. ',\n 'Vuestra principal devocion em-',\n 'plead en el Santissimo Sacramento',\n 'del Altar, y aunque no os ha de mo-',\n 'tivar a ello interes, sino el amor, mi-',\n '',\n 'PDF p13',\n '',\n 'rad lo que ha engrandezido Dios',\n 'por este camino sobre todas las fa-',\n 'milias del mundo, la imperial Casa',\n 'de Austria, imitad los actos de Fe',\n 'visa que muchos han hecho con',\n 'este divino Misterio. De uno de los',\n 'Potentados de Italia de nuestros',\n 'tiempos, oi, que aviendo de traerle',\n 'a la hora de su muerte el Viatico',\n 'hizo colgar, cubrir de alhombras, y ',\n 'perfumar su casa, inchirla de lumi-',\n 'narias, y todo genero de rico ador-',\n 'no, y musica, y que al entrar este Su-',\n 'premo Rey por sus puertas, se dispa-',\n 'rase la artilleria del Castillo, que le',\n 'hizo una gran salva. A este exemplo ',\n 'añadire otro de la Condesa de ',\n 'Buendia Doña Maria de Acuña, ',\n 'bien conocida por su rara virtud. ',\n 'Esta Señora llegando a su casa un',\n 'dia, que venia de Missa, y oyendo',\n 'trayan la comunion a un cochero',\n 'suyo, quiso entrar en el aposento ',\n 'donde estava, y viendole (como lo',\n '',\n 'avia juzgado) tan indecente para es-',\n 'perar tal huesped, mandando ocu-',\n 'par los reposteros en limpiarle, y',\n 'colgarle con lo mejor de su casa, ',\n 'y a los q le acopanava en coponer un',\n 'curioso Altar todo muy perfumado, ',\n 'assistio alli hasta q recibio, y acopaño',\n '(al salir) el Santissimo Sacramento: lo',\n 'qual hareys vos, no solo encontran-',\n 'dole, sino buscando ocasiones para',\n 'ello, alumbradle por vuestra perso-',\n 'na, y las de vuestros pajes y criados, ',\n 'tomad la esclavitud suya (y de la',\n 'Virgen nuestra Señora, que ha de ',\n 'ser vuestro amparo y Madre) y al fin',\n 'en todas ocasiones reverenciad, y ',\n 'servid a aquel Divino Señor Sacra-',\n 'mentado en el Misterio de Fe que ',\n 'mas la manifiesta, pues hasta los irra-',\n 'cionales nos enseñan esto, como en-',\n 'tre otros muchos se vio en la oveji-',\n 'ta que crio San Francisco, y el cor-',\n 'derillo, de que escribe Estephano',\n 'Iuliaco.',\n '',\n 'PDF p14',\n '',\n '--this part intentionally left blank to check after test--',\n '',\n 'PDF p15',\n '',\n '--this part intentionally left blank to check after test--',\n '',\n 'PDF p16',\n '',\n '--this part intentionally left blank to check after test--']"
     },
     "execution_count": 2,
     "metadata": {},
     "output_type": "execute_result"
    }
   ],
   "source": [
    "padilla_text = padilla_text.split(\"\\n\")\n",
    "padilla_text"
   ],
   "metadata": {
    "collapsed": false,
    "ExecuteTime": {
     "end_time": "2024-03-27T10:07:38.477629Z",
     "start_time": "2024-03-27T10:07:38.451155Z"
    }
   },
   "id": "67a65791b839ef77",
   "execution_count": 2
  },
  {
   "cell_type": "code",
   "outputs": [
    {
     "data": {
      "text/plain": "{'NOTES:\\t\\tu and v are used interchangeably \\tcheck against dictionary?': 0,\n '\\t\\tf and s are used interchangeably \\tcheck against dictionary?': 1,\n '\\t\\taccents are inconsistent \\t\\tshould be ignored': 2,\n '\\t\\tsome letters have horizontal “cap”\\ttends to mean n follows, or ue after capped q': 3,\n '\\t\\tsome line end hyphens not present\\tleave words split for now, can decide later': 4,\n '\\t\\tç old spelling is always modern z\\tteach AI to always interpret ç as z': 5,\n '': 657,\n 'PDF p1': 7,\n 'DEDICATORIA': 9,\n 'EN LOS CONSEJOS': 10,\n 'que dexo a sus hijo, e hija': 11,\n 'mayores una gran Señora': 12,\n 'destos Reynos de España': 13,\n 'que por justos respec-': 14,\n 'tos se ocultó su': 15,\n 'nombre. ': 16,\n 'SIENDO (hijos': 18,\n 'mios) tan cierto, ': 19,\n 'que el virtuoso ser': 20,\n 'es el que por obli-': 21,\n 'gacion han de dar': 22,\n 'a los hijos sus Pa-': 23,\n 'dres, y por el que principalmente': 24,\n 'ellos les pueden quedar obligados;': 25,\n 'desseando yo cumplir en esto la par': 26,\n 'te que me toca, y executaros en la': 27,\n 'vuestra, no aviendose servido nues-': 28,\n 'PDF p2': 30,\n 'tro Señor por sus rectisimos y ocul': 32,\n 'tos juyzios de darme tiempo, para ': 33,\n 'que en vuestra educacion lo mani': 34,\n 'festasse, pues me hallo tantos meses ': 35,\n 'ha rendida en esta cama, a una en': 36,\n 'fermedad tal, que desde su princi': 37,\n 'pio me amenaza con la muerte, y ': 38,\n 'vuestra orfandad en tiernos años, ': 39,\n 'asi pues como os di al mundo con ': 40,\n 'dolores, con los de tan penosos ac-': 41,\n 'cidentes, os procuro encaminar ': 42,\n 'ahora a Dios, y que renazcays de mi ': 43,\n 'para él, por medio de la virtud, a ': 44,\n 'que os exorto con estos documen': 45,\n 'tos (que he recogido con el desve-': 46,\n 'lo posible) juzgando es la mas esti-': 47,\n 'mable herencia que puedo dexaros ': 48,\n 'en prendas del entrañable amor ': 49,\n 'que os tengo, por este, y en primer ': 50,\n 'lugar por el que deveys a Dios, os ': 51,\n 'pido, y encargo, que me libreys la ': 52,\n 'paga en el puntual exercicio dellos, ': 53,\n 'y en premio os prometo (con mi ': 54,\n 'bendicion, que desde aquí os doy) ': 55,\n 'de parte de Dios los doce mas ex': 57,\n 'celentes que un Maestro de espiri-': 58,\n 'tu largamente escribe, y son en su-': 59,\n 'ma: que tendra su divina Magestad ': 60,\n 'providencia particular de vosotros, ': 61,\n 'y os concedera la gracia del Espíri-': 62,\n 'tu Santo, sus consolaciones, y lum-': 63,\n 'bre sobrenatural, la alegría de la ': 64,\n 'buena conciencia, la esperanza en la ': 65,\n 'divina misericordia, la verdadera li': 66,\n 'bertad, y paz interior, oydo grato a ': 67,\n 'vuestras oraciones, su asistencia, y ': 68,\n 'favor en los trabajos, y benciciones ': 69,\n 'que en la Santa Escritura promete ': 70,\n 'a los virtuosos de todo lo temporal, ': 71,\n 'y ultimamente, glorioso y alegre ': 72,\n 'fin, que cada cosa destas por si pu-': 73,\n 'diera sernos incentivo para seguir ': 74,\n 'el camino de la virtud, aunque no ': 75,\n 'nos tuviera Dios de antemano o-': 76,\n 'bligados a ella, por ser el que es, y ': 77,\n 'por los inestimables beneficios ge': 78,\n 'nerales de la creacion, conserva-': 79,\n 'cion, redempcion, justificacion, y': 80,\n 'PDF p3': 82,\n 'predeterminacion, a q se añaden en ca-': 84,\n 'da uno los particulares suyos. Aqui ': 85,\n 'os hago memoria de la calidad que ': 86,\n 'os dio, que se funda en la excelencia ': 87,\n 'de la virtud, origen de que se deriva ': 88,\n 'qualquiera verdadera nobleza, y ': 89,\n 'pues es deuda, y efecto de la virtud, ': 90,\n 'sed tales como ella os obliga a ser, ': 91,\n 'mirad que no solo es necesaria, sino ': 92,\n 'forzosa en los nobles la virtud, y ': 93,\n 'que el que la busca, es el que se ': 94,\n 'muestra de más generoso, y noble ': 95,\n 'animo, y como dixo Bruno Sigui-': 96,\n 'no, puede ser mas noble el esclavo ': 97,\n 'que su señor, pues consiste la noble-': 98,\n 'za mayor en mas virtud, y nace de-': 99,\n 'lla la nobleza, conservase en ella, ': 100,\n 'queda cadaver si le falta, por ser el ': 101,\n 'alma, y vida de la nobleza la virtud, ': 102,\n 'ella tiene mayor fuerza que todas ': 103,\n 'las armas, y tan grande claridad, que ': 104,\n 'aunque este en un lugar obscuro, a si ': 105,\n 'misma se haze luz como la más rica ': 106,\n 'de las piedras, q es el Carbunco, sola ': 107,\n 'ella es suficiente premio del virtuo-': 109,\n 'so: es tan noble, que ni puede usar ': 110,\n 'mal de nada, ni nadie mal della, y el ': 111,\n 'sujeto propio, y asiento suyo, es el ': 112,\n 'más excelente, pues en el hombre ': 113,\n 'es el corazon, y en el mundo los ': 114,\n 'Principes, y Reyes; esta sola es la ': 115,\n 'que quita el sentimiento de las es-': 116,\n 'pinas de la vida, y contra ella no ': 117,\n 'tienen las calamidades más fuerza ': 118,\n 'que la niebla contra el Sol. Socra-': 119,\n 'tes preguntado. Por Iorgias, si te': 120,\n 'nía por dichoso al Rey de Persia, ': 121,\n 'respondio: No puedo juzgar de es-': 122,\n 'so, sin saber quanta virtud tiene. Y ': 123,\n 'conforma con esto lo que Seneca ': 124,\n 'después de largos discursos conclu-': 125,\n 'ye, de que en ella consiste la bien': 126,\n 'aventurada, y mas feliz vida, a ': 127,\n 'que añade, que sola la virtud es el ': 128,\n 'propio bien del hombre, pues to-': 129,\n 'das las demas cosas humanas se con-': 130,\n 'sumen, y ella da muestras de natu': 131,\n 'raleza eterna, no aviendo otra co-': 132,\n 'PDF p4': 134,\n 'sa de immortal, que a los mortales ': 136,\n 'toque. Para que conozcays pues, ': 137,\n 'que es la virtud de que aqui os ha-': 138,\n 'blo en general (remitiendo para ': 139,\n 'adelante lo particular) dize Aristo-': 140,\n 'teles, que es un habito para elegir ': 141,\n 'lo recto, el qual haze bueno al hom-': 142,\n 'bre y sus obras, y segun la difinen ': 143,\n 'San Agustin, y Santo Thomas; es ': 144,\n 'una qualidad del alma, con que se ': 145,\n 'vive rectamente, y la que yo creo ': 146,\n 'os condederá nuestro Señor, obli-': 147,\n 'gándole con pidírsela, y disponer-': 148,\n 'os de vuestra parte; assi sea como ': 149,\n 'yo desseo, y que os de larga ': 150,\n 'vida para grangear ': 151,\n 'en ella mucha ': 152,\n 'gloria. ': 153,\n 'Consejos que dexó la dicha ': 155,\n 'Señora a su hijo ': 156,\n 'Primogénito.': 157,\n 'No de los enga-': 159,\n 'ños injustamente ': 160,\n 'más recibidos en ': 161,\n 'el mundo, es creer, ': 162,\n 'que los bienes na': 163,\n 'turales, en que al-': 164,\n 'gunos por privilegio nacen here-': 165,\n 'dados, son para vivir mas licencio-': 166,\n 'samente con solo estima propia, y ': 167,\n 'desprecio de los otros, con super-': 168,\n 'fluos regalos, y soberania tiranica, ': 169,\n 'entregandose de tal suerte a todo ': 170,\n 'genero de vicios, que estos tengan ': 171,\n 'campal guerra, sobre ser cada uno ': 172,\n 'el mayor. Y assi, si bien ay algunos ': 173,\n 'grandes Señores, que conocen ser ': 174,\n 'la verdadera calidad de la Virtud, y la ': 175,\n 'mayor, no la heredada, sino la pro-': 176,\n 'PDF p5': 178,\n 'pia (que procuran) pero son mas': 180,\n ' los que dexandose llevar de incli-': 181,\n 'naciones depravadas, y aduladores ': 182,\n '(peste de la Nobleza) usan mal de ': 183,\n 'la autoridad, y rentas con que se ': 184,\n 'hallan, tomando por armas contra ': 185,\n 'Dios, las mercedes que del recibie': 186,\n 'ron, y desestimandose, con lo que ': 187,\n 'piensan se engrandecen, pues en to': 188,\n 'das las cosas quieren bondad sino ': 189,\n 'en si mismos, como dixo San Agus-': 190,\n 'tin: y siendo de los que David dize ': 191,\n 'no conocieron la honra en que fue-': 192,\n 'ron criados, y la pusieron en lo que ': 193,\n 'mas los abatio, pues consistiendo la ': 194,\n 'verdadera en servir, y agradar a ': 195,\n 'Dios, vemos q dan en hazerse estos ': 196,\n 'sectarios, y cabezas mostruosas de ': 197,\n 'vicios, professando unos la valen': 198,\n 'tia (en ellos falsa y civil) otros ser ': 199,\n 'graciosos, hurtando el oficio a los ': 200,\n 'truhanes, otros sabios muy por lo ': 201,\n 'inchado, unos enfadados de todos, ': 202,\n 'y descorteses, Poetas con agenos ': 203,\n 'versos: los locos, y los que mas lo ': 205,\n 'son, enamorados< y llega la desdicha ': 206,\n 'de nuestros tiempos a ver baylar ': 207,\n 'como mugeres, nietos de los que ': 208,\n 'truxeron casi toda su vida el peso ': 209,\n 'de los Arneses sobre si, y las armas ': 210,\n 'en la mano, con que les ganaron ': 211,\n 'lo que tan indignamente posseen. ': 212,\n 'Tampoco faltan otros, que hazen ': 213,\n 'gracia de exceder en los brindis de ': 214,\n 'los combites, y de no jugar limpio, ': 215,\n 'ni tratar verdad< y gala de vivir mu': 216,\n 'chos años en mal estado (descuydo ': 217,\n 'digno de ser llorado en España) por ': 218,\n 'la educación de sus Nobles, y el re': 219,\n 'presentarle yo en estas lastimosas ': 220,\n 'verdades, es como pintaros aquí la ': 221,\n 'fealdad de los vicios, para que con ': 222,\n 'horror della les cobreys el aborre': 223,\n 'cimiento que desseo, creyendo jun-': 224,\n 'tamente, que la vida del Señor gra-': 225,\n 'nde (no contentandose con huyr de': 226,\n 'llos) ha de ser un continuo exerci-': 227,\n 'cio de virtudes, porque la magna-': 228,\n 'PDF p6': 230,\n 'nima fortaleza, que es la propia, y ': 232,\n 'connatural de los Ilustres, procede ': 233,\n 'de corazon grande, y este debe des': 234,\n 'preciar la bxeza mayor, que es el': 235,\n 'abatirse a los vicios: segun Aristo-': 236,\n 'teles, y Ciceron, consiste en tres co-': 237,\n 'sas, desestimar todas las exteriores, ': 238,\n 'sufrir mucho por la Virtud, y por ': 239,\n 'ella acometer arduas y grandes em-': 240,\n 'presas en beneficio comun: y la for-': 241,\n 'taleza Christiana, es sufrir, y hazer ': 242,\n 'mucho por Dios, y su gloria, y bien ': 243,\n 'de todos, venciendose uno a si mis-': 244,\n 'mo, triunfo a que esta vinculada la ': 245,\n 'verdadera grandeza. Considerad ': 246,\n 'pues, que la honra, y hazienda os la ': 247,\n 'dio Dios para repartirla, y que ': 248,\n 'aveys nacido tanto para los demas, ': 249,\n 'como para vos mismo: assi lo dixo ': 250,\n 'Ciceron del Noble, y creed, que ': 251,\n 'son talentos de que les aveys de dar ': 252,\n 'cuenta muy estrecha, y carga con ': 253,\n 'que os ha obligado a ser defensor': 254,\n 'es de su Fe y Religion, accerrimo per-': 255,\n 'seguidor de los vicios en vos, y en ': 257,\n 'quantos corrieren por vuestra cuen': 258,\n 'ta, y exemplo de virtud a todos, ': 259,\n 'que según el que nos dieron los Ro': 260,\n 'manos en aquellos dos tempos, pa-': 261,\n 'ra entrar en el de la honra, se ha de ': 262,\n 'passar primero por el de la virtud, ': 263,\n 'y no os parezca que es mudaros de ': 264,\n 'profession obligaros a esto, y daros ': 265,\n 'la de Religioso, que seria hazer ': 266,\n 'agravio a la Nobleza, donde se ha ': 267,\n 'de hallar lo mejor de cada estado, ': 268,\n 'de los Prelados, el ser limosneros: ': 269,\n 'de los Religiosos, el zelo y devo-': 270,\n 'cion : de buenos Reyes, el exerci-': 271,\n 'cio de la justicia : de los Soldados, el ': 272,\n 'valor y alentado corazon : de los Pa-': 273,\n 'dres de Familias, la piedad y amor ': 274,\n 'para con sus subditos : y aun de los ': 275,\n 'Artifices, el huyr la ociosidad, rin-': 276,\n 'diendose al incansable trabajo, que ': 277,\n 'es obligacion poner en el beneficio ': 278,\n 'y buen gobierno d elos vassallos, el ': 279,\n 'qual pagan con las rentas, y sin esse': 280,\n 'PDF p7': 282,\n 'desuelo no podrian obtenerse jus-': 284,\n 'tamente. Si soys el que deveys a ': 285,\n 'Dios, y a vuestra sangre, aveys de ': 286,\n 'exercitar con su divina Magestad ': 287,\n 'las tres Virtudes Theologales, y de ': 288,\n 'las Cardinales, y Morales la Pruden-': 289,\n 'cia con todos, y en todos tiempos ': 290,\n 'la Iusticia y equidad con vuestros ': 291,\n 'subditos, Fortaleza, Templanza, ': 292,\n 'Continencia en vos mismo, Obe-': 293,\n 'diencia con vuestro Rey, y Padre ': 294,\n '(que la de la Iglesia y Confessor en ': 295,\n 'lo primero se incluye) Piedad con ': 296,\n 'todos, y mas con los pobres afligi': 297,\n 'dos y enfermos, Liberalidad, Pacien': 298,\n 'cia, y Afabilidad (grave en las oca-': 299,\n 'siones que la pidieren) con vuestros ': 300,\n 'familiares, amigos, y hermanos: Re-': 301,\n 'signacion en los trabajos, y en las ': 302,\n 'prosperidades, animo agradecido a ': 303,\n 'Dios, con desprecio dellas en quan-': 304,\n 'to no sean importantes para bolver-': 305,\n 'selas a el. Esto es lo que pretendo ': 306,\n 'aquí individuaros, y enseñaros con ': 307,\n 'amor, y obligacion de Madre, por ': 309,\n 'descuento de las que con el mas ': 310,\n 'propio suyo, que de los hijos, ': 311,\n 'los crian afeminados, y toleran ma': 312,\n 'las costumbres. Bien veo, que sien-': 313,\n 'do tan varias las condiciones huma-': 314,\n 'nas, es muy dificil el dar reglas, y ': 315,\n 'preceptos a una, que la ajusten al ': 316,\n 'trato de todas pero estas generales ': 317,\n 'van sugetas al dominio de la prud-': 318,\n 'encia, que se ha de usar en la apli-': 319,\n 'cación, según los estados, tiempos, ': 320,\n 'lugares, y condiciones, porque a es-': 321,\n 'ta virtud, q es guia, y Maestra de to-': 322,\n 'das, Cicero la llamo justamete Arte ': 323,\n 'de la vida, y Aristoteles conocio sin ': 324,\n 'luz de Fe, q no la podia tener verda-': 325,\n 'dera ninguno, que no fuesse Vir-': 326,\n 'tuoso, en cuya conformidad dize ': 327,\n 'San Basilio, que ay dos prudencias, ': 328,\n 'una Christiana, y otra Gentilica, que ': 329,\n 'es la fagacidad, siempre encamina-': 330,\n 'da a engañar, y a la particular con-': 331,\n 'veniencia de la primera os preciad, ': 332,\n 'PDF p8': 334,\n 'y usad en todas vuestras acciones ': 336,\n 'con sencillez recatada, para conocer ': 337,\n 'las maquinas de los maliciosos, y no ': 338,\n 'ser engañado dellos. Espero pues ': 339,\n 'que llegareys con el exercicio des-': 340,\n 'tos consejos, a ser un exemplar de ': 341,\n 'buenos Cavalleros, y grandes Seño-': 342,\n 'res, imitando la Religion del Em-': 343,\n 'perador Constantino, el valor de ': 344,\n 'Carlo Magno, el menosprecio del ': 345,\n 'mundo y sus grandezas de Carlos ': 346,\n 'Quinto, la clemencia del Santo Rey ': 347,\n 'Luys, la templanza de Theodosio, ': 348,\n 'constancia del Rey Ingles Artus, ': 349,\n 'justicia y verdad de Gofredo de ': 350,\n 'Bullon, prudencia del Rey Fernan-': 351,\n 'do de Castilla, llamado el Santo, li-': 352,\n 'beralidad de Don Alonso el Sexto, ': 353,\n 'estudiosidad, y sabiduria del otro ': 354,\n 'Don Alonso tan conocido por ella, ': 355,\n 'que teniendo estos Principes el va-': 356,\n 'lor y virtud natural del animo illus-': 357,\n 'trado con el realce de nuestra Santa ': 358,\n 'Fe, no necessitamos de valernos de ': 359,\n 'Numa, Anibal, Socrates, Cesar, Sci-': 361,\n 'pion, Caton, Trajano, Platon, Ale-': 362,\n 'xandro, Marco Aurelio, a quien se ': 363,\n 'atribuyen las mismas virtudes, por-': 364,\n 'que faltandoles la excelencia mayor ': 365,\n 'de la verdadera Religion, no pu-': 366,\n 'dieron ser en ellos perfectas: y si a ': 367,\n 'todos no quadraredes (que es casi ': 368,\n 'imposible) contentaos con el agra-': 369,\n 'do de los que bien sienten, pues ': 370,\n 'aunque son los menos, es la mejor ': 371,\n 'parte, y principalmente con hazer ': 372,\n 'lo que deveys. ': 373,\n 'Para con Dios, y todo lo to-': 375,\n 'cante a Religion': 376,\n 'PUES el mejor, y ': 378,\n 'cierto principio de ': 379,\n 'las cosas es Dios ': 380,\n 'guia, y fundamen': 381,\n 'to de toda Virtud ': 382,\n '(y conocieron esto ': 383,\n 'aun los Gentiles, que Tito Livio': 384,\n 'PDF p9': 386,\n 'nos dexo escrito: al que sirve a Dios': 388,\n 'todo le sucede bien con este prin': 389,\n 'cipio, y assi lo sintieron Platon, Ci-': 390,\n 'ceron, Socrates, y Aristoteles) Digo': 391,\n 'lo primero, que el titulo principal': 392,\n 'de que os aveys de preciar, ha de': 393,\n 'ser el de Christiano, teniendo por': 394,\n 'asentado el faltar a todos, para con-': 395,\n 'servaros en merecer este, que reci-': 396,\n 'bistes de Dios tan de valde, y de que': 397,\n 'siempre os aveys de reconocer in-': 398,\n 'digno. ': 399,\n 'En las cosas tocantes a la autori-': 400,\n 'dad del Sumo Pontifice, e Inquisi-': 401,\n 'cion, asistid con particular gusto y': 402,\n 'desuelo siempre que seays menes-': 403,\n 'ter, y hablad de lo uno, y lo otro': 404,\n 'con gran veneracion, sintiendo con': 405,\n 'igual piedad. ': 406,\n 'A las censuras de la Iglesia tened': 407,\n 'mucho respeto, y por todos los in-': 408,\n 'tereses del mundo ni un instante os': 409,\n 'descuydeys en incurrir en ellas, ni': 410,\n 'lo consintays a vuestros ministros y ': 411,\n 'vasallos, como tampoco ser por cau-': 413,\n 'sa vuestra nadie descomulgado.': 414,\n 'Hablad muy bien siempre de to-': 415,\n 'das las Religiones, y favorecedlas ': 416,\n 'quanto os sea possible, y aun a qual-': 417,\n 'quiera Religioso y Sacerdote (que': 418,\n 'es la mayor dignidad, pues según': 419,\n 'San Leon excede a la Real) venerad': 420,\n 'y respetad en toda ocasión, tenien-': 421,\n 'do por buena suerte el ofrecerseos': 422,\n 'alguna de mostrarles rendimiento, ': 423,\n 'y no lo rehuseys en publico (por lo': 424,\n 'que deveys al buen exemplo) no': 425,\n 'consintays jamas que dellos se ha-': 426,\n 'ble con nota, ni indecencia delan-': 427,\n 'te de vos, aunque sea en materia ': 428,\n 'leve y no os contenteys con esto, ': 429,\n 'mas estad tan lexos de recibir es-': 430,\n 'candalo por falta (aunque sea muy ': 431,\n 'publica) de cualquier Eclesiastico, ': 432,\n 'o Religioso< y hazed tanta estima': 433,\n 'de las Religiones, que si de alguna': 434,\n 'de las aprobadas por la Iglesia fues': 435,\n 'se possible ver apostatar a todos los': 436,\n 'PDF p10': 438,\n 'De ella, quedando solo uno que la': 440,\n 'observase, en el venereys, y estimeys': 441,\n 'su Religion con la fineza, que vien-': 442,\n 'dola muy poblada de Santos: y tan': 443,\n 'capaz ha de ser vuestro corazon que ': 444,\n 'quepa en el, el amor de todas las': 445,\n 'Religiones, assi de las que comuni-': 446,\n 'cays, como de las que nunca aveys': 447,\n 'visto, que esse sera el mas desinte-': 448,\n 'ressado, fundandole solo en ser co-': 449,\n 'lumnas de la Iglesia. ': 450,\n 'No tendreys por ningun caso': 451,\n 'puntos de cortesias con los Obispos': 452,\n 'y Prelados, tomad dellos con esti-': 453,\n 'macion cualquiera, y dadles la qu': 454,\n 'quisieren, teniendo os por inferior': 455,\n 'del que mas lo es entre los Minis': 456,\n 'tros de la Iglesia. ': 457,\n 'Con gente virtuosa, y dedidada a': 458,\n 'Dios nunca sustenteys diferencias,': 459,\n 'que saldreys mal dellas, porque los ': 460,\n 'ampara el mas poderoso patroci-': 461,\n 'nio, assistiendolos siempre su divina': 462,\n 'Magestad.': 463,\n 'A los Religiosos, y Religiosas de': 465,\n 'los Conventos de vuestros Estados, ': 466,\n 'dad toda la cortesia que a los de o-': 467,\n 'tras partes, y concededles las cosas': 468,\n 'de gracia factibles que os pidieren': 469,\n 'por criados, y vassallos, para que les': 470,\n 'queden bien afectos; y siempre vos': 471,\n 'ganareys en su comunicación, bus-': 472,\n 'cando para ello los mas aprovecha-': 473,\n 'dos, y Doctos: pero mirad mucho en': 474,\n 'no distraerlos, ni hazerlos faltar por': 475,\n 'vuestro respecto a los de sus institu-': 476,\n 'tos, como tampoco a los Prelados': 477,\n 'en lo mas conveniente a las Reli-': 478,\n 'giones: No os mateys en governar-': 479,\n 'las, que ni lo entienden, ni es de-': 480,\n 'cente introduzirse en esto de los secu-': 481,\n 'lares, aunque sean fundadores, pues': 482,\n 'por serlo han de dessear mas la per-': 483,\n 'feccion de aquellas obras, que el ': 484,\n 'cumplimiento de sus antojos.': 485,\n 'Parece que siendo de ordinario': 486,\n 'en los lugares propios hijos de vas-': 487,\n 'sallos los Clerigos, tendra algun in': 488,\n 'PDF p11': 490,\n 'conveniente tratarlos con tanta fa-': 492,\n 'miliaridad, pero en casos forzosos ': 493,\n 'sea con cortesia, y oyendolos alo-': 494,\n 'menos en pie, y haziendolos a': 495,\n 'ellos cubrir; y aun con vuestros Ca-': 496,\n 'pellanes no useys del, vos ni dexeys': 497,\n 'de quitarles el sombrero, hazed que': 498,\n 'se cubran, y para no estar en pie, en': 499,\n 'vendiciendo la mesa, que se vayan.': 500,\n 'Preciaos de cumplir con las obli-': 501,\n 'gaciones devidas a vuestra Parro-': 502,\n 'chia donde quiera que esteys, no': 503,\n 'pretendiendo exempciones en esto, ': 504,\n 'ni ceremonias nuevas para vuestra': 505,\n 'persona, sino admitiendo con hu-': 506,\n 'mildad las que hallaredes introdu-': 507,\n 'zidas en vuestro Estado con los an-': 508,\n 'tecessores señores del. ': 509,\n 'Respetad mucho los Templos, es-': 510,\n 'tando en ellos con gran compostura': 511,\n 'descubierto, y de rodillas (no con': 512,\n 'una sola) quanto podays, meditando': 513,\n 'con el corazon lo que pronuncian': 514,\n 'los labios, atentos los ojos a la Ma-': 515,\n 'gestad que alli preside. No seays de': 517,\n 'los inquietos, y vagueadores q vio': 518,\n 'el Propheta; ni permitireys os ha-': 519,\n 'blen en negocios, sino lo muy for-': 520,\n 'zoso, y si para esto algun criado hin-': 521,\n 'care la rodilla, sepa ha de ser enton-': 522,\n 'ces al Altar, y no a vos.': 523,\n 'Assistid a los divinos Oficios siem-': 524,\n 'pre que podays, no permitiendo si-': 525,\n 'tial estando patente el Santissimo': 526,\n 'Sacramento, ni en Semana Santa. ': 527,\n 'Oyd de buena gana Sermones, ': 528,\n 'con desseo de aprovechar, y no di-': 529,\n 'gays mal de ninguno, aunque no os ': 530,\n 'aya parecido bien. ': 531,\n 'Acudireys a las processiones, imi-': 532,\n 'tando alli interiormente el espiritu': 533,\n 'del Santo Rey David. ': 534,\n 'De las Iglesias de vuestro Estado': 536,\n 'hareys cuydar mucho (q no esta des-': 537,\n 'obligados desto los Señores tempora-': 538,\n 'les, por tocar principalmete a los O-': 539,\n 'bispos) procurad las tega co todas de-': 540,\n 'cencia, y proveydas de lo necessario;': 541,\n 'PDF p12': 543,\n 'y para edificarlas, y adornarlas, con ': 545,\n 'Retablos, como tambien para Her-': 546,\n 'mitas, y otras cosas de devocion de ': 547,\n 'vuestros vassallos los ayudareys con limosnas, ': 548,\n 'y se las alabareys. ': 549,\n 'Para las fiestas de acavallo, y ar-': 551,\n 'mas que huvieredes de hazer, to-': 552,\n 'mad motivos devotos en honra de ': 553,\n 'nuestro Señor, y de sus Santos, por-': 554,\n 'que saqueys provecho de todo, y no': 555,\n 'aya en ellas desgracias. ': 556,\n 'Cada año celebrareys con solem-': 557,\n 'nidad de la Iglesia (a lo menos) la': 558,\n 'Fiesta del Santo de vuestro nombre.': 559,\n 'Y del Angel de la Guarda, a quien': 560,\n 'aveys de tener gran respeto, conti-': 561,\n 'nua consideracion de traerle pre-': 562,\n 'sente, y agradecimiento a los mu-': 563,\n 'chos beneficios, que según ponde-': 564,\n 'ran los Santos Doctores Bernardo, ': 565,\n 'Ambrosio, y Basilio, exercitan estos': 566,\n 'gloriosos Angeles con todas las al-': 567,\n 'mas de que tienen tutela; Platon, ': 568,\n 'y otros muchos Philosophos Gen-': 569,\n 'Tiles lo conocieron assi, y los vene-': 571,\n 'raron por ello. ': 572,\n 'Mas vuestra mayor Fiesta reser-': 573,\n 'vad para el dia en que cumplieredes': 574,\n 'años de Bautismo, este han de ser las': 575,\n 'galas, y regozijo, en reconocimien-': 576,\n 'to de averos hecho Dios hijo de su ': 577,\n 'Iglesia, y no como se acostumbra en': 578,\n 'el que nacimos hijos de ira, cuya': 579,\n 'memoria siepre nos devria entriste-': 580,\n 'zer, enternezer, y lastimar; y una': 581,\n 'de las acciones que aveys de hazer': 582,\n 'con mucha atencion y devocion en': 583,\n 'el dia desta Fiesta, ha de ser ofrecer': 584,\n 'en la Missa (saliendo de vuestro': 585,\n 'puesto a besar la mano al Sacerdote)': 586,\n 'tantas monedas de oro, quantos ': 587,\n 'años cumplieredes, para que se gas-': 588,\n 'ten en ornato de la Iglesia, o limos-': 589,\n 'nas. ': 590,\n 'Vuestra principal devocion em-': 591,\n 'plead en el Santissimo Sacramento': 592,\n 'del Altar, y aunque no os ha de mo-': 593,\n 'tivar a ello interes, sino el amor, mi-': 594,\n 'PDF p13': 596,\n 'rad lo que ha engrandezido Dios': 598,\n 'por este camino sobre todas las fa-': 599,\n 'milias del mundo, la imperial Casa': 600,\n 'de Austria, imitad los actos de Fe': 601,\n 'visa que muchos han hecho con': 602,\n 'este divino Misterio. De uno de los': 603,\n 'Potentados de Italia de nuestros': 604,\n 'tiempos, oi, que aviendo de traerle': 605,\n 'a la hora de su muerte el Viatico': 606,\n 'hizo colgar, cubrir de alhombras, y ': 607,\n 'perfumar su casa, inchirla de lumi-': 608,\n 'narias, y todo genero de rico ador-': 609,\n 'no, y musica, y que al entrar este Su-': 610,\n 'premo Rey por sus puertas, se dispa-': 611,\n 'rase la artilleria del Castillo, que le': 612,\n 'hizo una gran salva. A este exemplo ': 613,\n 'añadire otro de la Condesa de ': 614,\n 'Buendia Doña Maria de Acuña, ': 615,\n 'bien conocida por su rara virtud. ': 616,\n 'Esta Señora llegando a su casa un': 617,\n 'dia, que venia de Missa, y oyendo': 618,\n 'trayan la comunion a un cochero': 619,\n 'suyo, quiso entrar en el aposento ': 620,\n 'donde estava, y viendole (como lo': 621,\n 'avia juzgado) tan indecente para es-': 623,\n 'perar tal huesped, mandando ocu-': 624,\n 'par los reposteros en limpiarle, y': 625,\n 'colgarle con lo mejor de su casa, ': 626,\n 'y a los q le acopanava en coponer un': 627,\n 'curioso Altar todo muy perfumado, ': 628,\n 'assistio alli hasta q recibio, y acopaño': 629,\n '(al salir) el Santissimo Sacramento: lo': 630,\n 'qual hareys vos, no solo encontran-': 631,\n 'dole, sino buscando ocasiones para': 632,\n 'ello, alumbradle por vuestra perso-': 633,\n 'na, y las de vuestros pajes y criados, ': 634,\n 'tomad la esclavitud suya (y de la': 635,\n 'Virgen nuestra Señora, que ha de ': 636,\n 'ser vuestro amparo y Madre) y al fin': 637,\n 'en todas ocasiones reverenciad, y ': 638,\n 'servid a aquel Divino Señor Sacra-': 639,\n 'mentado en el Misterio de Fe que ': 640,\n 'mas la manifiesta, pues hasta los irra-': 641,\n 'cionales nos enseñan esto, como en-': 642,\n 'tre otros muchos se vio en la oveji-': 643,\n 'ta que crio San Francisco, y el cor-': 644,\n 'derillo, de que escribe Estephano': 645,\n 'Iuliaco.': 646,\n 'PDF p14': 648,\n '--this part intentionally left blank to check after test--': 658,\n 'PDF p15': 652,\n 'PDF p16': 656}"
     },
     "execution_count": 3,
     "metadata": {},
     "output_type": "execute_result"
    }
   ],
   "source": [
    "word_to_index = {word : index for index, word in enumerate(padilla_text)}\n",
    "word_to_index"
   ],
   "metadata": {
    "collapsed": false,
    "ExecuteTime": {
     "end_time": "2024-03-27T10:07:39.445296Z",
     "start_time": "2024-03-27T10:07:39.431068Z"
    }
   },
   "id": "ec931d1ef8ad7b9d",
   "execution_count": 3
  },
  {
   "cell_type": "code",
   "outputs": [
    {
     "data": {
      "text/plain": "[7, 30, 82, 134, 178, 230, 282, 334, 386, 438, 490, 543, 596, 648]"
     },
     "execution_count": 4,
     "metadata": {},
     "output_type": "execute_result"
    }
   ],
   "source": [
    "index_of_page_start = [word_to_index[f\"PDF p{i}\"] for i in range(1, 15)]\n",
    "index_of_page_start"
   ],
   "metadata": {
    "collapsed": false,
    "ExecuteTime": {
     "end_time": "2024-03-27T10:07:40.159641Z",
     "start_time": "2024-03-27T10:07:40.152789Z"
    }
   },
   "id": "9f074f09d54830a0",
   "execution_count": 4
  },
  {
   "cell_type": "code",
   "outputs": [
    {
     "data": {
      "text/plain": "[['DEDICATORIA',\n  'EN LOS CONSEJOS',\n  'que dexo a sus hijo, e hija',\n  'mayores una gran Señora',\n  'destos Reynos de España',\n  'que por justos respec-',\n  'tos se ocultó su',\n  'nombre. ',\n  '',\n  'SIENDO (hijos',\n  'mios) tan cierto, ',\n  'que el virtuoso ser',\n  'es el que por obli-',\n  'gacion han de dar',\n  'a los hijos sus Pa-',\n  'dres, y por el que principalmente',\n  'ellos les pueden quedar obligados;',\n  'desseando yo cumplir en esto la par',\n  'te que me toca, y executaros en la',\n  'vuestra, no aviendose servido nues-'],\n ['tro Señor por sus rectisimos y ocul',\n  'tos juyzios de darme tiempo, para ',\n  'que en vuestra educacion lo mani',\n  'festasse, pues me hallo tantos meses ',\n  'ha rendida en esta cama, a una en',\n  'fermedad tal, que desde su princi',\n  'pio me amenaza con la muerte, y ',\n  'vuestra orfandad en tiernos años, ',\n  'asi pues como os di al mundo con ',\n  'dolores, con los de tan penosos ac-',\n  'cidentes, os procuro encaminar ',\n  'ahora a Dios, y que renazcays de mi ',\n  'para él, por medio de la virtud, a ',\n  'que os exorto con estos documen',\n  'tos (que he recogido con el desve-',\n  'lo posible) juzgando es la mas esti-',\n  'mable herencia que puedo dexaros ',\n  'en prendas del entrañable amor ',\n  'que os tengo, por este, y en primer ',\n  'lugar por el que deveys a Dios, os ',\n  'pido, y encargo, que me libreys la ',\n  'paga en el puntual exercicio dellos, ',\n  'y en premio os prometo (con mi ',\n  'bendicion, que desde aquí os doy) ',\n  '',\n  'de parte de Dios los doce mas ex',\n  'celentes que un Maestro de espiri-',\n  'tu largamente escribe, y son en su-',\n  'ma: que tendra su divina Magestad ',\n  'providencia particular de vosotros, ',\n  'y os concedera la gracia del Espíri-',\n  'tu Santo, sus consolaciones, y lum-',\n  'bre sobrenatural, la alegría de la ',\n  'buena conciencia, la esperanza en la ',\n  'divina misericordia, la verdadera li',\n  'bertad, y paz interior, oydo grato a ',\n  'vuestras oraciones, su asistencia, y ',\n  'favor en los trabajos, y benciciones ',\n  'que en la Santa Escritura promete ',\n  'a los virtuosos de todo lo temporal, ',\n  'y ultimamente, glorioso y alegre ',\n  'fin, que cada cosa destas por si pu-',\n  'diera sernos incentivo para seguir ',\n  'el camino de la virtud, aunque no ',\n  'nos tuviera Dios de antemano o-',\n  'bligados a ella, por ser el que es, y ',\n  'por los inestimables beneficios ge',\n  'nerales de la creacion, conserva-',\n  'cion, redempcion, justificacion, y'],\n ['predeterminacion, a q se añaden en ca-',\n  'da uno los particulares suyos. Aqui ',\n  'os hago memoria de la calidad que ',\n  'os dio, que se funda en la excelencia ',\n  'de la virtud, origen de que se deriva ',\n  'qualquiera verdadera nobleza, y ',\n  'pues es deuda, y efecto de la virtud, ',\n  'sed tales como ella os obliga a ser, ',\n  'mirad que no solo es necesaria, sino ',\n  'forzosa en los nobles la virtud, y ',\n  'que el que la busca, es el que se ',\n  'muestra de más generoso, y noble ',\n  'animo, y como dixo Bruno Sigui-',\n  'no, puede ser mas noble el esclavo ',\n  'que su señor, pues consiste la noble-',\n  'za mayor en mas virtud, y nace de-',\n  'lla la nobleza, conservase en ella, ',\n  'queda cadaver si le falta, por ser el ',\n  'alma, y vida de la nobleza la virtud, ',\n  'ella tiene mayor fuerza que todas ',\n  'las armas, y tan grande claridad, que ',\n  'aunque este en un lugar obscuro, a si ',\n  'misma se haze luz como la más rica ',\n  'de las piedras, q es el Carbunco, sola ',\n  '',\n  'ella es suficiente premio del virtuo-',\n  'so: es tan noble, que ni puede usar ',\n  'mal de nada, ni nadie mal della, y el ',\n  'sujeto propio, y asiento suyo, es el ',\n  'más excelente, pues en el hombre ',\n  'es el corazon, y en el mundo los ',\n  'Principes, y Reyes; esta sola es la ',\n  'que quita el sentimiento de las es-',\n  'pinas de la vida, y contra ella no ',\n  'tienen las calamidades más fuerza ',\n  'que la niebla contra el Sol. Socra-',\n  'tes preguntado. Por Iorgias, si te',\n  'nía por dichoso al Rey de Persia, ',\n  'respondio: No puedo juzgar de es-',\n  'so, sin saber quanta virtud tiene. Y ',\n  'conforma con esto lo que Seneca ',\n  'después de largos discursos conclu-',\n  'ye, de que en ella consiste la bien',\n  'aventurada, y mas feliz vida, a ',\n  'que añade, que sola la virtud es el ',\n  'propio bien del hombre, pues to-',\n  'das las demas cosas humanas se con-',\n  'sumen, y ella da muestras de natu',\n  'raleza eterna, no aviendo otra co-'],\n ['sa de immortal, que a los mortales ',\n  'toque. Para que conozcays pues, ',\n  'que es la virtud de que aqui os ha-',\n  'blo en general (remitiendo para ',\n  'adelante lo particular) dize Aristo-',\n  'teles, que es un habito para elegir ',\n  'lo recto, el qual haze bueno al hom-',\n  'bre y sus obras, y segun la difinen ',\n  'San Agustin, y Santo Thomas; es ',\n  'una qualidad del alma, con que se ',\n  'vive rectamente, y la que yo creo ',\n  'os condederá nuestro Señor, obli-',\n  'gándole con pidírsela, y disponer-',\n  'os de vuestra parte; assi sea como ',\n  'yo desseo, y que os de larga ',\n  'vida para grangear ',\n  'en ella mucha ',\n  'gloria. ',\n  '',\n  'Consejos que dexó la dicha ',\n  'Señora a su hijo ',\n  'Primogénito.',\n  '',\n  'No de los enga-',\n  'ños injustamente ',\n  'más recibidos en ',\n  'el mundo, es creer, ',\n  'que los bienes na',\n  'turales, en que al-',\n  'gunos por privilegio nacen here-',\n  'dados, son para vivir mas licencio-',\n  'samente con solo estima propia, y ',\n  'desprecio de los otros, con super-',\n  'fluos regalos, y soberania tiranica, ',\n  'entregandose de tal suerte a todo ',\n  'genero de vicios, que estos tengan ',\n  'campal guerra, sobre ser cada uno ',\n  'el mayor. Y assi, si bien ay algunos ',\n  'grandes Señores, que conocen ser ',\n  'la verdadera calidad de la Virtud, y la ',\n  'mayor, no la heredada, sino la pro-'],\n ['pia (que procuran) pero son mas',\n  ' los que dexandose llevar de incli-',\n  'naciones depravadas, y aduladores ',\n  '(peste de la Nobleza) usan mal de ',\n  'la autoridad, y rentas con que se ',\n  'hallan, tomando por armas contra ',\n  'Dios, las mercedes que del recibie',\n  'ron, y desestimandose, con lo que ',\n  'piensan se engrandecen, pues en to',\n  'das las cosas quieren bondad sino ',\n  'en si mismos, como dixo San Agus-',\n  'tin: y siendo de los que David dize ',\n  'no conocieron la honra en que fue-',\n  'ron criados, y la pusieron en lo que ',\n  'mas los abatio, pues consistiendo la ',\n  'verdadera en servir, y agradar a ',\n  'Dios, vemos q dan en hazerse estos ',\n  'sectarios, y cabezas mostruosas de ',\n  'vicios, professando unos la valen',\n  'tia (en ellos falsa y civil) otros ser ',\n  'graciosos, hurtando el oficio a los ',\n  'truhanes, otros sabios muy por lo ',\n  'inchado, unos enfadados de todos, ',\n  'y descorteses, Poetas con agenos ',\n  '',\n  'versos: los locos, y los que mas lo ',\n  'son, enamorados< y llega la desdicha ',\n  'de nuestros tiempos a ver baylar ',\n  'como mugeres, nietos de los que ',\n  'truxeron casi toda su vida el peso ',\n  'de los Arneses sobre si, y las armas ',\n  'en la mano, con que les ganaron ',\n  'lo que tan indignamente posseen. ',\n  'Tampoco faltan otros, que hazen ',\n  'gracia de exceder en los brindis de ',\n  'los combites, y de no jugar limpio, ',\n  'ni tratar verdad< y gala de vivir mu',\n  'chos años en mal estado (descuydo ',\n  'digno de ser llorado en España) por ',\n  'la educación de sus Nobles, y el re',\n  'presentarle yo en estas lastimosas ',\n  'verdades, es como pintaros aquí la ',\n  'fealdad de los vicios, para que con ',\n  'horror della les cobreys el aborre',\n  'cimiento que desseo, creyendo jun-',\n  'tamente, que la vida del Señor gra-',\n  'nde (no contentandose con huyr de',\n  'llos) ha de ser un continuo exerci-',\n  'cio de virtudes, porque la magna-'],\n ['nima fortaleza, que es la propia, y ',\n  'connatural de los Ilustres, procede ',\n  'de corazon grande, y este debe des',\n  'preciar la bxeza mayor, que es el',\n  'abatirse a los vicios: segun Aristo-',\n  'teles, y Ciceron, consiste en tres co-',\n  'sas, desestimar todas las exteriores, ',\n  'sufrir mucho por la Virtud, y por ',\n  'ella acometer arduas y grandes em-',\n  'presas en beneficio comun: y la for-',\n  'taleza Christiana, es sufrir, y hazer ',\n  'mucho por Dios, y su gloria, y bien ',\n  'de todos, venciendose uno a si mis-',\n  'mo, triunfo a que esta vinculada la ',\n  'verdadera grandeza. Considerad ',\n  'pues, que la honra, y hazienda os la ',\n  'dio Dios para repartirla, y que ',\n  'aveys nacido tanto para los demas, ',\n  'como para vos mismo: assi lo dixo ',\n  'Ciceron del Noble, y creed, que ',\n  'son talentos de que les aveys de dar ',\n  'cuenta muy estrecha, y carga con ',\n  'que os ha obligado a ser defensor',\n  'es de su Fe y Religion, accerrimo per-',\n  '',\n  'seguidor de los vicios en vos, y en ',\n  'quantos corrieren por vuestra cuen',\n  'ta, y exemplo de virtud a todos, ',\n  'que según el que nos dieron los Ro',\n  'manos en aquellos dos tempos, pa-',\n  'ra entrar en el de la honra, se ha de ',\n  'passar primero por el de la virtud, ',\n  'y no os parezca que es mudaros de ',\n  'profession obligaros a esto, y daros ',\n  'la de Religioso, que seria hazer ',\n  'agravio a la Nobleza, donde se ha ',\n  'de hallar lo mejor de cada estado, ',\n  'de los Prelados, el ser limosneros: ',\n  'de los Religiosos, el zelo y devo-',\n  'cion : de buenos Reyes, el exerci-',\n  'cio de la justicia : de los Soldados, el ',\n  'valor y alentado corazon : de los Pa-',\n  'dres de Familias, la piedad y amor ',\n  'para con sus subditos : y aun de los ',\n  'Artifices, el huyr la ociosidad, rin-',\n  'diendose al incansable trabajo, que ',\n  'es obligacion poner en el beneficio ',\n  'y buen gobierno d elos vassallos, el ',\n  'qual pagan con las rentas, y sin esse'],\n ['desuelo no podrian obtenerse jus-',\n  'tamente. Si soys el que deveys a ',\n  'Dios, y a vuestra sangre, aveys de ',\n  'exercitar con su divina Magestad ',\n  'las tres Virtudes Theologales, y de ',\n  'las Cardinales, y Morales la Pruden-',\n  'cia con todos, y en todos tiempos ',\n  'la Iusticia y equidad con vuestros ',\n  'subditos, Fortaleza, Templanza, ',\n  'Continencia en vos mismo, Obe-',\n  'diencia con vuestro Rey, y Padre ',\n  '(que la de la Iglesia y Confessor en ',\n  'lo primero se incluye) Piedad con ',\n  'todos, y mas con los pobres afligi',\n  'dos y enfermos, Liberalidad, Pacien',\n  'cia, y Afabilidad (grave en las oca-',\n  'siones que la pidieren) con vuestros ',\n  'familiares, amigos, y hermanos: Re-',\n  'signacion en los trabajos, y en las ',\n  'prosperidades, animo agradecido a ',\n  'Dios, con desprecio dellas en quan-',\n  'to no sean importantes para bolver-',\n  'selas a el. Esto es lo que pretendo ',\n  'aquí individuaros, y enseñaros con ',\n  '',\n  'amor, y obligacion de Madre, por ',\n  'descuento de las que con el mas ',\n  'propio suyo, que de los hijos, ',\n  'los crian afeminados, y toleran ma',\n  'las costumbres. Bien veo, que sien-',\n  'do tan varias las condiciones huma-',\n  'nas, es muy dificil el dar reglas, y ',\n  'preceptos a una, que la ajusten al ',\n  'trato de todas pero estas generales ',\n  'van sugetas al dominio de la prud-',\n  'encia, que se ha de usar en la apli-',\n  'cación, según los estados, tiempos, ',\n  'lugares, y condiciones, porque a es-',\n  'ta virtud, q es guia, y Maestra de to-',\n  'das, Cicero la llamo justamete Arte ',\n  'de la vida, y Aristoteles conocio sin ',\n  'luz de Fe, q no la podia tener verda-',\n  'dera ninguno, que no fuesse Vir-',\n  'tuoso, en cuya conformidad dize ',\n  'San Basilio, que ay dos prudencias, ',\n  'una Christiana, y otra Gentilica, que ',\n  'es la fagacidad, siempre encamina-',\n  'da a engañar, y a la particular con-',\n  'veniencia de la primera os preciad, '],\n ['y usad en todas vuestras acciones ',\n  'con sencillez recatada, para conocer ',\n  'las maquinas de los maliciosos, y no ',\n  'ser engañado dellos. Espero pues ',\n  'que llegareys con el exercicio des-',\n  'tos consejos, a ser un exemplar de ',\n  'buenos Cavalleros, y grandes Seño-',\n  'res, imitando la Religion del Em-',\n  'perador Constantino, el valor de ',\n  'Carlo Magno, el menosprecio del ',\n  'mundo y sus grandezas de Carlos ',\n  'Quinto, la clemencia del Santo Rey ',\n  'Luys, la templanza de Theodosio, ',\n  'constancia del Rey Ingles Artus, ',\n  'justicia y verdad de Gofredo de ',\n  'Bullon, prudencia del Rey Fernan-',\n  'do de Castilla, llamado el Santo, li-',\n  'beralidad de Don Alonso el Sexto, ',\n  'estudiosidad, y sabiduria del otro ',\n  'Don Alonso tan conocido por ella, ',\n  'que teniendo estos Principes el va-',\n  'lor y virtud natural del animo illus-',\n  'trado con el realce de nuestra Santa ',\n  'Fe, no necessitamos de valernos de ',\n  '',\n  'Numa, Anibal, Socrates, Cesar, Sci-',\n  'pion, Caton, Trajano, Platon, Ale-',\n  'xandro, Marco Aurelio, a quien se ',\n  'atribuyen las mismas virtudes, por-',\n  'que faltandoles la excelencia mayor ',\n  'de la verdadera Religion, no pu-',\n  'dieron ser en ellos perfectas: y si a ',\n  'todos no quadraredes (que es casi ',\n  'imposible) contentaos con el agra-',\n  'do de los que bien sienten, pues ',\n  'aunque son los menos, es la mejor ',\n  'parte, y principalmente con hazer ',\n  'lo que deveys. ',\n  '',\n  'Para con Dios, y todo lo to-',\n  'cante a Religion',\n  '',\n  'PUES el mejor, y ',\n  'cierto principio de ',\n  'las cosas es Dios ',\n  'guia, y fundamen',\n  'to de toda Virtud ',\n  '(y conocieron esto ',\n  'aun los Gentiles, que Tito Livio'],\n ['nos dexo escrito: al que sirve a Dios',\n  'todo le sucede bien con este prin',\n  'cipio, y assi lo sintieron Platon, Ci-',\n  'ceron, Socrates, y Aristoteles) Digo',\n  'lo primero, que el titulo principal',\n  'de que os aveys de preciar, ha de',\n  'ser el de Christiano, teniendo por',\n  'asentado el faltar a todos, para con-',\n  'servaros en merecer este, que reci-',\n  'bistes de Dios tan de valde, y de que',\n  'siempre os aveys de reconocer in-',\n  'digno. ',\n  'En las cosas tocantes a la autori-',\n  'dad del Sumo Pontifice, e Inquisi-',\n  'cion, asistid con particular gusto y',\n  'desuelo siempre que seays menes-',\n  'ter, y hablad de lo uno, y lo otro',\n  'con gran veneracion, sintiendo con',\n  'igual piedad. ',\n  'A las censuras de la Iglesia tened',\n  'mucho respeto, y por todos los in-',\n  'tereses del mundo ni un instante os',\n  'descuydeys en incurrir en ellas, ni',\n  'lo consintays a vuestros ministros y ',\n  '',\n  'vasallos, como tampoco ser por cau-',\n  'sa vuestra nadie descomulgado.',\n  'Hablad muy bien siempre de to-',\n  'das las Religiones, y favorecedlas ',\n  'quanto os sea possible, y aun a qual-',\n  'quiera Religioso y Sacerdote (que',\n  'es la mayor dignidad, pues según',\n  'San Leon excede a la Real) venerad',\n  'y respetad en toda ocasión, tenien-',\n  'do por buena suerte el ofrecerseos',\n  'alguna de mostrarles rendimiento, ',\n  'y no lo rehuseys en publico (por lo',\n  'que deveys al buen exemplo) no',\n  'consintays jamas que dellos se ha-',\n  'ble con nota, ni indecencia delan-',\n  'te de vos, aunque sea en materia ',\n  'leve y no os contenteys con esto, ',\n  'mas estad tan lexos de recibir es-',\n  'candalo por falta (aunque sea muy ',\n  'publica) de cualquier Eclesiastico, ',\n  'o Religioso< y hazed tanta estima',\n  'de las Religiones, que si de alguna',\n  'de las aprobadas por la Iglesia fues',\n  'se possible ver apostatar a todos los'],\n ['De ella, quedando solo uno que la',\n  'observase, en el venereys, y estimeys',\n  'su Religion con la fineza, que vien-',\n  'dola muy poblada de Santos: y tan',\n  'capaz ha de ser vuestro corazon que ',\n  'quepa en el, el amor de todas las',\n  'Religiones, assi de las que comuni-',\n  'cays, como de las que nunca aveys',\n  'visto, que esse sera el mas desinte-',\n  'ressado, fundandole solo en ser co-',\n  'lumnas de la Iglesia. ',\n  'No tendreys por ningun caso',\n  'puntos de cortesias con los Obispos',\n  'y Prelados, tomad dellos con esti-',\n  'macion cualquiera, y dadles la qu',\n  'quisieren, teniendo os por inferior',\n  'del que mas lo es entre los Minis',\n  'tros de la Iglesia. ',\n  'Con gente virtuosa, y dedidada a',\n  'Dios nunca sustenteys diferencias,',\n  'que saldreys mal dellas, porque los ',\n  'ampara el mas poderoso patroci-',\n  'nio, assistiendolos siempre su divina',\n  'Magestad.',\n  '',\n  'A los Religiosos, y Religiosas de',\n  'los Conventos de vuestros Estados, ',\n  'dad toda la cortesia que a los de o-',\n  'tras partes, y concededles las cosas',\n  'de gracia factibles que os pidieren',\n  'por criados, y vassallos, para que les',\n  'queden bien afectos; y siempre vos',\n  'ganareys en su comunicación, bus-',\n  'cando para ello los mas aprovecha-',\n  'dos, y Doctos: pero mirad mucho en',\n  'no distraerlos, ni hazerlos faltar por',\n  'vuestro respecto a los de sus institu-',\n  'tos, como tampoco a los Prelados',\n  'en lo mas conveniente a las Reli-',\n  'giones: No os mateys en governar-',\n  'las, que ni lo entienden, ni es de-',\n  'cente introduzirse en esto de los secu-',\n  'lares, aunque sean fundadores, pues',\n  'por serlo han de dessear mas la per-',\n  'feccion de aquellas obras, que el ',\n  'cumplimiento de sus antojos.',\n  'Parece que siendo de ordinario',\n  'en los lugares propios hijos de vas-',\n  'sallos los Clerigos, tendra algun in'],\n ['conveniente tratarlos con tanta fa-',\n  'miliaridad, pero en casos forzosos ',\n  'sea con cortesia, y oyendolos alo-',\n  'menos en pie, y haziendolos a',\n  'ellos cubrir; y aun con vuestros Ca-',\n  'pellanes no useys del, vos ni dexeys',\n  'de quitarles el sombrero, hazed que',\n  'se cubran, y para no estar en pie, en',\n  'vendiciendo la mesa, que se vayan.',\n  'Preciaos de cumplir con las obli-',\n  'gaciones devidas a vuestra Parro-',\n  'chia donde quiera que esteys, no',\n  'pretendiendo exempciones en esto, ',\n  'ni ceremonias nuevas para vuestra',\n  'persona, sino admitiendo con hu-',\n  'mildad las que hallaredes introdu-',\n  'zidas en vuestro Estado con los an-',\n  'tecessores señores del. ',\n  'Respetad mucho los Templos, es-',\n  'tando en ellos con gran compostura',\n  'descubierto, y de rodillas (no con',\n  'una sola) quanto podays, meditando',\n  'con el corazon lo que pronuncian',\n  'los labios, atentos los ojos a la Ma-',\n  '',\n  'gestad que alli preside. No seays de',\n  'los inquietos, y vagueadores q vio',\n  'el Propheta; ni permitireys os ha-',\n  'blen en negocios, sino lo muy for-',\n  'zoso, y si para esto algun criado hin-',\n  'care la rodilla, sepa ha de ser enton-',\n  'ces al Altar, y no a vos.',\n  'Assistid a los divinos Oficios siem-',\n  'pre que podays, no permitiendo si-',\n  'tial estando patente el Santissimo',\n  'Sacramento, ni en Semana Santa. ',\n  'Oyd de buena gana Sermones, ',\n  'con desseo de aprovechar, y no di-',\n  'gays mal de ninguno, aunque no os ',\n  'aya parecido bien. ',\n  'Acudireys a las processiones, imi-',\n  'tando alli interiormente el espiritu',\n  'del Santo Rey David. ',\n  '',\n  'De las Iglesias de vuestro Estado',\n  'hareys cuydar mucho (q no esta des-',\n  'obligados desto los Señores tempora-',\n  'les, por tocar principalmete a los O-',\n  'bispos) procurad las tega co todas de-',\n  'cencia, y proveydas de lo necessario;'],\n ['y para edificarlas, y adornarlas, con ',\n  'Retablos, como tambien para Her-',\n  'mitas, y otras cosas de devocion de ',\n  'vuestros vassallos los ayudareys con limosnas, ',\n  'y se las alabareys. ',\n  '',\n  'Para las fiestas de acavallo, y ar-',\n  'mas que huvieredes de hazer, to-',\n  'mad motivos devotos en honra de ',\n  'nuestro Señor, y de sus Santos, por-',\n  'que saqueys provecho de todo, y no',\n  'aya en ellas desgracias. ',\n  'Cada año celebrareys con solem-',\n  'nidad de la Iglesia (a lo menos) la',\n  'Fiesta del Santo de vuestro nombre.',\n  'Y del Angel de la Guarda, a quien',\n  'aveys de tener gran respeto, conti-',\n  'nua consideracion de traerle pre-',\n  'sente, y agradecimiento a los mu-',\n  'chos beneficios, que según ponde-',\n  'ran los Santos Doctores Bernardo, ',\n  'Ambrosio, y Basilio, exercitan estos',\n  'gloriosos Angeles con todas las al-',\n  'mas de que tienen tutela; Platon, ',\n  'y otros muchos Philosophos Gen-',\n  '',\n  'Tiles lo conocieron assi, y los vene-',\n  'raron por ello. ',\n  'Mas vuestra mayor Fiesta reser-',\n  'vad para el dia en que cumplieredes',\n  'años de Bautismo, este han de ser las',\n  'galas, y regozijo, en reconocimien-',\n  'to de averos hecho Dios hijo de su ',\n  'Iglesia, y no como se acostumbra en',\n  'el que nacimos hijos de ira, cuya',\n  'memoria siepre nos devria entriste-',\n  'zer, enternezer, y lastimar; y una',\n  'de las acciones que aveys de hazer',\n  'con mucha atencion y devocion en',\n  'el dia desta Fiesta, ha de ser ofrecer',\n  'en la Missa (saliendo de vuestro',\n  'puesto a besar la mano al Sacerdote)',\n  'tantas monedas de oro, quantos ',\n  'años cumplieredes, para que se gas-',\n  'ten en ornato de la Iglesia, o limos-',\n  'nas. ',\n  'Vuestra principal devocion em-',\n  'plead en el Santissimo Sacramento',\n  'del Altar, y aunque no os ha de mo-',\n  'tivar a ello interes, sino el amor, mi-'],\n ['rad lo que ha engrandezido Dios',\n  'por este camino sobre todas las fa-',\n  'milias del mundo, la imperial Casa',\n  'de Austria, imitad los actos de Fe',\n  'visa que muchos han hecho con',\n  'este divino Misterio. De uno de los',\n  'Potentados de Italia de nuestros',\n  'tiempos, oi, que aviendo de traerle',\n  'a la hora de su muerte el Viatico',\n  'hizo colgar, cubrir de alhombras, y ',\n  'perfumar su casa, inchirla de lumi-',\n  'narias, y todo genero de rico ador-',\n  'no, y musica, y que al entrar este Su-',\n  'premo Rey por sus puertas, se dispa-',\n  'rase la artilleria del Castillo, que le',\n  'hizo una gran salva. A este exemplo ',\n  'añadire otro de la Condesa de ',\n  'Buendia Doña Maria de Acuña, ',\n  'bien conocida por su rara virtud. ',\n  'Esta Señora llegando a su casa un',\n  'dia, que venia de Missa, y oyendo',\n  'trayan la comunion a un cochero',\n  'suyo, quiso entrar en el aposento ',\n  'donde estava, y viendole (como lo',\n  '',\n  'avia juzgado) tan indecente para es-',\n  'perar tal huesped, mandando ocu-',\n  'par los reposteros en limpiarle, y',\n  'colgarle con lo mejor de su casa, ',\n  'y a los q le acopanava en coponer un',\n  'curioso Altar todo muy perfumado, ',\n  'assistio alli hasta q recibio, y acopaño',\n  '(al salir) el Santissimo Sacramento: lo',\n  'qual hareys vos, no solo encontran-',\n  'dole, sino buscando ocasiones para',\n  'ello, alumbradle por vuestra perso-',\n  'na, y las de vuestros pajes y criados, ',\n  'tomad la esclavitud suya (y de la',\n  'Virgen nuestra Señora, que ha de ',\n  'ser vuestro amparo y Madre) y al fin',\n  'en todas ocasiones reverenciad, y ',\n  'servid a aquel Divino Señor Sacra-',\n  'mentado en el Misterio de Fe que ',\n  'mas la manifiesta, pues hasta los irra-',\n  'cionales nos enseñan esto, como en-',\n  'tre otros muchos se vio en la oveji-',\n  'ta que crio San Francisco, y el cor-',\n  'derillo, de que escribe Estephano',\n  'Iuliaco.']]"
     },
     "execution_count": 5,
     "metadata": {},
     "output_type": "execute_result"
    }
   ],
   "source": [
    "final_list = []\n",
    "for i in range(len(index_of_page_start) - 1):\n",
    "    final_list.append(padilla_text[index_of_page_start[i]+2:index_of_page_start[i+1]-1])\n",
    "final_list"
   ],
   "metadata": {
    "collapsed": false,
    "ExecuteTime": {
     "end_time": "2024-03-27T10:07:41.388579Z",
     "start_time": "2024-03-27T10:07:41.377286Z"
    }
   },
   "id": "38ad918477081be4",
   "execution_count": 5
  },
  {
   "cell_type": "code",
   "outputs": [
    {
     "data": {
      "text/plain": "[['DEDICATORIA',\n  'EN LOS CONSEJOS',\n  'que dexo a sus hijo, e hija',\n  'mayores una gran Señora',\n  'destos Reynos de España',\n  'que por justos respec-',\n  'tos se ocultó su',\n  'nombre. ',\n  'SIENDO (hijos',\n  'mios) tan cierto, ',\n  'que el virtuoso ser',\n  'es el que por obli-',\n  'gacion han de dar',\n  'a los hijos sus Pa-',\n  'dres, y por el que principalmente',\n  'ellos les pueden quedar obligados;',\n  'desseando yo cumplir en esto la par',\n  'te que me toca, y executaros en la',\n  'vuestra, no aviendose servido nues-'],\n ['tro Señor por sus rectisimos y ocul',\n  'tos juyzios de darme tiempo, para ',\n  'que en vuestra educacion lo mani',\n  'festasse, pues me hallo tantos meses ',\n  'ha rendida en esta cama, a una en',\n  'fermedad tal, que desde su princi',\n  'pio me amenaza con la muerte, y ',\n  'vuestra orfandad en tiernos años, ',\n  'asi pues como os di al mundo con ',\n  'dolores, con los de tan penosos ac-',\n  'cidentes, os procuro encaminar ',\n  'ahora a Dios, y que renazcays de mi ',\n  'para él, por medio de la virtud, a ',\n  'que os exorto con estos documen',\n  'tos (que he recogido con el desve-',\n  'lo posible) juzgando es la mas esti-',\n  'mable herencia que puedo dexaros ',\n  'en prendas del entrañable amor ',\n  'que os tengo, por este, y en primer ',\n  'lugar por el que deveys a Dios, os ',\n  'pido, y encargo, que me libreys la ',\n  'paga en el puntual exercicio dellos, ',\n  'y en premio os prometo (con mi ',\n  'bendicion, que desde aquí os doy) ',\n  'de parte de Dios los doce mas ex',\n  'celentes que un Maestro de espiri-',\n  'tu largamente escribe, y son en su-',\n  'ma: que tendra su divina Magestad ',\n  'providencia particular de vosotros, ',\n  'y os concedera la gracia del Espíri-',\n  'tu Santo, sus consolaciones, y lum-',\n  'bre sobrenatural, la alegría de la ',\n  'buena conciencia, la esperanza en la ',\n  'divina misericordia, la verdadera li',\n  'bertad, y paz interior, oydo grato a ',\n  'vuestras oraciones, su asistencia, y ',\n  'favor en los trabajos, y benciciones ',\n  'que en la Santa Escritura promete ',\n  'a los virtuosos de todo lo temporal, ',\n  'y ultimamente, glorioso y alegre ',\n  'fin, que cada cosa destas por si pu-',\n  'diera sernos incentivo para seguir ',\n  'el camino de la virtud, aunque no ',\n  'nos tuviera Dios de antemano o-',\n  'bligados a ella, por ser el que es, y ',\n  'por los inestimables beneficios ge',\n  'nerales de la creacion, conserva-',\n  'cion, redempcion, justificacion, y'],\n ['predeterminacion, a q se añaden en ca-',\n  'da uno los particulares suyos. Aqui ',\n  'os hago memoria de la calidad que ',\n  'os dio, que se funda en la excelencia ',\n  'de la virtud, origen de que se deriva ',\n  'qualquiera verdadera nobleza, y ',\n  'pues es deuda, y efecto de la virtud, ',\n  'sed tales como ella os obliga a ser, ',\n  'mirad que no solo es necesaria, sino ',\n  'forzosa en los nobles la virtud, y ',\n  'que el que la busca, es el que se ',\n  'muestra de más generoso, y noble ',\n  'animo, y como dixo Bruno Sigui-',\n  'no, puede ser mas noble el esclavo ',\n  'que su señor, pues consiste la noble-',\n  'za mayor en mas virtud, y nace de-',\n  'lla la nobleza, conservase en ella, ',\n  'queda cadaver si le falta, por ser el ',\n  'alma, y vida de la nobleza la virtud, ',\n  'ella tiene mayor fuerza que todas ',\n  'las armas, y tan grande claridad, que ',\n  'aunque este en un lugar obscuro, a si ',\n  'misma se haze luz como la más rica ',\n  'de las piedras, q es el Carbunco, sola ',\n  'ella es suficiente premio del virtuo-',\n  'so: es tan noble, que ni puede usar ',\n  'mal de nada, ni nadie mal della, y el ',\n  'sujeto propio, y asiento suyo, es el ',\n  'más excelente, pues en el hombre ',\n  'es el corazon, y en el mundo los ',\n  'Principes, y Reyes; esta sola es la ',\n  'que quita el sentimiento de las es-',\n  'pinas de la vida, y contra ella no ',\n  'tienen las calamidades más fuerza ',\n  'que la niebla contra el Sol. Socra-',\n  'tes preguntado. Por Iorgias, si te',\n  'nía por dichoso al Rey de Persia, ',\n  'respondio: No puedo juzgar de es-',\n  'so, sin saber quanta virtud tiene. Y ',\n  'conforma con esto lo que Seneca ',\n  'después de largos discursos conclu-',\n  'ye, de que en ella consiste la bien',\n  'aventurada, y mas feliz vida, a ',\n  'que añade, que sola la virtud es el ',\n  'propio bien del hombre, pues to-',\n  'das las demas cosas humanas se con-',\n  'sumen, y ella da muestras de natu',\n  'raleza eterna, no aviendo otra co-'],\n ['sa de immortal, que a los mortales ',\n  'toque. Para que conozcays pues, ',\n  'que es la virtud de que aqui os ha-',\n  'blo en general (remitiendo para ',\n  'adelante lo particular) dize Aristo-',\n  'teles, que es un habito para elegir ',\n  'lo recto, el qual haze bueno al hom-',\n  'bre y sus obras, y segun la difinen ',\n  'San Agustin, y Santo Thomas; es ',\n  'una qualidad del alma, con que se ',\n  'vive rectamente, y la que yo creo ',\n  'os condederá nuestro Señor, obli-',\n  'gándole con pidírsela, y disponer-',\n  'os de vuestra parte; assi sea como ',\n  'yo desseo, y que os de larga ',\n  'vida para grangear ',\n  'en ella mucha ',\n  'gloria. ',\n  'Consejos que dexó la dicha ',\n  'Señora a su hijo ',\n  'Primogénito.',\n  'No de los enga-',\n  'ños injustamente ',\n  'más recibidos en ',\n  'el mundo, es creer, ',\n  'que los bienes na',\n  'turales, en que al-',\n  'gunos por privilegio nacen here-',\n  'dados, son para vivir mas licencio-',\n  'samente con solo estima propia, y ',\n  'desprecio de los otros, con super-',\n  'fluos regalos, y soberania tiranica, ',\n  'entregandose de tal suerte a todo ',\n  'genero de vicios, que estos tengan ',\n  'campal guerra, sobre ser cada uno ',\n  'el mayor. Y assi, si bien ay algunos ',\n  'grandes Señores, que conocen ser ',\n  'la verdadera calidad de la Virtud, y la ',\n  'mayor, no la heredada, sino la pro-'],\n ['pia (que procuran) pero son mas',\n  ' los que dexandose llevar de incli-',\n  'naciones depravadas, y aduladores ',\n  '(peste de la Nobleza) usan mal de ',\n  'la autoridad, y rentas con que se ',\n  'hallan, tomando por armas contra ',\n  'Dios, las mercedes que del recibie',\n  'ron, y desestimandose, con lo que ',\n  'piensan se engrandecen, pues en to',\n  'das las cosas quieren bondad sino ',\n  'en si mismos, como dixo San Agus-',\n  'tin: y siendo de los que David dize ',\n  'no conocieron la honra en que fue-',\n  'ron criados, y la pusieron en lo que ',\n  'mas los abatio, pues consistiendo la ',\n  'verdadera en servir, y agradar a ',\n  'Dios, vemos q dan en hazerse estos ',\n  'sectarios, y cabezas mostruosas de ',\n  'vicios, professando unos la valen',\n  'tia (en ellos falsa y civil) otros ser ',\n  'graciosos, hurtando el oficio a los ',\n  'truhanes, otros sabios muy por lo ',\n  'inchado, unos enfadados de todos, ',\n  'y descorteses, Poetas con agenos ',\n  'versos: los locos, y los que mas lo ',\n  'son, enamorados< y llega la desdicha ',\n  'de nuestros tiempos a ver baylar ',\n  'como mugeres, nietos de los que ',\n  'truxeron casi toda su vida el peso ',\n  'de los Arneses sobre si, y las armas ',\n  'en la mano, con que les ganaron ',\n  'lo que tan indignamente posseen. ',\n  'Tampoco faltan otros, que hazen ',\n  'gracia de exceder en los brindis de ',\n  'los combites, y de no jugar limpio, ',\n  'ni tratar verdad< y gala de vivir mu',\n  'chos años en mal estado (descuydo ',\n  'digno de ser llorado en España) por ',\n  'la educación de sus Nobles, y el re',\n  'presentarle yo en estas lastimosas ',\n  'verdades, es como pintaros aquí la ',\n  'fealdad de los vicios, para que con ',\n  'horror della les cobreys el aborre',\n  'cimiento que desseo, creyendo jun-',\n  'tamente, que la vida del Señor gra-',\n  'nde (no contentandose con huyr de',\n  'llos) ha de ser un continuo exerci-',\n  'cio de virtudes, porque la magna-'],\n ['nima fortaleza, que es la propia, y ',\n  'connatural de los Ilustres, procede ',\n  'de corazon grande, y este debe des',\n  'preciar la bxeza mayor, que es el',\n  'abatirse a los vicios: segun Aristo-',\n  'teles, y Ciceron, consiste en tres co-',\n  'sas, desestimar todas las exteriores, ',\n  'sufrir mucho por la Virtud, y por ',\n  'ella acometer arduas y grandes em-',\n  'presas en beneficio comun: y la for-',\n  'taleza Christiana, es sufrir, y hazer ',\n  'mucho por Dios, y su gloria, y bien ',\n  'de todos, venciendose uno a si mis-',\n  'mo, triunfo a que esta vinculada la ',\n  'verdadera grandeza. Considerad ',\n  'pues, que la honra, y hazienda os la ',\n  'dio Dios para repartirla, y que ',\n  'aveys nacido tanto para los demas, ',\n  'como para vos mismo: assi lo dixo ',\n  'Ciceron del Noble, y creed, que ',\n  'son talentos de que les aveys de dar ',\n  'cuenta muy estrecha, y carga con ',\n  'que os ha obligado a ser defensor',\n  'es de su Fe y Religion, accerrimo per-',\n  'seguidor de los vicios en vos, y en ',\n  'quantos corrieren por vuestra cuen',\n  'ta, y exemplo de virtud a todos, ',\n  'que según el que nos dieron los Ro',\n  'manos en aquellos dos tempos, pa-',\n  'ra entrar en el de la honra, se ha de ',\n  'passar primero por el de la virtud, ',\n  'y no os parezca que es mudaros de ',\n  'profession obligaros a esto, y daros ',\n  'la de Religioso, que seria hazer ',\n  'agravio a la Nobleza, donde se ha ',\n  'de hallar lo mejor de cada estado, ',\n  'de los Prelados, el ser limosneros: ',\n  'de los Religiosos, el zelo y devo-',\n  'cion : de buenos Reyes, el exerci-',\n  'cio de la justicia : de los Soldados, el ',\n  'valor y alentado corazon : de los Pa-',\n  'dres de Familias, la piedad y amor ',\n  'para con sus subditos : y aun de los ',\n  'Artifices, el huyr la ociosidad, rin-',\n  'diendose al incansable trabajo, que ',\n  'es obligacion poner en el beneficio ',\n  'y buen gobierno d elos vassallos, el ',\n  'qual pagan con las rentas, y sin esse'],\n ['desuelo no podrian obtenerse jus-',\n  'tamente. Si soys el que deveys a ',\n  'Dios, y a vuestra sangre, aveys de ',\n  'exercitar con su divina Magestad ',\n  'las tres Virtudes Theologales, y de ',\n  'las Cardinales, y Morales la Pruden-',\n  'cia con todos, y en todos tiempos ',\n  'la Iusticia y equidad con vuestros ',\n  'subditos, Fortaleza, Templanza, ',\n  'Continencia en vos mismo, Obe-',\n  'diencia con vuestro Rey, y Padre ',\n  '(que la de la Iglesia y Confessor en ',\n  'lo primero se incluye) Piedad con ',\n  'todos, y mas con los pobres afligi',\n  'dos y enfermos, Liberalidad, Pacien',\n  'cia, y Afabilidad (grave en las oca-',\n  'siones que la pidieren) con vuestros ',\n  'familiares, amigos, y hermanos: Re-',\n  'signacion en los trabajos, y en las ',\n  'prosperidades, animo agradecido a ',\n  'Dios, con desprecio dellas en quan-',\n  'to no sean importantes para bolver-',\n  'selas a el. Esto es lo que pretendo ',\n  'aquí individuaros, y enseñaros con ',\n  'amor, y obligacion de Madre, por ',\n  'descuento de las que con el mas ',\n  'propio suyo, que de los hijos, ',\n  'los crian afeminados, y toleran ma',\n  'las costumbres. Bien veo, que sien-',\n  'do tan varias las condiciones huma-',\n  'nas, es muy dificil el dar reglas, y ',\n  'preceptos a una, que la ajusten al ',\n  'trato de todas pero estas generales ',\n  'van sugetas al dominio de la prud-',\n  'encia, que se ha de usar en la apli-',\n  'cación, según los estados, tiempos, ',\n  'lugares, y condiciones, porque a es-',\n  'ta virtud, q es guia, y Maestra de to-',\n  'das, Cicero la llamo justamete Arte ',\n  'de la vida, y Aristoteles conocio sin ',\n  'luz de Fe, q no la podia tener verda-',\n  'dera ninguno, que no fuesse Vir-',\n  'tuoso, en cuya conformidad dize ',\n  'San Basilio, que ay dos prudencias, ',\n  'una Christiana, y otra Gentilica, que ',\n  'es la fagacidad, siempre encamina-',\n  'da a engañar, y a la particular con-',\n  'veniencia de la primera os preciad, '],\n ['y usad en todas vuestras acciones ',\n  'con sencillez recatada, para conocer ',\n  'las maquinas de los maliciosos, y no ',\n  'ser engañado dellos. Espero pues ',\n  'que llegareys con el exercicio des-',\n  'tos consejos, a ser un exemplar de ',\n  'buenos Cavalleros, y grandes Seño-',\n  'res, imitando la Religion del Em-',\n  'perador Constantino, el valor de ',\n  'Carlo Magno, el menosprecio del ',\n  'mundo y sus grandezas de Carlos ',\n  'Quinto, la clemencia del Santo Rey ',\n  'Luys, la templanza de Theodosio, ',\n  'constancia del Rey Ingles Artus, ',\n  'justicia y verdad de Gofredo de ',\n  'Bullon, prudencia del Rey Fernan-',\n  'do de Castilla, llamado el Santo, li-',\n  'beralidad de Don Alonso el Sexto, ',\n  'estudiosidad, y sabiduria del otro ',\n  'Don Alonso tan conocido por ella, ',\n  'que teniendo estos Principes el va-',\n  'lor y virtud natural del animo illus-',\n  'trado con el realce de nuestra Santa ',\n  'Fe, no necessitamos de valernos de ',\n  'Numa, Anibal, Socrates, Cesar, Sci-',\n  'pion, Caton, Trajano, Platon, Ale-',\n  'xandro, Marco Aurelio, a quien se ',\n  'atribuyen las mismas virtudes, por-',\n  'que faltandoles la excelencia mayor ',\n  'de la verdadera Religion, no pu-',\n  'dieron ser en ellos perfectas: y si a ',\n  'todos no quadraredes (que es casi ',\n  'imposible) contentaos con el agra-',\n  'do de los que bien sienten, pues ',\n  'aunque son los menos, es la mejor ',\n  'parte, y principalmente con hazer ',\n  'lo que deveys. ',\n  'Para con Dios, y todo lo to-',\n  'cante a Religion',\n  'PUES el mejor, y ',\n  'cierto principio de ',\n  'las cosas es Dios ',\n  'guia, y fundamen',\n  'to de toda Virtud ',\n  '(y conocieron esto ',\n  'aun los Gentiles, que Tito Livio'],\n ['nos dexo escrito: al que sirve a Dios',\n  'todo le sucede bien con este prin',\n  'cipio, y assi lo sintieron Platon, Ci-',\n  'ceron, Socrates, y Aristoteles) Digo',\n  'lo primero, que el titulo principal',\n  'de que os aveys de preciar, ha de',\n  'ser el de Christiano, teniendo por',\n  'asentado el faltar a todos, para con-',\n  'servaros en merecer este, que reci-',\n  'bistes de Dios tan de valde, y de que',\n  'siempre os aveys de reconocer in-',\n  'digno. ',\n  'En las cosas tocantes a la autori-',\n  'dad del Sumo Pontifice, e Inquisi-',\n  'cion, asistid con particular gusto y',\n  'desuelo siempre que seays menes-',\n  'ter, y hablad de lo uno, y lo otro',\n  'con gran veneracion, sintiendo con',\n  'igual piedad. ',\n  'A las censuras de la Iglesia tened',\n  'mucho respeto, y por todos los in-',\n  'tereses del mundo ni un instante os',\n  'descuydeys en incurrir en ellas, ni',\n  'lo consintays a vuestros ministros y ',\n  'vasallos, como tampoco ser por cau-',\n  'sa vuestra nadie descomulgado.',\n  'Hablad muy bien siempre de to-',\n  'das las Religiones, y favorecedlas ',\n  'quanto os sea possible, y aun a qual-',\n  'quiera Religioso y Sacerdote (que',\n  'es la mayor dignidad, pues según',\n  'San Leon excede a la Real) venerad',\n  'y respetad en toda ocasión, tenien-',\n  'do por buena suerte el ofrecerseos',\n  'alguna de mostrarles rendimiento, ',\n  'y no lo rehuseys en publico (por lo',\n  'que deveys al buen exemplo) no',\n  'consintays jamas que dellos se ha-',\n  'ble con nota, ni indecencia delan-',\n  'te de vos, aunque sea en materia ',\n  'leve y no os contenteys con esto, ',\n  'mas estad tan lexos de recibir es-',\n  'candalo por falta (aunque sea muy ',\n  'publica) de cualquier Eclesiastico, ',\n  'o Religioso< y hazed tanta estima',\n  'de las Religiones, que si de alguna',\n  'de las aprobadas por la Iglesia fues',\n  'se possible ver apostatar a todos los'],\n ['De ella, quedando solo uno que la',\n  'observase, en el venereys, y estimeys',\n  'su Religion con la fineza, que vien-',\n  'dola muy poblada de Santos: y tan',\n  'capaz ha de ser vuestro corazon que ',\n  'quepa en el, el amor de todas las',\n  'Religiones, assi de las que comuni-',\n  'cays, como de las que nunca aveys',\n  'visto, que esse sera el mas desinte-',\n  'ressado, fundandole solo en ser co-',\n  'lumnas de la Iglesia. ',\n  'No tendreys por ningun caso',\n  'puntos de cortesias con los Obispos',\n  'y Prelados, tomad dellos con esti-',\n  'macion cualquiera, y dadles la qu',\n  'quisieren, teniendo os por inferior',\n  'del que mas lo es entre los Minis',\n  'tros de la Iglesia. ',\n  'Con gente virtuosa, y dedidada a',\n  'Dios nunca sustenteys diferencias,',\n  'que saldreys mal dellas, porque los ',\n  'ampara el mas poderoso patroci-',\n  'nio, assistiendolos siempre su divina',\n  'Magestad.',\n  'A los Religiosos, y Religiosas de',\n  'los Conventos de vuestros Estados, ',\n  'dad toda la cortesia que a los de o-',\n  'tras partes, y concededles las cosas',\n  'de gracia factibles que os pidieren',\n  'por criados, y vassallos, para que les',\n  'queden bien afectos; y siempre vos',\n  'ganareys en su comunicación, bus-',\n  'cando para ello los mas aprovecha-',\n  'dos, y Doctos: pero mirad mucho en',\n  'no distraerlos, ni hazerlos faltar por',\n  'vuestro respecto a los de sus institu-',\n  'tos, como tampoco a los Prelados',\n  'en lo mas conveniente a las Reli-',\n  'giones: No os mateys en governar-',\n  'las, que ni lo entienden, ni es de-',\n  'cente introduzirse en esto de los secu-',\n  'lares, aunque sean fundadores, pues',\n  'por serlo han de dessear mas la per-',\n  'feccion de aquellas obras, que el ',\n  'cumplimiento de sus antojos.',\n  'Parece que siendo de ordinario',\n  'en los lugares propios hijos de vas-',\n  'sallos los Clerigos, tendra algun in'],\n ['conveniente tratarlos con tanta fa-',\n  'miliaridad, pero en casos forzosos ',\n  'sea con cortesia, y oyendolos alo-',\n  'menos en pie, y haziendolos a',\n  'ellos cubrir; y aun con vuestros Ca-',\n  'pellanes no useys del, vos ni dexeys',\n  'de quitarles el sombrero, hazed que',\n  'se cubran, y para no estar en pie, en',\n  'vendiciendo la mesa, que se vayan.',\n  'Preciaos de cumplir con las obli-',\n  'gaciones devidas a vuestra Parro-',\n  'chia donde quiera que esteys, no',\n  'pretendiendo exempciones en esto, ',\n  'ni ceremonias nuevas para vuestra',\n  'persona, sino admitiendo con hu-',\n  'mildad las que hallaredes introdu-',\n  'zidas en vuestro Estado con los an-',\n  'tecessores señores del. ',\n  'Respetad mucho los Templos, es-',\n  'tando en ellos con gran compostura',\n  'descubierto, y de rodillas (no con',\n  'una sola) quanto podays, meditando',\n  'con el corazon lo que pronuncian',\n  'los labios, atentos los ojos a la Ma-',\n  'gestad que alli preside. No seays de',\n  'los inquietos, y vagueadores q vio',\n  'el Propheta; ni permitireys os ha-',\n  'blen en negocios, sino lo muy for-',\n  'zoso, y si para esto algun criado hin-',\n  'care la rodilla, sepa ha de ser enton-',\n  'ces al Altar, y no a vos.',\n  'Assistid a los divinos Oficios siem-',\n  'pre que podays, no permitiendo si-',\n  'tial estando patente el Santissimo',\n  'Sacramento, ni en Semana Santa. ',\n  'Oyd de buena gana Sermones, ',\n  'con desseo de aprovechar, y no di-',\n  'gays mal de ninguno, aunque no os ',\n  'aya parecido bien. ',\n  'Acudireys a las processiones, imi-',\n  'tando alli interiormente el espiritu',\n  'del Santo Rey David. ',\n  'De las Iglesias de vuestro Estado',\n  'hareys cuydar mucho (q no esta des-',\n  'obligados desto los Señores tempora-',\n  'les, por tocar principalmete a los O-',\n  'bispos) procurad las tega co todas de-',\n  'cencia, y proveydas de lo necessario;'],\n ['y para edificarlas, y adornarlas, con ',\n  'Retablos, como tambien para Her-',\n  'mitas, y otras cosas de devocion de ',\n  'vuestros vassallos los ayudareys con limosnas, ',\n  'y se las alabareys. ',\n  'Para las fiestas de acavallo, y ar-',\n  'mas que huvieredes de hazer, to-',\n  'mad motivos devotos en honra de ',\n  'nuestro Señor, y de sus Santos, por-',\n  'que saqueys provecho de todo, y no',\n  'aya en ellas desgracias. ',\n  'Cada año celebrareys con solem-',\n  'nidad de la Iglesia (a lo menos) la',\n  'Fiesta del Santo de vuestro nombre.',\n  'Y del Angel de la Guarda, a quien',\n  'aveys de tener gran respeto, conti-',\n  'nua consideracion de traerle pre-',\n  'sente, y agradecimiento a los mu-',\n  'chos beneficios, que según ponde-',\n  'ran los Santos Doctores Bernardo, ',\n  'Ambrosio, y Basilio, exercitan estos',\n  'gloriosos Angeles con todas las al-',\n  'mas de que tienen tutela; Platon, ',\n  'y otros muchos Philosophos Gen-',\n  'Tiles lo conocieron assi, y los vene-',\n  'raron por ello. ',\n  'Mas vuestra mayor Fiesta reser-',\n  'vad para el dia en que cumplieredes',\n  'años de Bautismo, este han de ser las',\n  'galas, y regozijo, en reconocimien-',\n  'to de averos hecho Dios hijo de su ',\n  'Iglesia, y no como se acostumbra en',\n  'el que nacimos hijos de ira, cuya',\n  'memoria siepre nos devria entriste-',\n  'zer, enternezer, y lastimar; y una',\n  'de las acciones que aveys de hazer',\n  'con mucha atencion y devocion en',\n  'el dia desta Fiesta, ha de ser ofrecer',\n  'en la Missa (saliendo de vuestro',\n  'puesto a besar la mano al Sacerdote)',\n  'tantas monedas de oro, quantos ',\n  'años cumplieredes, para que se gas-',\n  'ten en ornato de la Iglesia, o limos-',\n  'nas. ',\n  'Vuestra principal devocion em-',\n  'plead en el Santissimo Sacramento',\n  'del Altar, y aunque no os ha de mo-',\n  'tivar a ello interes, sino el amor, mi-'],\n ['rad lo que ha engrandezido Dios',\n  'por este camino sobre todas las fa-',\n  'milias del mundo, la imperial Casa',\n  'de Austria, imitad los actos de Fe',\n  'visa que muchos han hecho con',\n  'este divino Misterio. De uno de los',\n  'Potentados de Italia de nuestros',\n  'tiempos, oi, que aviendo de traerle',\n  'a la hora de su muerte el Viatico',\n  'hizo colgar, cubrir de alhombras, y ',\n  'perfumar su casa, inchirla de lumi-',\n  'narias, y todo genero de rico ador-',\n  'no, y musica, y que al entrar este Su-',\n  'premo Rey por sus puertas, se dispa-',\n  'rase la artilleria del Castillo, que le',\n  'hizo una gran salva. A este exemplo ',\n  'añadire otro de la Condesa de ',\n  'Buendia Doña Maria de Acuña, ',\n  'bien conocida por su rara virtud. ',\n  'Esta Señora llegando a su casa un',\n  'dia, que venia de Missa, y oyendo',\n  'trayan la comunion a un cochero',\n  'suyo, quiso entrar en el aposento ',\n  'donde estava, y viendole (como lo',\n  'avia juzgado) tan indecente para es-',\n  'perar tal huesped, mandando ocu-',\n  'par los reposteros en limpiarle, y',\n  'colgarle con lo mejor de su casa, ',\n  'y a los q le acopanava en coponer un',\n  'curioso Altar todo muy perfumado, ',\n  'assistio alli hasta q recibio, y acopaño',\n  '(al salir) el Santissimo Sacramento: lo',\n  'qual hareys vos, no solo encontran-',\n  'dole, sino buscando ocasiones para',\n  'ello, alumbradle por vuestra perso-',\n  'na, y las de vuestros pajes y criados, ',\n  'tomad la esclavitud suya (y de la',\n  'Virgen nuestra Señora, que ha de ',\n  'ser vuestro amparo y Madre) y al fin',\n  'en todas ocasiones reverenciad, y ',\n  'servid a aquel Divino Señor Sacra-',\n  'mentado en el Misterio de Fe que ',\n  'mas la manifiesta, pues hasta los irra-',\n  'cionales nos enseñan esto, como en-',\n  'tre otros muchos se vio en la oveji-',\n  'ta que crio San Francisco, y el cor-',\n  'derillo, de que escribe Estephano',\n  'Iuliaco.']]"
     },
     "execution_count": 6,
     "metadata": {},
     "output_type": "execute_result"
    }
   ],
   "source": [
    "new_list = list()\n",
    "for i in final_list:\n",
    "    new_list.append(list(filter(None, i)))\n",
    "new_list"
   ],
   "metadata": {
    "collapsed": false,
    "ExecuteTime": {
     "end_time": "2024-03-27T10:07:43.117238Z",
     "start_time": "2024-03-27T10:07:43.106690Z"
    }
   },
   "id": "3e7c2680a9e81456",
   "execution_count": 6
  },
  {
   "cell_type": "code",
   "outputs": [
    {
     "data": {
      "text/plain": "[['DEDICATORIA',\n  'EN LOS CONSEJOS',\n  'que dexo a sus hijo, e hija',\n  'mayores una gran Señora',\n  'destos Reynos de España',\n  'que por justos respec-',\n  'tos se ocultó su',\n  'nombre. ',\n  'SIENDO (hijos',\n  'mios) tan cierto, ',\n  'que el virtuoso ser',\n  'es el que por obli-',\n  'gacion han de dar',\n  'a los hijos sus Pa-',\n  'dres, y por el que principalmente',\n  'ellos les pueden quedar obligados;',\n  'desseando yo cumplir en esto la par',\n  'te que me toca, y executaros en la',\n  'vuestra, no aviendose servido nues-'],\n ['tro Señor por sus rectisimos y ocul',\n  'tos juyzios de darme tiempo, para ',\n  'que en vuestra educacion lo mani',\n  'festasse, pues me hallo tantos meses ',\n  'ha rendida en esta cama, a una en',\n  'fermedad tal, que desde su princi',\n  'pio me amenaza con la muerte, y ',\n  'vuestra orfandad en tiernos años, ',\n  'asi pues como os di al mundo con ',\n  'dolores, con los de tan penosos ac-',\n  'cidentes, os procuro encaminar ',\n  'ahora a Dios, y que renazcays de mi ',\n  'para él, por medio de la virtud, a ',\n  'que os exorto con estos documen',\n  'tos (que he recogido con el desve-',\n  'lo posible) juzgando es la mas esti-',\n  'mable herencia que puedo dexaros ',\n  'en prendas del entrañable amor ',\n  'que os tengo, por este, y en primer ',\n  'lugar por el que deveys a Dios, os ',\n  'pido, y encargo, que me libreys la ',\n  'paga en el puntual exercicio dellos, ',\n  'y en premio os prometo (con mi ',\n  'bendicion, que desde aquí os doy) ',\n  'de parte de Dios los doce mas ex',\n  'celentes que un Maestro de espiri-',\n  'tu largamente escribe, y son en su-',\n  'ma: que tendra su divina Magestad ',\n  'providencia particular de vosotros, ',\n  'y os concedera la gracia del Espíri-',\n  'tu Santo, sus consolaciones, y lum-',\n  'bre sobrenatural, la alegría de la ',\n  'buena conciencia, la esperanza en la ',\n  'divina misericordia, la verdadera li',\n  'bertad, y paz interior, oydo grato a ',\n  'vuestras oraciones, su asistencia, y ',\n  'favor en los trabajos, y benciciones ',\n  'que en la Santa Escritura promete ',\n  'a los virtuosos de todo lo temporal, ',\n  'y ultimamente, glorioso y alegre ',\n  'fin, que cada cosa destas por si pu-',\n  'diera sernos incentivo para seguir ',\n  'el camino de la virtud, aunque no ',\n  'nos tuviera Dios de antemano o-',\n  'bligados a ella, por ser el que es, y ',\n  'por los inestimables beneficios ge',\n  'nerales de la creacion, conserva-',\n  'cion, redempcion, justificacion, y'],\n ['predeterminacion, a q se añaden en ca-',\n  'da uno los particulares suyos. Aqui ',\n  'os hago memoria de la calidad que ',\n  'os dio, que se funda en la excelencia ',\n  'de la virtud, origen de que se deriva ',\n  'qualquiera verdadera nobleza, y ',\n  'pues es deuda, y efecto de la virtud, ',\n  'sed tales como ella os obliga a ser, ',\n  'mirad que no solo es necesaria, sino ',\n  'forzosa en los nobles la virtud, y ',\n  'que el que la busca, es el que se ',\n  'muestra de más generoso, y noble ',\n  'animo, y como dixo Bruno Sigui-',\n  'no, puede ser mas noble el esclavo ',\n  'que su señor, pues consiste la noble-',\n  'za mayor en mas virtud, y nace de-',\n  'lla la nobleza, conservase en ella, ',\n  'queda cadaver si le falta, por ser el ',\n  'alma, y vida de la nobleza la virtud, ',\n  'ella tiene mayor fuerza que todas ',\n  'las armas, y tan grande claridad, que ',\n  'aunque este en un lugar obscuro, a si ',\n  'misma se haze luz como la más rica ',\n  'de las piedras, q es el Carbunco, sola ',\n  'ella es suficiente premio del virtuo-',\n  'so: es tan noble, que ni puede usar ',\n  'mal de nada, ni nadie mal della, y el ',\n  'sujeto propio, y asiento suyo, es el ',\n  'más excelente, pues en el hombre ',\n  'es el corazon, y en el mundo los ',\n  'Principes, y Reyes; esta sola es la ',\n  'que quita el sentimiento de las es-',\n  'pinas de la vida, y contra ella no ',\n  'tienen las calamidades más fuerza ',\n  'que la niebla contra el Sol. Socra-',\n  'tes preguntado. Por Iorgias, si te',\n  'nía por dichoso al Rey de Persia, ',\n  'respondio: No puedo juzgar de es-',\n  'so, sin saber quanta virtud tiene. Y ',\n  'conforma con esto lo que Seneca ',\n  'después de largos discursos conclu-',\n  'ye, de que en ella consiste la bien',\n  'aventurada, y mas feliz vida, a ',\n  'que añade, que sola la virtud es el ',\n  'propio bien del hombre, pues to-',\n  'das las demas cosas humanas se con-',\n  'sumen, y ella da muestras de natu',\n  'raleza eterna, no aviendo otra co-'],\n ['sa de immortal, que a los mortales ',\n  'toque. Para que conozcays pues, ',\n  'que es la virtud de que aqui os ha-',\n  'blo en general (remitiendo para ',\n  'adelante lo particular) dize Aristo-',\n  'teles, que es un habito para elegir ',\n  'lo recto, el qual haze bueno al hom-',\n  'bre y sus obras, y segun la difinen ',\n  'San Agustin, y Santo Thomas; es ',\n  'una qualidad del alma, con que se ',\n  'vive rectamente, y la que yo creo ',\n  'os condederá nuestro Señor, obli-',\n  'gándole con pidírsela, y disponer-',\n  'os de vuestra parte; assi sea como ',\n  'yo desseo, y que os de larga ',\n  'vida para grangear ',\n  'en ella mucha ',\n  'gloria. ',\n  'Consejos que dexó la dicha ',\n  'Señora a su hijo ',\n  'Primogénito.',\n  'No de los enga-',\n  'ños injustamente ',\n  'más recibidos en ',\n  'el mundo, es creer, ',\n  'que los bienes na',\n  'turales, en que al-',\n  'gunos por privilegio nacen here-',\n  'dados, son para vivir mas licencio-',\n  'samente con solo estima propia, y ',\n  'desprecio de los otros, con super-',\n  'fluos regalos, y soberania tiranica, ',\n  'entregandose de tal suerte a todo ',\n  'genero de vicios, que estos tengan ',\n  'campal guerra, sobre ser cada uno ',\n  'el mayor. Y assi, si bien ay algunos ',\n  'grandes Señores, que conocen ser ',\n  'la verdadera calidad de la Virtud, y la ',\n  'mayor, no la heredada, sino la pro-'],\n ['pia (que procuran) pero son mas',\n  ' los que dexandose llevar de incli-',\n  'naciones depravadas, y aduladores ',\n  '(peste de la Nobleza) usan mal de ',\n  'la autoridad, y rentas con que se ',\n  'hallan, tomando por armas contra ',\n  'Dios, las mercedes que del recibie',\n  'ron, y desestimandose, con lo que ',\n  'piensan se engrandecen, pues en to',\n  'das las cosas quieren bondad sino ',\n  'en si mismos, como dixo San Agus-',\n  'tin: y siendo de los que David dize ',\n  'no conocieron la honra en que fue-',\n  'ron criados, y la pusieron en lo que ',\n  'mas los abatio, pues consistiendo la ',\n  'verdadera en servir, y agradar a ',\n  'Dios, vemos q dan en hazerse estos ',\n  'sectarios, y cabezas mostruosas de ',\n  'vicios, professando unos la valen',\n  'tia (en ellos falsa y civil) otros ser ',\n  'graciosos, hurtando el oficio a los ',\n  'truhanes, otros sabios muy por lo ',\n  'inchado, unos enfadados de todos, ',\n  'y descorteses, Poetas con agenos ',\n  'versos: los locos, y los que mas lo ',\n  'son, enamorados< y llega la desdicha ',\n  'de nuestros tiempos a ver baylar ',\n  'como mugeres, nietos de los que ',\n  'truxeron casi toda su vida el peso ',\n  'de los Arneses sobre si, y las armas ',\n  'en la mano, con que les ganaron ',\n  'lo que tan indignamente posseen. ',\n  'Tampoco faltan otros, que hazen ',\n  'gracia de exceder en los brindis de ',\n  'los combites, y de no jugar limpio, ',\n  'ni tratar verdad< y gala de vivir mu',\n  'chos años en mal estado (descuydo ',\n  'digno de ser llorado en España) por ',\n  'la educación de sus Nobles, y el re',\n  'presentarle yo en estas lastimosas ',\n  'verdades, es como pintaros aquí la ',\n  'fealdad de los vicios, para que con ',\n  'horror della les cobreys el aborre',\n  'cimiento que desseo, creyendo jun-',\n  'tamente, que la vida del Señor gra-',\n  'nde (no contentandose con huyr de',\n  'llos) ha de ser un continuo exerci-',\n  'cio de virtudes, porque la magna-'],\n ['nima fortaleza, que es la propia, y ',\n  'connatural de los Ilustres, procede ',\n  'de corazon grande, y este debe des',\n  'preciar la bxeza mayor, que es el',\n  'abatirse a los vicios: segun Aristo-',\n  'teles, y Ciceron, consiste en tres co-',\n  'sas, desestimar todas las exteriores, ',\n  'sufrir mucho por la Virtud, y por ',\n  'ella acometer arduas y grandes em-',\n  'presas en beneficio comun: y la for-',\n  'taleza Christiana, es sufrir, y hazer ',\n  'mucho por Dios, y su gloria, y bien ',\n  'de todos, venciendose uno a si mis-',\n  'mo, triunfo a que esta vinculada la ',\n  'verdadera grandeza. Considerad ',\n  'pues, que la honra, y hazienda os la ',\n  'dio Dios para repartirla, y que ',\n  'aveys nacido tanto para los demas, ',\n  'como para vos mismo: assi lo dixo ',\n  'Ciceron del Noble, y creed, que ',\n  'son talentos de que les aveys de dar ',\n  'cuenta muy estrecha, y carga con ',\n  'que os ha obligado a ser defensor',\n  'es de su Fe y Religion, accerrimo per-',\n  'seguidor de los vicios en vos, y en ',\n  'quantos corrieren por vuestra cuen',\n  'ta, y exemplo de virtud a todos, ',\n  'que según el que nos dieron los Ro',\n  'manos en aquellos dos tempos, pa-',\n  'ra entrar en el de la honra, se ha de ',\n  'passar primero por el de la virtud, ',\n  'y no os parezca que es mudaros de ',\n  'profession obligaros a esto, y daros ',\n  'la de Religioso, que seria hazer ',\n  'agravio a la Nobleza, donde se ha ',\n  'de hallar lo mejor de cada estado, ',\n  'de los Prelados, el ser limosneros: ',\n  'de los Religiosos, el zelo y devo-',\n  'cion : de buenos Reyes, el exerci-',\n  'cio de la justicia : de los Soldados, el ',\n  'valor y alentado corazon : de los Pa-',\n  'dres de Familias, la piedad y amor ',\n  'para con sus subditos : y aun de los ',\n  'Artifices, el huyr la ociosidad, rin-',\n  'diendose al incansable trabajo, que ',\n  'es obligacion poner en el beneficio ',\n  'y buen gobierno d elos vassallos, el ',\n  'qual pagan con las rentas, y sin esse'],\n ['desuelo no podrian obtenerse jus-',\n  'tamente. Si soys el que deveys a ',\n  'Dios, y a vuestra sangre, aveys de ',\n  'exercitar con su divina Magestad ',\n  'las tres Virtudes Theologales, y de ',\n  'las Cardinales, y Morales la Pruden-',\n  'cia con todos, y en todos tiempos ',\n  'la Iusticia y equidad con vuestros ',\n  'subditos, Fortaleza, Templanza, ',\n  'Continencia en vos mismo, Obe-',\n  'diencia con vuestro Rey, y Padre ',\n  '(que la de la Iglesia y Confessor en ',\n  'lo primero se incluye) Piedad con ',\n  'todos, y mas con los pobres afligi',\n  'dos y enfermos, Liberalidad, Pacien',\n  'cia, y Afabilidad (grave en las oca-',\n  'siones que la pidieren) con vuestros ',\n  'familiares, amigos, y hermanos: Re-',\n  'signacion en los trabajos, y en las ',\n  'prosperidades, animo agradecido a ',\n  'Dios, con desprecio dellas en quan-',\n  'to no sean importantes para bolver-',\n  'selas a el. Esto es lo que pretendo ',\n  'aquí individuaros, y enseñaros con ',\n  'amor, y obligacion de Madre, por ',\n  'descuento de las que con el mas ',\n  'propio suyo, que de los hijos, ',\n  'los crian afeminados, y toleran ma',\n  'las costumbres. Bien veo, que sien-',\n  'do tan varias las condiciones huma-',\n  'nas, es muy dificil el dar reglas, y ',\n  'preceptos a una, que la ajusten al ',\n  'trato de todas pero estas generales ',\n  'van sugetas al dominio de la prud-',\n  'encia, que se ha de usar en la apli-',\n  'cación, según los estados, tiempos, ',\n  'lugares, y condiciones, porque a es-',\n  'ta virtud, q es guia, y Maestra de to-',\n  'das, Cicero la llamo justamete Arte ',\n  'de la vida, y Aristoteles conocio sin ',\n  'luz de Fe, q no la podia tener verda-',\n  'dera ninguno, que no fuesse Vir-',\n  'tuoso, en cuya conformidad dize ',\n  'San Basilio, que ay dos prudencias, ',\n  'una Christiana, y otra Gentilica, que ',\n  'es la fagacidad, siempre encamina-',\n  'da a engañar, y a la particular con-',\n  'veniencia de la primera os preciad, '],\n ['y usad en todas vuestras acciones ',\n  'con sencillez recatada, para conocer ',\n  'las maquinas de los maliciosos, y no ',\n  'ser engañado dellos. Espero pues ',\n  'que llegareys con el exercicio des-',\n  'tos consejos, a ser un exemplar de ',\n  'buenos Cavalleros, y grandes Seño-',\n  'res, imitando la Religion del Em-',\n  'perador Constantino, el valor de ',\n  'Carlo Magno, el menosprecio del ',\n  'mundo y sus grandezas de Carlos ',\n  'Quinto, la clemencia del Santo Rey ',\n  'Luys, la templanza de Theodosio, ',\n  'constancia del Rey Ingles Artus, ',\n  'justicia y verdad de Gofredo de ',\n  'Bullon, prudencia del Rey Fernan-',\n  'do de Castilla, llamado el Santo, li-',\n  'beralidad de Don Alonso el Sexto, ',\n  'estudiosidad, y sabiduria del otro ',\n  'Don Alonso tan conocido por ella, ',\n  'que teniendo estos Principes el va-',\n  'lor y virtud natural del animo illus-',\n  'trado con el realce de nuestra Santa ',\n  'Fe, no necessitamos de valernos de ',\n  'Numa, Anibal, Socrates, Cesar, Sci-',\n  'pion, Caton, Trajano, Platon, Ale-',\n  'xandro, Marco Aurelio, a quien se ',\n  'atribuyen las mismas virtudes, por-',\n  'que faltandoles la excelencia mayor ',\n  'de la verdadera Religion, no pu-',\n  'dieron ser en ellos perfectas: y si a ',\n  'todos no quadraredes (que es casi ',\n  'imposible) contentaos con el agra-',\n  'do de los que bien sienten, pues ',\n  'aunque son los menos, es la mejor ',\n  'parte, y principalmente con hazer ',\n  'lo que deveys. ',\n  'Para con Dios, y todo lo to-',\n  'cante a Religion',\n  'PUES el mejor, y ',\n  'cierto principio de ',\n  'las cosas es Dios ',\n  'guia, y fundamen',\n  'to de toda Virtud ',\n  '(y conocieron esto ',\n  'aun los Gentiles, que Tito Livio'],\n ['nos dexo escrito: al que sirve a Dios',\n  'todo le sucede bien con este prin',\n  'cipio, y assi lo sintieron Platon, Ci-',\n  'ceron, Socrates, y Aristoteles) Digo',\n  'lo primero, que el titulo principal',\n  'de que os aveys de preciar, ha de',\n  'ser el de Christiano, teniendo por',\n  'asentado el faltar a todos, para con-',\n  'servaros en merecer este, que reci-',\n  'bistes de Dios tan de valde, y de que',\n  'siempre os aveys de reconocer in-',\n  'digno. ',\n  'En las cosas tocantes a la autori-',\n  'dad del Sumo Pontifice, e Inquisi-',\n  'cion, asistid con particular gusto y',\n  'desuelo siempre que seays menes-',\n  'ter, y hablad de lo uno, y lo otro',\n  'con gran veneracion, sintiendo con',\n  'igual piedad. ',\n  'A las censuras de la Iglesia tened',\n  'mucho respeto, y por todos los in-',\n  'tereses del mundo ni un instante os',\n  'descuydeys en incurrir en ellas, ni',\n  'lo consintays a vuestros ministros y ',\n  'vasallos, como tampoco ser por cau-',\n  'sa vuestra nadie descomulgado.',\n  'Hablad muy bien siempre de to-',\n  'das las Religiones, y favorecedlas ',\n  'quanto os sea possible, y aun a qual-',\n  'quiera Religioso y Sacerdote (que',\n  'es la mayor dignidad, pues según',\n  'San Leon excede a la Real) venerad',\n  'y respetad en toda ocasión, tenien-',\n  'do por buena suerte el ofrecerseos',\n  'alguna de mostrarles rendimiento, ',\n  'y no lo rehuseys en publico (por lo',\n  'que deveys al buen exemplo) no',\n  'consintays jamas que dellos se ha-',\n  'ble con nota, ni indecencia delan-',\n  'te de vos, aunque sea en materia ',\n  'leve y no os contenteys con esto, ',\n  'mas estad tan lexos de recibir es-',\n  'candalo por falta (aunque sea muy ',\n  'publica) de cualquier Eclesiastico, ',\n  'o Religioso< y hazed tanta estima',\n  'de las Religiones, que si de alguna',\n  'de las aprobadas por la Iglesia fues',\n  'se possible ver apostatar a todos los'],\n ['De ella, quedando solo uno que la',\n  'observase, en el venereys, y estimeys',\n  'su Religion con la fineza, que vien-',\n  'dola muy poblada de Santos: y tan',\n  'capaz ha de ser vuestro corazon que ',\n  'quepa en el, el amor de todas las',\n  'Religiones, assi de las que comuni-',\n  'cays, como de las que nunca aveys',\n  'visto, que esse sera el mas desinte-',\n  'ressado, fundandole solo en ser co-',\n  'lumnas de la Iglesia. ',\n  'No tendreys por ningun caso',\n  'puntos de cortesias con los Obispos',\n  'y Prelados, tomad dellos con esti-',\n  'macion cualquiera, y dadles la qu',\n  'quisieren, teniendo os por inferior',\n  'del que mas lo es entre los Minis',\n  'tros de la Iglesia. ',\n  'Con gente virtuosa, y dedidada a',\n  'Dios nunca sustenteys diferencias,',\n  'que saldreys mal dellas, porque los ',\n  'ampara el mas poderoso patroci-',\n  'nio, assistiendolos siempre su divina',\n  'Magestad.',\n  'A los Religiosos, y Religiosas de',\n  'los Conventos de vuestros Estados, ',\n  'dad toda la cortesia que a los de o-',\n  'tras partes, y concededles las cosas',\n  'de gracia factibles que os pidieren',\n  'por criados, y vassallos, para que les',\n  'queden bien afectos; y siempre vos',\n  'ganareys en su comunicación, bus-',\n  'cando para ello los mas aprovecha-',\n  'dos, y Doctos: pero mirad mucho en',\n  'no distraerlos, ni hazerlos faltar por',\n  'vuestro respecto a los de sus institu-',\n  'tos, como tampoco a los Prelados',\n  'en lo mas conveniente a las Reli-',\n  'giones: No os mateys en governar-',\n  'las, que ni lo entienden, ni es de-',\n  'cente introduzirse en esto de los secu-',\n  'lares, aunque sean fundadores, pues',\n  'por serlo han de dessear mas la per-',\n  'feccion de aquellas obras, que el ',\n  'cumplimiento de sus antojos.',\n  'Parece que siendo de ordinario',\n  'en los lugares propios hijos de vas-',\n  'sallos los Clerigos, tendra algun in'],\n ['conveniente tratarlos con tanta fa-',\n  'miliaridad, pero en casos forzosos ',\n  'sea con cortesia, y oyendolos alo-',\n  'menos en pie, y haziendolos a',\n  'ellos cubrir; y aun con vuestros Ca-',\n  'pellanes no useys del, vos ni dexeys',\n  'de quitarles el sombrero, hazed que',\n  'se cubran, y para no estar en pie, en',\n  'vendiciendo la mesa, que se vayan.',\n  'Preciaos de cumplir con las obli-',\n  'gaciones devidas a vuestra Parro-',\n  'chia donde quiera que esteys, no',\n  'pretendiendo exempciones en esto, ',\n  'ni ceremonias nuevas para vuestra',\n  'persona, sino admitiendo con hu-',\n  'mildad las que hallaredes introdu-',\n  'zidas en vuestro Estado con los an-',\n  'tecessores señores del. ',\n  'Respetad mucho los Templos, es-',\n  'tando en ellos con gran compostura',\n  'descubierto, y de rodillas (no con',\n  'una sola) quanto podays, meditando',\n  'con el corazon lo que pronuncian',\n  'los labios, atentos los ojos a la Ma-',\n  'gestad que alli preside. No seays de',\n  'los inquietos, y vagueadores q vio',\n  'el Propheta; ni permitireys os ha-',\n  'blen en negocios, sino lo muy for-',\n  'zoso, y si para esto algun criado hin-',\n  'care la rodilla, sepa ha de ser enton-',\n  'ces al Altar, y no a vos.',\n  'Assistid a los divinos Oficios siem-',\n  'pre que podays, no permitiendo si-',\n  'tial estando patente el Santissimo',\n  'Sacramento, ni en Semana Santa. ',\n  'Oyd de buena gana Sermones, ',\n  'con desseo de aprovechar, y no di-',\n  'gays mal de ninguno, aunque no os ',\n  'aya parecido bien. ',\n  'Acudireys a las processiones, imi-',\n  'tando alli interiormente el espiritu',\n  'del Santo Rey David. ',\n  'De las Iglesias de vuestro Estado',\n  'hareys cuydar mucho (q no esta des-',\n  'obligados desto los Señores tempora-',\n  'les, por tocar principalmete a los O-',\n  'bispos) procurad las tega co todas de-',\n  'cencia, y proveydas de lo necessario;'],\n ['y para edificarlas, y adornarlas, con ',\n  'Retablos, como tambien para Her-',\n  'mitas, y otras cosas de devocion de ',\n  'vuestros vassallos los ayudareys con limosnas, ',\n  'y se las alabareys. ',\n  'Para las fiestas de acavallo, y ar-',\n  'mas que huvieredes de hazer, to-',\n  'mad motivos devotos en honra de ',\n  'nuestro Señor, y de sus Santos, por-',\n  'que saqueys provecho de todo, y no',\n  'aya en ellas desgracias. ',\n  'Cada año celebrareys con solem-',\n  'nidad de la Iglesia (a lo menos) la',\n  'Fiesta del Santo de vuestro nombre.',\n  'Y del Angel de la Guarda, a quien',\n  'aveys de tener gran respeto, conti-',\n  'nua consideracion de traerle pre-',\n  'sente, y agradecimiento a los mu-',\n  'chos beneficios, que según ponde-',\n  'ran los Santos Doctores Bernardo, ',\n  'Ambrosio, y Basilio, exercitan estos',\n  'gloriosos Angeles con todas las al-',\n  'mas de que tienen tutela; Platon, ',\n  'y otros muchos Philosophos Gen-',\n  'Tiles lo conocieron assi, y los vene-',\n  'raron por ello. ',\n  'Mas vuestra mayor Fiesta reser-',\n  'vad para el dia en que cumplieredes',\n  'años de Bautismo, este han de ser las',\n  'galas, y regozijo, en reconocimien-',\n  'to de averos hecho Dios hijo de su ',\n  'Iglesia, y no como se acostumbra en',\n  'el que nacimos hijos de ira, cuya',\n  'memoria siepre nos devria entriste-',\n  'zer, enternezer, y lastimar; y una',\n  'de las acciones que aveys de hazer',\n  'con mucha atencion y devocion en',\n  'el dia desta Fiesta, ha de ser ofrecer',\n  'en la Missa (saliendo de vuestro',\n  'puesto a besar la mano al Sacerdote)',\n  'tantas monedas de oro, quantos ',\n  'años cumplieredes, para que se gas-',\n  'ten en ornato de la Iglesia, o limos-',\n  'nas. ',\n  'Vuestra principal devocion em-',\n  'plead en el Santissimo Sacramento',\n  'del Altar, y aunque no os ha de mo-',\n  'tivar a ello interes, sino el amor, mi-'],\n ['rad lo que ha engrandezido Dios',\n  'por este camino sobre todas las fa-',\n  'milias del mundo, la imperial Casa',\n  'de Austria, imitad los actos de Fe',\n  'visa que muchos han hecho con',\n  'este divino Misterio. De uno de los',\n  'Potentados de Italia de nuestros',\n  'tiempos, oi, que aviendo de traerle',\n  'a la hora de su muerte el Viatico',\n  'hizo colgar, cubrir de alhombras, y ',\n  'perfumar su casa, inchirla de lumi-',\n  'narias, y todo genero de rico ador-',\n  'no, y musica, y que al entrar este Su-',\n  'premo Rey por sus puertas, se dispa-',\n  'rase la artilleria del Castillo, que le',\n  'hizo una gran salva. A este exemplo ',\n  'añadire otro de la Condesa de ',\n  'Buendia Doña Maria de Acuña, ',\n  'bien conocida por su rara virtud. ',\n  'Esta Señora llegando a su casa un',\n  'dia, que venia de Missa, y oyendo',\n  'trayan la comunion a un cochero',\n  'suyo, quiso entrar en el aposento ',\n  'donde estava, y viendole (como lo',\n  'avia juzgado) tan indecente para es-',\n  'perar tal huesped, mandando ocu-',\n  'par los reposteros en limpiarle, y',\n  'colgarle con lo mejor de su casa, ',\n  'y a los q le acopanava en coponer un',\n  'curioso Altar todo muy perfumado, ',\n  'assistio alli hasta q recibio, y acopaño',\n  '(al salir) el Santissimo Sacramento: lo',\n  'qual hareys vos, no solo encontran-',\n  'dole, sino buscando ocasiones para',\n  'ello, alumbradle por vuestra perso-',\n  'na, y las de vuestros pajes y criados, ',\n  'tomad la esclavitud suya (y de la',\n  'Virgen nuestra Señora, que ha de ',\n  'ser vuestro amparo y Madre) y al fin',\n  'en todas ocasiones reverenciad, y ',\n  'servid a aquel Divino Señor Sacra-',\n  'mentado en el Misterio de Fe que ',\n  'mas la manifiesta, pues hasta los irra-',\n  'cionales nos enseñan esto, como en-',\n  'tre otros muchos se vio en la oveji-',\n  'ta que crio San Francisco, y el cor-',\n  'derillo, de que escribe Estephano',\n  'Iuliaco.']]"
     },
     "execution_count": 7,
     "metadata": {},
     "output_type": "execute_result"
    }
   ],
   "source": [
    "final_list = new_list\n",
    "final_list"
   ],
   "metadata": {
    "collapsed": false,
    "ExecuteTime": {
     "end_time": "2024-03-27T10:07:44.742917Z",
     "start_time": "2024-03-27T10:07:44.732658Z"
    }
   },
   "id": "8d66bf130545af29",
   "execution_count": 7
  },
  {
   "cell_type": "code",
   "outputs": [
    {
     "name": "stdout",
     "output_type": "stream",
     "text": [
      "0, 19\n",
      "1, 48\n",
      "2, 48\n",
      "3, 39\n",
      "4, 48\n",
      "5, 48\n",
      "6, 48\n",
      "7, 46\n",
      "8, 48\n",
      "9, 48\n",
      "10, 48\n",
      "11, 48\n",
      "12, 48\n"
     ]
    }
   ],
   "source": [
    "for i, each_list in enumerate(final_list):\n",
    "    print(f'{i}, {len(each_list)}')"
   ],
   "metadata": {
    "collapsed": false,
    "ExecuteTime": {
     "end_time": "2024-03-23T10:01:39.813272Z",
     "start_time": "2024-03-23T10:01:39.810078Z"
    }
   },
   "id": "a83be4ece261842c",
   "execution_count": 8
  },
  {
   "cell_type": "code",
   "outputs": [
    {
     "data": {
      "text/plain": "  label_name  bbox_x  bbox_y  bbox_width  bbox_height     image_name  \\\n0       left     296     122         515           34  Padilla_1.png   \n1       left     293     165         527           34  Padilla_1.png   \n2       left     295     203         509           33  Padilla_1.png   \n3       left     296     241         517           33  Padilla_1.png   \n4       left     295     280         510           41  Padilla_1.png   \n\n   image_width  image_height  \n0         1695          1212  \n1         1695          1212  \n2         1695          1212  \n3         1695          1212  \n4         1695          1212  ",
      "text/html": "<div>\n<style scoped>\n    .dataframe tbody tr th:only-of-type {\n        vertical-align: middle;\n    }\n\n    .dataframe tbody tr th {\n        vertical-align: top;\n    }\n\n    .dataframe thead th {\n        text-align: right;\n    }\n</style>\n<table border=\"1\" class=\"dataframe\">\n  <thead>\n    <tr style=\"text-align: right;\">\n      <th></th>\n      <th>label_name</th>\n      <th>bbox_x</th>\n      <th>bbox_y</th>\n      <th>bbox_width</th>\n      <th>bbox_height</th>\n      <th>image_name</th>\n      <th>image_width</th>\n      <th>image_height</th>\n    </tr>\n  </thead>\n  <tbody>\n    <tr>\n      <th>0</th>\n      <td>left</td>\n      <td>296</td>\n      <td>122</td>\n      <td>515</td>\n      <td>34</td>\n      <td>Padilla_1.png</td>\n      <td>1695</td>\n      <td>1212</td>\n    </tr>\n    <tr>\n      <th>1</th>\n      <td>left</td>\n      <td>293</td>\n      <td>165</td>\n      <td>527</td>\n      <td>34</td>\n      <td>Padilla_1.png</td>\n      <td>1695</td>\n      <td>1212</td>\n    </tr>\n    <tr>\n      <th>2</th>\n      <td>left</td>\n      <td>295</td>\n      <td>203</td>\n      <td>509</td>\n      <td>33</td>\n      <td>Padilla_1.png</td>\n      <td>1695</td>\n      <td>1212</td>\n    </tr>\n    <tr>\n      <th>3</th>\n      <td>left</td>\n      <td>296</td>\n      <td>241</td>\n      <td>517</td>\n      <td>33</td>\n      <td>Padilla_1.png</td>\n      <td>1695</td>\n      <td>1212</td>\n    </tr>\n    <tr>\n      <th>4</th>\n      <td>left</td>\n      <td>295</td>\n      <td>280</td>\n      <td>510</td>\n      <td>41</td>\n      <td>Padilla_1.png</td>\n      <td>1695</td>\n      <td>1212</td>\n    </tr>\n  </tbody>\n</table>\n</div>"
     },
     "execution_count": 8,
     "metadata": {},
     "output_type": "execute_result"
    }
   ],
   "source": [
    "import pandas as pd\n",
    "\n",
    "bbox = pd.read_csv('Padilla/bbox.csv')\n",
    "bbox.head()"
   ],
   "metadata": {
    "collapsed": false,
    "ExecuteTime": {
     "end_time": "2024-03-27T10:07:56.502410Z",
     "start_time": "2024-03-27T10:07:56.285070Z"
    }
   },
   "id": "2137fd1ba8eebcda",
   "execution_count": 8
  },
  {
   "cell_type": "code",
   "outputs": [
    {
     "data": {
      "text/plain": "                                    label          file path\n0                             DEDICATORIA    Padilla_0_0.jpg\n1                         EN LOS CONSEJOS    Padilla_0_1.jpg\n2             que dexo a sus hijo, e hija    Padilla_0_2.jpg\n3                 mayores una gran Señora    Padilla_0_3.jpg\n4                 destos Reynos de España    Padilla_0_4.jpg\n..                                    ...                ...\n579   cionales nos enseñan esto, como en-  Padilla_12_43.jpg\n580  tre otros muchos se vio en la oveji-  Padilla_12_44.jpg\n581  ta que crio San Francisco, y el cor-  Padilla_12_45.jpg\n582     derillo, de que escribe Estephano  Padilla_12_46.jpg\n583                              Iuliaco.  Padilla_12_47.jpg\n\n[584 rows x 2 columns]",
      "text/html": "<div>\n<style scoped>\n    .dataframe tbody tr th:only-of-type {\n        vertical-align: middle;\n    }\n\n    .dataframe tbody tr th {\n        vertical-align: top;\n    }\n\n    .dataframe thead th {\n        text-align: right;\n    }\n</style>\n<table border=\"1\" class=\"dataframe\">\n  <thead>\n    <tr style=\"text-align: right;\">\n      <th></th>\n      <th>label</th>\n      <th>file path</th>\n    </tr>\n  </thead>\n  <tbody>\n    <tr>\n      <th>0</th>\n      <td>DEDICATORIA</td>\n      <td>Padilla_0_0.jpg</td>\n    </tr>\n    <tr>\n      <th>1</th>\n      <td>EN LOS CONSEJOS</td>\n      <td>Padilla_0_1.jpg</td>\n    </tr>\n    <tr>\n      <th>2</th>\n      <td>que dexo a sus hijo, e hija</td>\n      <td>Padilla_0_2.jpg</td>\n    </tr>\n    <tr>\n      <th>3</th>\n      <td>mayores una gran Señora</td>\n      <td>Padilla_0_3.jpg</td>\n    </tr>\n    <tr>\n      <th>4</th>\n      <td>destos Reynos de España</td>\n      <td>Padilla_0_4.jpg</td>\n    </tr>\n    <tr>\n      <th>...</th>\n      <td>...</td>\n      <td>...</td>\n    </tr>\n    <tr>\n      <th>579</th>\n      <td>cionales nos enseñan esto, como en-</td>\n      <td>Padilla_12_43.jpg</td>\n    </tr>\n    <tr>\n      <th>580</th>\n      <td>tre otros muchos se vio en la oveji-</td>\n      <td>Padilla_12_44.jpg</td>\n    </tr>\n    <tr>\n      <th>581</th>\n      <td>ta que crio San Francisco, y el cor-</td>\n      <td>Padilla_12_45.jpg</td>\n    </tr>\n    <tr>\n      <th>582</th>\n      <td>derillo, de que escribe Estephano</td>\n      <td>Padilla_12_46.jpg</td>\n    </tr>\n    <tr>\n      <th>583</th>\n      <td>Iuliaco.</td>\n      <td>Padilla_12_47.jpg</td>\n    </tr>\n  </tbody>\n</table>\n<p>584 rows × 2 columns</p>\n</div>"
     },
     "execution_count": 11,
     "metadata": {},
     "output_type": "execute_result"
    }
   ],
   "source": [
    "import cv2\n",
    "\n",
    "labeled_dataset = pd.DataFrame(columns=['label', 'file path'])\n",
    "\n",
    "for i, label_list in enumerate(final_list):\n",
    "    img = cv2.imread(f\"Padilla/Padilla_{i}.png\")\n",
    "    for j, index in enumerate(bbox[bbox[\"image_name\"] == f\"Padilla_{i}.png\"].itertuples()):\n",
    "        bbox_x, bbox_y = index.bbox_x, index.bbox_y\n",
    "        bbox_width, bbox_height = index.bbox_width, index.bbox_height\n",
    "        cropped_img = img[bbox_y:bbox_y+bbox_height, bbox_x:bbox_x+bbox_width]\n",
    "        img_name = f\"Padilla_{i}_{j}.jpg\"\n",
    "        img_path = f\"Padilla/cropped_images/{img_name}\"\n",
    "        result = cv2.imwrite(img_path, cropped_img)\n",
    "        if not result:\n",
    "            raise Exception(f\"cannot save a image\")\n",
    "        new_row = pd.DataFrame({'label': [label_list[j]], 'file path': [img_name]})\n",
    "        labeled_dataset = pd.concat([labeled_dataset, new_row], ignore_index=True)\n",
    "\n",
    "labeled_dataset"
   ],
   "metadata": {
    "collapsed": false,
    "ExecuteTime": {
     "end_time": "2024-03-23T10:02:20.935394Z",
     "start_time": "2024-03-23T10:02:19.991623Z"
    }
   },
   "id": "85cd8c2c62196689",
   "execution_count": 11
  },
  {
   "cell_type": "code",
   "outputs": [],
   "source": [
    "import cv2\n",
    "import pandas as pd\n",
    "test_dataset_dict = {\"label\": [], \"file path\": []}\n",
    "for i in range(13, 16):\n",
    "    img = cv2.imread(f\"Padilla/Padilla_{i}.png\")\n",
    "    for j, index in enumerate(bbox[bbox[\"image_name\"] == f\"Padilla_{i}.png\"].itertuples()):\n",
    "        bbox_x, bbox_y = index.bbox_x, index.bbox_y\n",
    "        bbox_width, bbox_height = index.bbox_width, index.bbox_height\n",
    "        cropped_img = img[bbox_y:bbox_y+bbox_height, bbox_x:bbox_x+bbox_width]\n",
    "        img_name = f\"Padilla_{i}_{j}.jpg\"\n",
    "        img_path = f\"Padilla/test_cropped_images/{img_name}\"\n",
    "        result = cv2.imwrite(img_path, cropped_img)\n",
    "        if not result:\n",
    "            raise Exception(f\"cannot save a image\")\n",
    "        test_dataset_dict[\"label\"].append(img_name)\n",
    "        test_dataset_dict[\"file path\"].append(img_name)\n",
    "test_dataset_DataFrame = pd.DataFrame(test_dataset_dict)\n",
    "test_dataset_DataFrame.to_csv(\"Padilla/test_dataset.csv\")"
   ],
   "metadata": {
    "collapsed": false,
    "ExecuteTime": {
     "end_time": "2024-03-27T10:08:07.898787Z",
     "start_time": "2024-03-27T10:08:07.394384Z"
    }
   },
   "id": "7964b0cde2d7df76",
   "execution_count": 9
  },
  {
   "cell_type": "code",
   "outputs": [],
   "source": [
    "labeled_dataset.to_csv('Padilla/labeled_dataset.csv')"
   ],
   "metadata": {
    "collapsed": false,
    "ExecuteTime": {
     "end_time": "2024-03-23T10:03:07.430913Z",
     "start_time": "2024-03-23T10:03:07.417726Z"
    }
   },
   "id": "d8576e0abc9e839e",
   "execution_count": 12
  },
  {
   "cell_type": "code",
   "outputs": [
    {
     "data": {
      "text/plain": "['DEDICATORIA',\n 'EN LOS CONSEJOS',\n 'que dexo a sus hijo, e hija',\n 'mayores una gran Señora',\n 'destos Reynos de España',\n 'que por justos respec-',\n 'tos se ocultó su',\n 'nombre. ',\n 'SIENDO (hijos',\n 'mios) tan cierto, ',\n 'que el virtuoso ser',\n 'es el que por obli-',\n 'gacion han de dar',\n 'a los hijos sus Pa-',\n 'dres, y por el que principalmente',\n 'ellos les pueden quedar obligados;',\n 'desseando yo cumplir en esto la par',\n 'te que me toca, y executaros en la',\n 'vuestra, no aviendose servido nues-',\n 'tro Señor por sus rectisimos y ocul',\n 'tos juyzios de darme tiempo, para ',\n 'que en vuestra educacion lo mani',\n 'festasse, pues me hallo tantos meses ',\n 'ha rendida en esta cama, a una en',\n 'fermedad tal, que desde su princi',\n 'pio me amenaza con la muerte, y ',\n 'vuestra orfandad en tiernos años, ',\n 'asi pues como os di al mundo con ',\n 'dolores, con los de tan penosos ac-',\n 'cidentes, os procuro encaminar ',\n 'ahora a Dios, y que renazcays de mi ',\n 'para él, por medio de la virtud, a ',\n 'que os exorto con estos documen',\n 'tos (que he recogido con el desve-',\n 'lo posible) juzgando es la mas esti-',\n 'mable herencia que puedo dexaros ',\n 'en prendas del entrañable amor ',\n 'que os tengo, por este, y en primer ',\n 'lugar por el que deveys a Dios, os ',\n 'pido, y encargo, que me libreys la ',\n 'paga en el puntual exercicio dellos, ',\n 'y en premio os prometo (con mi ',\n 'bendicion, que desde aquí os doy) ',\n 'de parte de Dios los doce mas ex',\n 'celentes que un Maestro de espiri-',\n 'tu largamente escribe, y son en su-',\n 'ma: que tendra su divina Magestad ',\n 'providencia particular de vosotros, ',\n 'y os concedera la gracia del Espíri-',\n 'tu Santo, sus consolaciones, y lum-',\n 'bre sobrenatural, la alegría de la ',\n 'buena conciencia, la esperanza en la ',\n 'divina misericordia, la verdadera li',\n 'bertad, y paz interior, oydo grato a ',\n 'vuestras oraciones, su asistencia, y ',\n 'favor en los trabajos, y benciciones ',\n 'que en la Santa Escritura promete ',\n 'a los virtuosos de todo lo temporal, ',\n 'y ultimamente, glorioso y alegre ',\n 'fin, que cada cosa destas por si pu-',\n 'diera sernos incentivo para seguir ',\n 'el camino de la virtud, aunque no ',\n 'nos tuviera Dios de antemano o-',\n 'bligados a ella, por ser el que es, y ',\n 'por los inestimables beneficios ge',\n 'nerales de la creacion, conserva-',\n 'cion, redempcion, justificacion, y',\n 'predeterminacion, a q se añaden en ca-',\n 'da uno los particulares suyos. Aqui ',\n 'os hago memoria de la calidad que ',\n 'os dio, que se funda en la excelencia ',\n 'de la virtud, origen de que se deriva ',\n 'qualquiera verdadera nobleza, y ',\n 'pues es deuda, y efecto de la virtud, ',\n 'sed tales como ella os obliga a ser, ',\n 'mirad que no solo es necesaria, sino ',\n 'forzosa en los nobles la virtud, y ',\n 'que el que la busca, es el que se ',\n 'muestra de más generoso, y noble ',\n 'animo, y como dixo Bruno Sigui-',\n 'no, puede ser mas noble el esclavo ',\n 'que su señor, pues consiste la noble-',\n 'za mayor en mas virtud, y nace de-',\n 'lla la nobleza, conservase en ella, ',\n 'queda cadaver si le falta, por ser el ',\n 'alma, y vida de la nobleza la virtud, ',\n 'ella tiene mayor fuerza que todas ',\n 'las armas, y tan grande claridad, que ',\n 'aunque este en un lugar obscuro, a si ',\n 'misma se haze luz como la más rica ',\n 'de las piedras, q es el Carbunco, sola ',\n 'ella es suficiente premio del virtuo-',\n 'so: es tan noble, que ni puede usar ',\n 'mal de nada, ni nadie mal della, y el ',\n 'sujeto propio, y asiento suyo, es el ',\n 'más excelente, pues en el hombre ',\n 'es el corazon, y en el mundo los ',\n 'Principes, y Reyes; esta sola es la ',\n 'que quita el sentimiento de las es-',\n 'pinas de la vida, y contra ella no ',\n 'tienen las calamidades más fuerza ',\n 'que la niebla contra el Sol. Socra-',\n 'tes preguntado. Por Iorgias, si te',\n 'nía por dichoso al Rey de Persia, ',\n 'respondio: No puedo juzgar de es-',\n 'so, sin saber quanta virtud tiene. Y ',\n 'conforma con esto lo que Seneca ',\n 'después de largos discursos conclu-',\n 'ye, de que en ella consiste la bien',\n 'aventurada, y mas feliz vida, a ',\n 'que añade, que sola la virtud es el ',\n 'propio bien del hombre, pues to-',\n 'das las demas cosas humanas se con-',\n 'sumen, y ella da muestras de natu',\n 'raleza eterna, no aviendo otra co-',\n 'sa de immortal, que a los mortales ',\n 'toque. Para que conozcays pues, ',\n 'que es la virtud de que aqui os ha-',\n 'blo en general (remitiendo para ',\n 'adelante lo particular) dize Aristo-',\n 'teles, que es un habito para elegir ',\n 'lo recto, el qual haze bueno al hom-',\n 'bre y sus obras, y segun la difinen ',\n 'San Agustin, y Santo Thomas; es ',\n 'una qualidad del alma, con que se ',\n 'vive rectamente, y la que yo creo ',\n 'os condederá nuestro Señor, obli-',\n 'gándole con pidírsela, y disponer-',\n 'os de vuestra parte; assi sea como ',\n 'yo desseo, y que os de larga ',\n 'vida para grangear ',\n 'en ella mucha ',\n 'gloria. ',\n 'Consejos que dexó la dicha ',\n 'Señora a su hijo ',\n 'Primogénito.',\n 'No de los enga-',\n 'ños injustamente ',\n 'más recibidos en ',\n 'el mundo, es creer, ',\n 'que los bienes na',\n 'turales, en que al-',\n 'gunos por privilegio nacen here-',\n 'dados, son para vivir mas licencio-',\n 'samente con solo estima propia, y ',\n 'desprecio de los otros, con super-',\n 'fluos regalos, y soberania tiranica, ',\n 'entregandose de tal suerte a todo ',\n 'genero de vicios, que estos tengan ',\n 'campal guerra, sobre ser cada uno ',\n 'el mayor. Y assi, si bien ay algunos ',\n 'grandes Señores, que conocen ser ',\n 'la verdadera calidad de la Virtud, y la ',\n 'mayor, no la heredada, sino la pro-',\n 'pia (que procuran) pero son mas',\n ' los que dexandose llevar de incli-',\n 'naciones depravadas, y aduladores ',\n '(peste de la Nobleza) usan mal de ',\n 'la autoridad, y rentas con que se ',\n 'hallan, tomando por armas contra ',\n 'Dios, las mercedes que del recibie',\n 'ron, y desestimandose, con lo que ',\n 'piensan se engrandecen, pues en to',\n 'das las cosas quieren bondad sino ',\n 'en si mismos, como dixo San Agus-',\n 'tin: y siendo de los que David dize ',\n 'no conocieron la honra en que fue-',\n 'ron criados, y la pusieron en lo que ',\n 'mas los abatio, pues consistiendo la ',\n 'verdadera en servir, y agradar a ',\n 'Dios, vemos q dan en hazerse estos ',\n 'sectarios, y cabezas mostruosas de ',\n 'vicios, professando unos la valen',\n 'tia (en ellos falsa y civil) otros ser ',\n 'graciosos, hurtando el oficio a los ',\n 'truhanes, otros sabios muy por lo ',\n 'inchado, unos enfadados de todos, ',\n 'y descorteses, Poetas con agenos ',\n 'versos: los locos, y los que mas lo ',\n 'son, enamorados< y llega la desdicha ',\n 'de nuestros tiempos a ver baylar ',\n 'como mugeres, nietos de los que ',\n 'truxeron casi toda su vida el peso ',\n 'de los Arneses sobre si, y las armas ',\n 'en la mano, con que les ganaron ',\n 'lo que tan indignamente posseen. ',\n 'Tampoco faltan otros, que hazen ',\n 'gracia de exceder en los brindis de ',\n 'los combites, y de no jugar limpio, ',\n 'ni tratar verdad< y gala de vivir mu',\n 'chos años en mal estado (descuydo ',\n 'digno de ser llorado en España) por ',\n 'la educación de sus Nobles, y el re',\n 'presentarle yo en estas lastimosas ',\n 'verdades, es como pintaros aquí la ',\n 'fealdad de los vicios, para que con ',\n 'horror della les cobreys el aborre',\n 'cimiento que desseo, creyendo jun-',\n 'tamente, que la vida del Señor gra-',\n 'nde (no contentandose con huyr de',\n 'llos) ha de ser un continuo exerci-',\n 'cio de virtudes, porque la magna-',\n 'nima fortaleza, que es la propia, y ',\n 'connatural de los Ilustres, procede ',\n 'de corazon grande, y este debe des',\n 'preciar la bxeza mayor, que es el',\n 'abatirse a los vicios: segun Aristo-',\n 'teles, y Ciceron, consiste en tres co-',\n 'sas, desestimar todas las exteriores, ',\n 'sufrir mucho por la Virtud, y por ',\n 'ella acometer arduas y grandes em-',\n 'presas en beneficio comun: y la for-',\n 'taleza Christiana, es sufrir, y hazer ',\n 'mucho por Dios, y su gloria, y bien ',\n 'de todos, venciendose uno a si mis-',\n 'mo, triunfo a que esta vinculada la ',\n 'verdadera grandeza. Considerad ',\n 'pues, que la honra, y hazienda os la ',\n 'dio Dios para repartirla, y que ',\n 'aveys nacido tanto para los demas, ',\n 'como para vos mismo: assi lo dixo ',\n 'Ciceron del Noble, y creed, que ',\n 'son talentos de que les aveys de dar ',\n 'cuenta muy estrecha, y carga con ',\n 'que os ha obligado a ser defensor',\n 'es de su Fe y Religion, accerrimo per-',\n 'seguidor de los vicios en vos, y en ',\n 'quantos corrieren por vuestra cuen',\n 'ta, y exemplo de virtud a todos, ',\n 'que según el que nos dieron los Ro',\n 'manos en aquellos dos tempos, pa-',\n 'ra entrar en el de la honra, se ha de ',\n 'passar primero por el de la virtud, ',\n 'y no os parezca que es mudaros de ',\n 'profession obligaros a esto, y daros ',\n 'la de Religioso, que seria hazer ',\n 'agravio a la Nobleza, donde se ha ',\n 'de hallar lo mejor de cada estado, ',\n 'de los Prelados, el ser limosneros: ',\n 'de los Religiosos, el zelo y devo-',\n 'cion : de buenos Reyes, el exerci-',\n 'cio de la justicia : de los Soldados, el ',\n 'valor y alentado corazon : de los Pa-',\n 'dres de Familias, la piedad y amor ',\n 'para con sus subditos : y aun de los ',\n 'Artifices, el huyr la ociosidad, rin-',\n 'diendose al incansable trabajo, que ',\n 'es obligacion poner en el beneficio ',\n 'y buen gobierno d elos vassallos, el ',\n 'qual pagan con las rentas, y sin esse',\n 'desuelo no podrian obtenerse jus-',\n 'tamente. Si soys el que deveys a ',\n 'Dios, y a vuestra sangre, aveys de ',\n 'exercitar con su divina Magestad ',\n 'las tres Virtudes Theologales, y de ',\n 'las Cardinales, y Morales la Pruden-',\n 'cia con todos, y en todos tiempos ',\n 'la Iusticia y equidad con vuestros ',\n 'subditos, Fortaleza, Templanza, ',\n 'Continencia en vos mismo, Obe-',\n 'diencia con vuestro Rey, y Padre ',\n '(que la de la Iglesia y Confessor en ',\n 'lo primero se incluye) Piedad con ',\n 'todos, y mas con los pobres afligi',\n 'dos y enfermos, Liberalidad, Pacien',\n 'cia, y Afabilidad (grave en las oca-',\n 'siones que la pidieren) con vuestros ',\n 'familiares, amigos, y hermanos: Re-',\n 'signacion en los trabajos, y en las ',\n 'prosperidades, animo agradecido a ',\n 'Dios, con desprecio dellas en quan-',\n 'to no sean importantes para bolver-',\n 'selas a el. Esto es lo que pretendo ',\n 'aquí individuaros, y enseñaros con ',\n 'amor, y obligacion de Madre, por ',\n 'descuento de las que con el mas ',\n 'propio suyo, que de los hijos, ',\n 'los crian afeminados, y toleran ma',\n 'las costumbres. Bien veo, que sien-',\n 'do tan varias las condiciones huma-',\n 'nas, es muy dificil el dar reglas, y ',\n 'preceptos a una, que la ajusten al ',\n 'trato de todas pero estas generales ',\n 'van sugetas al dominio de la prud-',\n 'encia, que se ha de usar en la apli-',\n 'cación, según los estados, tiempos, ',\n 'lugares, y condiciones, porque a es-',\n 'ta virtud, q es guia, y Maestra de to-',\n 'das, Cicero la llamo justamete Arte ',\n 'de la vida, y Aristoteles conocio sin ',\n 'luz de Fe, q no la podia tener verda-',\n 'dera ninguno, que no fuesse Vir-',\n 'tuoso, en cuya conformidad dize ',\n 'San Basilio, que ay dos prudencias, ',\n 'una Christiana, y otra Gentilica, que ',\n 'es la fagacidad, siempre encamina-',\n 'da a engañar, y a la particular con-',\n 'veniencia de la primera os preciad, ',\n 'y usad en todas vuestras acciones ',\n 'con sencillez recatada, para conocer ',\n 'las maquinas de los maliciosos, y no ',\n 'ser engañado dellos. Espero pues ',\n 'que llegareys con el exercicio des-',\n 'tos consejos, a ser un exemplar de ',\n 'buenos Cavalleros, y grandes Seño-',\n 'res, imitando la Religion del Em-',\n 'perador Constantino, el valor de ',\n 'Carlo Magno, el menosprecio del ',\n 'mundo y sus grandezas de Carlos ',\n 'Quinto, la clemencia del Santo Rey ',\n 'Luys, la templanza de Theodosio, ',\n 'constancia del Rey Ingles Artus, ',\n 'justicia y verdad de Gofredo de ',\n 'Bullon, prudencia del Rey Fernan-',\n 'do de Castilla, llamado el Santo, li-',\n 'beralidad de Don Alonso el Sexto, ',\n 'estudiosidad, y sabiduria del otro ',\n 'Don Alonso tan conocido por ella, ',\n 'que teniendo estos Principes el va-',\n 'lor y virtud natural del animo illus-',\n 'trado con el realce de nuestra Santa ',\n 'Fe, no necessitamos de valernos de ',\n 'Numa, Anibal, Socrates, Cesar, Sci-',\n 'pion, Caton, Trajano, Platon, Ale-',\n 'xandro, Marco Aurelio, a quien se ',\n 'atribuyen las mismas virtudes, por-',\n 'que faltandoles la excelencia mayor ',\n 'de la verdadera Religion, no pu-',\n 'dieron ser en ellos perfectas: y si a ',\n 'todos no quadraredes (que es casi ',\n 'imposible) contentaos con el agra-',\n 'do de los que bien sienten, pues ',\n 'aunque son los menos, es la mejor ',\n 'parte, y principalmente con hazer ',\n 'lo que deveys. ',\n 'Para con Dios, y todo lo to-',\n 'cante a Religion',\n 'PUES el mejor, y ',\n 'cierto principio de ',\n 'las cosas es Dios ',\n 'guia, y fundamen',\n 'to de toda Virtud ',\n '(y conocieron esto ',\n 'aun los Gentiles, que Tito Livio',\n 'nos dexo escrito: al que sirve a Dios',\n 'todo le sucede bien con este prin',\n 'cipio, y assi lo sintieron Platon, Ci-',\n 'ceron, Socrates, y Aristoteles) Digo',\n 'lo primero, que el titulo principal',\n 'de que os aveys de preciar, ha de',\n 'ser el de Christiano, teniendo por',\n 'asentado el faltar a todos, para con-',\n 'servaros en merecer este, que reci-',\n 'bistes de Dios tan de valde, y de que',\n 'siempre os aveys de reconocer in-',\n 'digno. ',\n 'En las cosas tocantes a la autori-',\n 'dad del Sumo Pontifice, e Inquisi-',\n 'cion, asistid con particular gusto y',\n 'desuelo siempre que seays menes-',\n 'ter, y hablad de lo uno, y lo otro',\n 'con gran veneracion, sintiendo con',\n 'igual piedad. ',\n 'A las censuras de la Iglesia tened',\n 'mucho respeto, y por todos los in-',\n 'tereses del mundo ni un instante os',\n 'descuydeys en incurrir en ellas, ni',\n 'lo consintays a vuestros ministros y ',\n 'vasallos, como tampoco ser por cau-',\n 'sa vuestra nadie descomulgado.',\n 'Hablad muy bien siempre de to-',\n 'das las Religiones, y favorecedlas ',\n 'quanto os sea possible, y aun a qual-',\n 'quiera Religioso y Sacerdote (que',\n 'es la mayor dignidad, pues según',\n 'San Leon excede a la Real) venerad',\n 'y respetad en toda ocasión, tenien-',\n 'do por buena suerte el ofrecerseos',\n 'alguna de mostrarles rendimiento, ',\n 'y no lo rehuseys en publico (por lo',\n 'que deveys al buen exemplo) no',\n 'consintays jamas que dellos se ha-',\n 'ble con nota, ni indecencia delan-',\n 'te de vos, aunque sea en materia ',\n 'leve y no os contenteys con esto, ',\n 'mas estad tan lexos de recibir es-',\n 'candalo por falta (aunque sea muy ',\n 'publica) de cualquier Eclesiastico, ',\n 'o Religioso< y hazed tanta estima',\n 'de las Religiones, que si de alguna',\n 'de las aprobadas por la Iglesia fues',\n 'se possible ver apostatar a todos los',\n 'De ella, quedando solo uno que la',\n 'observase, en el venereys, y estimeys',\n 'su Religion con la fineza, que vien-',\n 'dola muy poblada de Santos: y tan',\n 'capaz ha de ser vuestro corazon que ',\n 'quepa en el, el amor de todas las',\n 'Religiones, assi de las que comuni-',\n 'cays, como de las que nunca aveys',\n 'visto, que esse sera el mas desinte-',\n 'ressado, fundandole solo en ser co-',\n 'lumnas de la Iglesia. ',\n 'No tendreys por ningun caso',\n 'puntos de cortesias con los Obispos',\n 'y Prelados, tomad dellos con esti-',\n 'macion cualquiera, y dadles la qu',\n 'quisieren, teniendo os por inferior',\n 'del que mas lo es entre los Minis',\n 'tros de la Iglesia. ',\n 'Con gente virtuosa, y dedidada a',\n 'Dios nunca sustenteys diferencias,',\n 'que saldreys mal dellas, porque los ',\n 'ampara el mas poderoso patroci-',\n 'nio, assistiendolos siempre su divina',\n 'Magestad.',\n 'A los Religiosos, y Religiosas de',\n 'los Conventos de vuestros Estados, ',\n 'dad toda la cortesia que a los de o-',\n 'tras partes, y concededles las cosas',\n 'de gracia factibles que os pidieren',\n 'por criados, y vassallos, para que les',\n 'queden bien afectos; y siempre vos',\n 'ganareys en su comunicación, bus-',\n 'cando para ello los mas aprovecha-',\n 'dos, y Doctos: pero mirad mucho en',\n 'no distraerlos, ni hazerlos faltar por',\n 'vuestro respecto a los de sus institu-',\n 'tos, como tampoco a los Prelados',\n 'en lo mas conveniente a las Reli-',\n 'giones: No os mateys en governar-',\n 'las, que ni lo entienden, ni es de-',\n 'cente introduzirse en esto de los secu-',\n 'lares, aunque sean fundadores, pues',\n 'por serlo han de dessear mas la per-',\n 'feccion de aquellas obras, que el ',\n 'cumplimiento de sus antojos.',\n 'Parece que siendo de ordinario',\n 'en los lugares propios hijos de vas-',\n 'sallos los Clerigos, tendra algun in',\n 'conveniente tratarlos con tanta fa-',\n 'miliaridad, pero en casos forzosos ',\n 'sea con cortesia, y oyendolos alo-',\n 'menos en pie, y haziendolos a',\n 'ellos cubrir; y aun con vuestros Ca-',\n 'pellanes no useys del, vos ni dexeys',\n 'de quitarles el sombrero, hazed que',\n 'se cubran, y para no estar en pie, en',\n 'vendiciendo la mesa, que se vayan.',\n 'Preciaos de cumplir con las obli-',\n 'gaciones devidas a vuestra Parro-',\n 'chia donde quiera que esteys, no',\n 'pretendiendo exempciones en esto, ',\n 'ni ceremonias nuevas para vuestra',\n 'persona, sino admitiendo con hu-',\n 'mildad las que hallaredes introdu-',\n 'zidas en vuestro Estado con los an-',\n 'tecessores señores del. ',\n 'Respetad mucho los Templos, es-',\n 'tando en ellos con gran compostura',\n 'descubierto, y de rodillas (no con',\n 'una sola) quanto podays, meditando',\n 'con el corazon lo que pronuncian',\n 'los labios, atentos los ojos a la Ma-',\n 'gestad que alli preside. No seays de',\n 'los inquietos, y vagueadores q vio',\n 'el Propheta; ni permitireys os ha-',\n 'blen en negocios, sino lo muy for-',\n 'zoso, y si para esto algun criado hin-',\n 'care la rodilla, sepa ha de ser enton-',\n 'ces al Altar, y no a vos.',\n 'Assistid a los divinos Oficios siem-',\n 'pre que podays, no permitiendo si-',\n 'tial estando patente el Santissimo',\n 'Sacramento, ni en Semana Santa. ',\n 'Oyd de buena gana Sermones, ',\n 'con desseo de aprovechar, y no di-',\n 'gays mal de ninguno, aunque no os ',\n 'aya parecido bien. ',\n 'Acudireys a las processiones, imi-',\n 'tando alli interiormente el espiritu',\n 'del Santo Rey David. ',\n 'De las Iglesias de vuestro Estado',\n 'hareys cuydar mucho (q no esta des-',\n 'obligados desto los Señores tempora-',\n 'les, por tocar principalmete a los O-',\n 'bispos) procurad las tega co todas de-',\n 'cencia, y proveydas de lo necessario;',\n 'y para edificarlas, y adornarlas, con ',\n 'Retablos, como tambien para Her-',\n 'mitas, y otras cosas de devocion de ',\n 'vuestros vassallos los ayudareys con limosnas, ',\n 'y se las alabareys. ',\n 'Para las fiestas de acavallo, y ar-',\n 'mas que huvieredes de hazer, to-',\n 'mad motivos devotos en honra de ',\n 'nuestro Señor, y de sus Santos, por-',\n 'que saqueys provecho de todo, y no',\n 'aya en ellas desgracias. ',\n 'Cada año celebrareys con solem-',\n 'nidad de la Iglesia (a lo menos) la',\n 'Fiesta del Santo de vuestro nombre.',\n 'Y del Angel de la Guarda, a quien',\n 'aveys de tener gran respeto, conti-',\n 'nua consideracion de traerle pre-',\n 'sente, y agradecimiento a los mu-',\n 'chos beneficios, que según ponde-',\n 'ran los Santos Doctores Bernardo, ',\n 'Ambrosio, y Basilio, exercitan estos',\n 'gloriosos Angeles con todas las al-',\n 'mas de que tienen tutela; Platon, ',\n 'y otros muchos Philosophos Gen-',\n 'Tiles lo conocieron assi, y los vene-',\n 'raron por ello. ',\n 'Mas vuestra mayor Fiesta reser-',\n 'vad para el dia en que cumplieredes',\n 'años de Bautismo, este han de ser las',\n 'galas, y regozijo, en reconocimien-',\n 'to de averos hecho Dios hijo de su ',\n 'Iglesia, y no como se acostumbra en',\n 'el que nacimos hijos de ira, cuya',\n 'memoria siepre nos devria entriste-',\n 'zer, enternezer, y lastimar; y una',\n 'de las acciones que aveys de hazer',\n 'con mucha atencion y devocion en',\n 'el dia desta Fiesta, ha de ser ofrecer',\n 'en la Missa (saliendo de vuestro',\n 'puesto a besar la mano al Sacerdote)',\n 'tantas monedas de oro, quantos ',\n 'años cumplieredes, para que se gas-',\n 'ten en ornato de la Iglesia, o limos-',\n 'nas. ',\n 'Vuestra principal devocion em-',\n 'plead en el Santissimo Sacramento',\n 'del Altar, y aunque no os ha de mo-',\n 'tivar a ello interes, sino el amor, mi-',\n 'rad lo que ha engrandezido Dios',\n 'por este camino sobre todas las fa-',\n 'milias del mundo, la imperial Casa',\n 'de Austria, imitad los actos de Fe',\n 'visa que muchos han hecho con',\n 'este divino Misterio. De uno de los',\n 'Potentados de Italia de nuestros',\n 'tiempos, oi, que aviendo de traerle',\n 'a la hora de su muerte el Viatico',\n 'hizo colgar, cubrir de alhombras, y ',\n 'perfumar su casa, inchirla de lumi-',\n 'narias, y todo genero de rico ador-',\n 'no, y musica, y que al entrar este Su-',\n 'premo Rey por sus puertas, se dispa-',\n 'rase la artilleria del Castillo, que le',\n 'hizo una gran salva. A este exemplo ',\n 'añadire otro de la Condesa de ',\n 'Buendia Doña Maria de Acuña, ',\n 'bien conocida por su rara virtud. ',\n 'Esta Señora llegando a su casa un',\n 'dia, que venia de Missa, y oyendo',\n 'trayan la comunion a un cochero',\n 'suyo, quiso entrar en el aposento ',\n 'donde estava, y viendole (como lo',\n 'avia juzgado) tan indecente para es-',\n 'perar tal huesped, mandando ocu-',\n 'par los reposteros en limpiarle, y',\n 'colgarle con lo mejor de su casa, ',\n 'y a los q le acopanava en coponer un',\n 'curioso Altar todo muy perfumado, ',\n 'assistio alli hasta q recibio, y acopaño',\n '(al salir) el Santissimo Sacramento: lo',\n 'qual hareys vos, no solo encontran-',\n 'dole, sino buscando ocasiones para',\n 'ello, alumbradle por vuestra perso-',\n 'na, y las de vuestros pajes y criados, ',\n 'tomad la esclavitud suya (y de la',\n 'Virgen nuestra Señora, que ha de ',\n 'ser vuestro amparo y Madre) y al fin',\n 'en todas ocasiones reverenciad, y ',\n 'servid a aquel Divino Señor Sacra-',\n 'mentado en el Misterio de Fe que ',\n 'mas la manifiesta, pues hasta los irra-',\n 'cionales nos enseñan esto, como en-',\n 'tre otros muchos se vio en la oveji-',\n 'ta que crio San Francisco, y el cor-',\n 'derillo, de que escribe Estephano',\n 'Iuliaco.']"
     },
     "execution_count": 8,
     "metadata": {},
     "output_type": "execute_result"
    }
   ],
   "source": [
    "import itertools\n",
    "\n",
    "flatten_list = list(itertools.chain(*final_list))\n",
    "flatten_list"
   ],
   "metadata": {
    "collapsed": false,
    "ExecuteTime": {
     "end_time": "2024-03-24T05:31:38.434820Z",
     "start_time": "2024-03-24T05:31:38.424409Z"
    }
   },
   "id": "8662fa4a7ba6059c",
   "execution_count": 8
  },
  {
   "cell_type": "code",
   "outputs": [
    {
     "data": {
      "text/plain": "{' ',\n '(',\n ')',\n ',',\n '-',\n '.',\n ':',\n ';',\n '<',\n 'A',\n 'B',\n 'C',\n 'D',\n 'E',\n 'F',\n 'G',\n 'H',\n 'I',\n 'J',\n 'L',\n 'M',\n 'N',\n 'O',\n 'P',\n 'Q',\n 'R',\n 'S',\n 'T',\n 'U',\n 'V',\n 'Y',\n 'a',\n 'b',\n 'c',\n 'd',\n 'e',\n 'f',\n 'g',\n 'h',\n 'i',\n 'j',\n 'l',\n 'm',\n 'n',\n 'o',\n 'p',\n 'q',\n 'r',\n 's',\n 't',\n 'u',\n 'v',\n 'x',\n 'y',\n 'z',\n 'á',\n 'é',\n 'í',\n 'ñ',\n 'ó',\n 'ú'}"
     },
     "execution_count": 9,
     "metadata": {},
     "output_type": "execute_result"
    }
   ],
   "source": [
    "characters = {char for sentence in flatten_list for char in sentence}\n",
    "characters"
   ],
   "metadata": {
    "collapsed": false,
    "ExecuteTime": {
     "end_time": "2024-03-24T05:31:40.915772Z",
     "start_time": "2024-03-24T05:31:40.898884Z"
    }
   },
   "id": "e418a5cb803a3431",
   "execution_count": 9
  },
  {
   "cell_type": "code",
   "outputs": [
    {
     "data": {
      "text/plain": "['Historia De España_Del',\n 'Arçobispo. Do Rodri_',\n 'go. Traducida En Ro_',\n 'mançe',\n 'E ste es el libro de la Cronica de es']"
     },
     "execution_count": 10,
     "metadata": {},
     "output_type": "execute_result"
    }
   ],
   "source": [
    "rodrigo_dict = {\"label\": [], \"file path\": []}\n",
    "with open('Rodrigo/text/transcriptions.txt') as f:\n",
    "    for line in f.readlines():\n",
    "        rodrigo_dict[\"label\"].append(line[len(\"Rodrigo_00000_00\")+1:-len(\"\\n\")])\n",
    "        rodrigo_dict[\"file path\"].append(line[:len(\"Rodrigo_00000_00\")] + \".png\")\n",
    "rodrigo_dict[\"label\"][:5]"
   ],
   "metadata": {
    "collapsed": false,
    "ExecuteTime": {
     "end_time": "2024-03-24T05:31:48.078190Z",
     "start_time": "2024-03-24T05:31:48.058836Z"
    }
   },
   "id": "89b138c74d238754",
   "execution_count": 10
  },
  {
   "cell_type": "code",
   "outputs": [
    {
     "data": {
      "text/plain": "15010"
     },
     "execution_count": 28,
     "metadata": {},
     "output_type": "execute_result"
    }
   ],
   "source": [
    "len(rodrigo_dict[\"label\"])"
   ],
   "metadata": {
    "collapsed": false,
    "ExecuteTime": {
     "end_time": "2024-03-24T06:07:45.705818Z",
     "start_time": "2024-03-24T06:07:45.698973Z"
    }
   },
   "id": "239f3c10524f96f3",
   "execution_count": 28
  },
  {
   "cell_type": "code",
   "outputs": [
    {
     "data": {
      "text/plain": "['Rodrigo_00006_00.png',\n 'Rodrigo_00006_01.png',\n 'Rodrigo_00006_02.png',\n 'Rodrigo_00006_03.png',\n 'Rodrigo_00008_00.png']"
     },
     "execution_count": 27,
     "metadata": {},
     "output_type": "execute_result"
    }
   ],
   "source": [
    "rodrigo_dict[\"file path\"][:5]"
   ],
   "metadata": {
    "collapsed": false,
    "ExecuteTime": {
     "end_time": "2024-03-23T11:03:49.671679Z",
     "start_time": "2024-03-23T11:03:49.665097Z"
    }
   },
   "id": "5878786c6ef64b9c",
   "execution_count": 27
  },
  {
   "cell_type": "code",
   "outputs": [
    {
     "data": {
      "text/plain": "                                   label             file path\n0                 Historia De España_Del  Rodrigo_00006_00.png\n1                   Arçobispo. Do Rodri_  Rodrigo_00006_01.png\n2                   go. Traducida En Ro_  Rodrigo_00006_02.png\n3                                  mançe  Rodrigo_00006_03.png\n4  E ste es el libro de la Cronica de es  Rodrigo_00008_00.png",
      "text/html": "<div>\n<style scoped>\n    .dataframe tbody tr th:only-of-type {\n        vertical-align: middle;\n    }\n\n    .dataframe tbody tr th {\n        vertical-align: top;\n    }\n\n    .dataframe thead th {\n        text-align: right;\n    }\n</style>\n<table border=\"1\" class=\"dataframe\">\n  <thead>\n    <tr style=\"text-align: right;\">\n      <th></th>\n      <th>label</th>\n      <th>file path</th>\n    </tr>\n  </thead>\n  <tbody>\n    <tr>\n      <th>0</th>\n      <td>Historia De España_Del</td>\n      <td>Rodrigo_00006_00.png</td>\n    </tr>\n    <tr>\n      <th>1</th>\n      <td>Arçobispo. Do Rodri_</td>\n      <td>Rodrigo_00006_01.png</td>\n    </tr>\n    <tr>\n      <th>2</th>\n      <td>go. Traducida En Ro_</td>\n      <td>Rodrigo_00006_02.png</td>\n    </tr>\n    <tr>\n      <th>3</th>\n      <td>mançe</td>\n      <td>Rodrigo_00006_03.png</td>\n    </tr>\n    <tr>\n      <th>4</th>\n      <td>E ste es el libro de la Cronica de es</td>\n      <td>Rodrigo_00008_00.png</td>\n    </tr>\n  </tbody>\n</table>\n</div>"
     },
     "execution_count": 28,
     "metadata": {},
     "output_type": "execute_result"
    }
   ],
   "source": [
    "rodrigo_dataset = pd.DataFrame.from_dict(rodrigo_dict)\n",
    "rodrigo_dataset.head()"
   ],
   "metadata": {
    "collapsed": false,
    "ExecuteTime": {
     "end_time": "2024-03-23T11:04:47.960328Z",
     "start_time": "2024-03-23T11:04:47.950202Z"
    }
   },
   "id": "616286d85f3e3f83",
   "execution_count": 28
  },
  {
   "cell_type": "code",
   "outputs": [],
   "source": [
    "rodrigo_dataset.to_csv('Rodrigo/rodrigo_dataset.csv')"
   ],
   "metadata": {
    "collapsed": false,
    "ExecuteTime": {
     "end_time": "2024-03-23T11:09:30.086790Z",
     "start_time": "2024-03-23T11:09:30.043522Z"
    }
   },
   "id": "b3ab5f9f3a21c73f",
   "execution_count": 29
  },
  {
   "cell_type": "code",
   "outputs": [
    {
     "data": {
      "text/plain": "{' ',\n '\"',\n '&',\n '(',\n ')',\n '+',\n ',',\n '-',\n '.',\n '/',\n '0',\n '1',\n '2',\n '3',\n '4',\n '5',\n '6',\n '7',\n '8',\n '9',\n ':',\n ';',\n '=',\n '?',\n 'A',\n 'B',\n 'C',\n 'D',\n 'E',\n 'F',\n 'G',\n 'H',\n 'I',\n 'J',\n 'L',\n 'M',\n 'N',\n 'O',\n 'P',\n 'Q',\n 'R',\n 'S',\n 'T',\n 'U',\n 'V',\n 'X',\n 'Y',\n 'Z',\n '\\\\',\n '_',\n 'a',\n 'b',\n 'c',\n 'd',\n 'e',\n 'f',\n 'g',\n 'h',\n 'i',\n 'j',\n 'l',\n 'm',\n 'n',\n 'o',\n 'p',\n 'q',\n 'r',\n 's',\n 't',\n 'u',\n 'v',\n 'w',\n 'x',\n 'y',\n 'z',\n '|',\n '¶',\n 'º',\n 'Ç',\n 'á',\n 'ç',\n 'é',\n 'í',\n 'ñ',\n 'ó',\n 'þ',\n 'ā',\n 'đ',\n 'ē',\n 'ę',\n 'ħ',\n 'ī',\n 'ł',\n 'ō',\n 'ř',\n 'ś',\n 'š',\n 'ū',\n 'ƚ',\n 'ȓ',\n 'ʠ',\n 'ք',\n 'Ⴒ',\n 'ḡ',\n 'ṕ',\n 'ỹ',\n '–',\n '“',\n '₉',\n '℣',\n '♦'}"
     },
     "execution_count": 25,
     "metadata": {},
     "output_type": "execute_result"
    }
   ],
   "source": [
    "rodrigo_characters = {char for sentence in rodrigo_dict[\"label\"] for char in sentence}\n",
    "rodrigo_characters"
   ],
   "metadata": {
    "collapsed": false,
    "ExecuteTime": {
     "end_time": "2024-03-24T06:06:14.324818Z",
     "start_time": "2024-03-24T06:06:14.304787Z"
    }
   },
   "id": "3065b94f4a6613c0",
   "execution_count": 25
  },
  {
   "cell_type": "code",
   "outputs": [
    {
     "data": {
      "text/plain": "['¶',\n 'd',\n '–',\n 'f',\n 'G',\n 'C',\n 'ā',\n 'ñ',\n '&',\n 'g',\n 'q',\n 'o',\n 'N',\n 'Q',\n 'ō',\n 'O',\n 'h',\n 'u',\n 'Y',\n 'b',\n 'J',\n 'L',\n 'r',\n 'V',\n '1',\n 'n',\n 'y',\n '.',\n ',',\n 'x',\n 'a',\n 'e',\n 'l',\n 'i',\n 'E',\n 'j',\n 'v',\n 'P',\n 's',\n ' ',\n 'A',\n 'z',\n '-',\n 'c',\n 'R',\n 'p',\n '2',\n 'M',\n 't',\n 'T',\n 'S',\n 'D',\n '/',\n 'm',\n 'ç']"
     },
     "execution_count": 26,
     "metadata": {},
     "output_type": "execute_result"
    }
   ],
   "source": [
    "rodrigo_characters_count = {char: 0 for char in rodrigo_characters}\n",
    "for sentence in rodrigo_dict[\"label\"]:\n",
    "    for char in sentence:\n",
    "        rodrigo_characters_count[char] += 1\n",
    "rodrigo_characters = [char for char in rodrigo_characters_count.keys() if rodrigo_characters_count[char] >= 100]\n",
    "rodrigo_characters"
   ],
   "metadata": {
    "collapsed": false,
    "ExecuteTime": {
     "end_time": "2024-03-24T06:06:49.433239Z",
     "start_time": "2024-03-24T06:06:49.356741Z"
    }
   },
   "id": "dde1d88c55683a27",
   "execution_count": 26
  },
  {
   "cell_type": "code",
   "outputs": [
    {
     "data": {
      "text/plain": "61"
     },
     "execution_count": 29,
     "metadata": {},
     "output_type": "execute_result"
    }
   ],
   "source": [
    "len(characters)"
   ],
   "metadata": {
    "collapsed": false,
    "ExecuteTime": {
     "end_time": "2024-03-24T06:08:22.407160Z",
     "start_time": "2024-03-24T06:08:22.400050Z"
    }
   },
   "id": "a9e5373d1a39aed0",
   "execution_count": 29
  },
  {
   "cell_type": "code",
   "outputs": [
    {
     "data": {
      "text/plain": "['o',\n 'l',\n 'c',\n 'i',\n 'U',\n 'R',\n 'N',\n 'Q',\n 'E',\n 'I',\n 'O',\n 'H',\n 'd',\n 'h',\n 'j',\n 'ó',\n 'F',\n 'p',\n 'í',\n 'v',\n 'u',\n 'é',\n 'Y',\n 'b',\n '<',\n 'J',\n 'f',\n 'M',\n 'G',\n 'C',\n 'L',\n 't',\n 'T',\n 'S',\n 'D',\n 'ñ',\n 'P',\n 's',\n ' ',\n 'm',\n 'r',\n ')',\n 'V',\n ':',\n 'A',\n '(',\n 'g',\n 'á',\n 'y',\n 'n',\n '.',\n ';',\n ',',\n 'x',\n 'a',\n 'e',\n 'q',\n 'z',\n 'ú',\n 'B',\n '-']"
     },
     "execution_count": 30,
     "metadata": {},
     "output_type": "execute_result"
    }
   ],
   "source": [
    "char_list = list(characters)\n",
    "char_list"
   ],
   "metadata": {
    "collapsed": false,
    "ExecuteTime": {
     "end_time": "2024-03-24T06:08:23.369378Z",
     "start_time": "2024-03-24T06:08:23.362250Z"
    }
   },
   "id": "8fe3d66cfea6353d",
   "execution_count": 30
  },
  {
   "cell_type": "code",
   "outputs": [
    {
     "data": {
      "text/plain": "['o',\n 'l',\n 'c',\n 'i',\n 'u',\n 'r',\n 'n',\n 'q',\n 'e',\n 'i',\n 'o',\n 'h',\n 'd',\n 'h',\n 'j',\n 'ó',\n 'f',\n 'p',\n 'í',\n 'v',\n 'u',\n 'é',\n 'y',\n 'b',\n '<',\n 'j',\n 'f',\n 'm',\n 'g',\n 'c',\n 'l',\n 't',\n 't',\n 's',\n 'd',\n 'ñ',\n 'p',\n 's',\n ' ',\n 'm',\n 'r',\n ')',\n 'v',\n ':',\n 'a',\n '(',\n 'g',\n 'á',\n 'y',\n 'n',\n '.',\n ';',\n ',',\n 'x',\n 'a',\n 'e',\n 'q',\n 'z',\n 'ú',\n 'b',\n '-']"
     },
     "execution_count": 31,
     "metadata": {},
     "output_type": "execute_result"
    }
   ],
   "source": [
    "lowercase_char = [char.lower() for char in char_list]\n",
    "lowercase_char"
   ],
   "metadata": {
    "collapsed": false,
    "ExecuteTime": {
     "end_time": "2024-03-24T06:08:35.198455Z",
     "start_time": "2024-03-24T06:08:35.191393Z"
    }
   },
   "id": "e18c43de2f425c04",
   "execution_count": 31
  },
  {
   "cell_type": "code",
   "outputs": [
    {
     "data": {
      "text/plain": "['l',\n 'o',\n 'c',\n 'i',\n 'd',\n 'h',\n 'j',\n 'ó',\n 'p',\n 'í',\n 'v',\n 'u',\n 'é',\n '<',\n 'b',\n 'f',\n 't',\n 'ñ',\n 's',\n ' ',\n 'm',\n 'r',\n ')',\n ':',\n '(',\n 'g',\n 'á',\n 'n',\n 'y',\n '.',\n ';',\n ',',\n 'x',\n 'a',\n 'e',\n 'q',\n 'z',\n 'ú',\n '-']"
     },
     "execution_count": 32,
     "metadata": {},
     "output_type": "execute_result"
    }
   ],
   "source": [
    "lowercase_char = list(set(lowercase_char))\n",
    "lowercase_char"
   ],
   "metadata": {
    "collapsed": false,
    "ExecuteTime": {
     "end_time": "2024-03-24T06:08:51.705373Z",
     "start_time": "2024-03-24T06:08:51.698029Z"
    }
   },
   "id": "480508c9e5c20039",
   "execution_count": 32
  },
  {
   "cell_type": "code",
   "outputs": [
    {
     "data": {
      "text/plain": "['o',\n 'l',\n 'c',\n 'i',\n '¶',\n 'ō',\n 'd',\n 'h',\n 'j',\n 'p',\n '2',\n 'v',\n 'u',\n '–',\n 'b',\n 'f',\n 'ā',\n 't',\n 'ñ',\n '/',\n 's',\n ' ',\n 'm',\n 'r',\n '&',\n '1',\n 'g',\n 'n',\n 'y',\n '.',\n ',',\n 'x',\n 'a',\n 'e',\n 'q',\n 'z',\n 'ç',\n '-']"
     },
     "execution_count": 33,
     "metadata": {},
     "output_type": "execute_result"
    }
   ],
   "source": [
    "rodrigo_lowercase = {char.lower() for char in rodrigo_characters}\n",
    "rodrigo_lowercase = list(rodrigo_lowercase)\n",
    "rodrigo_lowercase"
   ],
   "metadata": {
    "collapsed": false,
    "ExecuteTime": {
     "end_time": "2024-03-24T06:09:17.259650Z",
     "start_time": "2024-03-24T06:09:17.253574Z"
    }
   },
   "id": "419a03fb0eefb503",
   "execution_count": 33
  },
  {
   "cell_type": "code",
   "outputs": [
    {
     "data": {
      "text/plain": "['o',\n 'l',\n 'c',\n 'i',\n '¶',\n 'ō',\n 'd',\n 'h',\n 'j',\n 'p',\n '2',\n 'v',\n 'u',\n '–',\n 'b',\n 'f',\n 'ā',\n 't',\n 'ñ',\n '/',\n 's',\n ' ',\n 'm',\n 'r',\n '&',\n '1',\n 'g',\n 'n',\n 'y',\n '.',\n ',',\n 'x',\n 'a',\n 'e',\n 'q',\n 'z',\n 'ç',\n '-',\n 'l',\n 'o',\n 'c',\n 'i',\n 'd',\n 'h',\n 'j',\n 'ó',\n 'p',\n 'í',\n 'v',\n 'u',\n 'é',\n '<',\n 'b',\n 'f',\n 't',\n 'ñ',\n 's',\n ' ',\n 'm',\n 'r',\n ')',\n ':',\n '(',\n 'g',\n 'á',\n 'n',\n 'y',\n '.',\n ';',\n ',',\n 'x',\n 'a',\n 'e',\n 'q',\n 'z',\n 'ú',\n '-']"
     },
     "execution_count": 34,
     "metadata": {},
     "output_type": "execute_result"
    }
   ],
   "source": [
    "final_char_list = rodrigo_lowercase + lowercase_char\n",
    "final_char_list"
   ],
   "metadata": {
    "collapsed": false,
    "ExecuteTime": {
     "end_time": "2024-03-24T06:09:26.555646Z",
     "start_time": "2024-03-24T06:09:26.548677Z"
    }
   },
   "id": "c736cb67db113de7",
   "execution_count": 34
  },
  {
   "cell_type": "code",
   "outputs": [
    {
     "data": {
      "text/plain": "{' ',\n '&',\n '(',\n ')',\n ',',\n '-',\n '.',\n '/',\n '1',\n '2',\n ':',\n ';',\n '<',\n 'a',\n 'b',\n 'c',\n 'd',\n 'e',\n 'f',\n 'g',\n 'h',\n 'i',\n 'j',\n 'l',\n 'm',\n 'n',\n 'o',\n 'p',\n 'q',\n 'r',\n 's',\n 't',\n 'u',\n 'v',\n 'x',\n 'y',\n 'z',\n '¶',\n 'á',\n 'ç',\n 'é',\n 'í',\n 'ñ',\n 'ó',\n 'ú',\n 'ā',\n 'ō',\n '–'}"
     },
     "execution_count": 35,
     "metadata": {},
     "output_type": "execute_result"
    }
   ],
   "source": [
    "final_char_set = set(final_char_list)\n",
    "final_char_set"
   ],
   "metadata": {
    "collapsed": false,
    "ExecuteTime": {
     "end_time": "2024-03-24T06:09:30.957403Z",
     "start_time": "2024-03-24T06:09:30.950662Z"
    }
   },
   "id": "9af8cd15ff16f964",
   "execution_count": 35
  },
  {
   "cell_type": "code",
   "outputs": [],
   "source": [
    "final_char_set = list(final_char_set)"
   ],
   "metadata": {
    "collapsed": false,
    "ExecuteTime": {
     "end_time": "2024-03-24T06:09:35.057814Z",
     "start_time": "2024-03-24T06:09:35.050637Z"
    }
   },
   "id": "ed1158e141e68c80",
   "execution_count": 36
  },
  {
   "cell_type": "code",
   "outputs": [
    {
     "data": {
      "text/plain": "['l',\n 'o',\n 'c',\n 'i',\n '¶',\n 'ō',\n 'd',\n 'h',\n 'j',\n 'ó',\n 'p',\n '2',\n 'í',\n 'v',\n 'u',\n '–',\n 'é',\n '<',\n 'b',\n 'f',\n 'ā',\n 't',\n 'ñ',\n '/',\n 's',\n ' ',\n 'm',\n 'r',\n ')',\n ':',\n '&',\n '1',\n '(',\n 'g',\n 'á',\n 'n',\n 'y',\n '.',\n ';',\n ',',\n 'x',\n 'a',\n 'e',\n 'q',\n 'z',\n 'ç',\n 'ú',\n '-',\n '<PAD>',\n '<SOS>',\n '<EOS>',\n '<UNK>']"
     },
     "execution_count": 37,
     "metadata": {},
     "output_type": "execute_result"
    }
   ],
   "source": [
    "final_char_set.extend(('<PAD>', '<SOS>', '<EOS>', '<UNK>'))\n",
    "final_char_set"
   ],
   "metadata": {
    "collapsed": false,
    "ExecuteTime": {
     "end_time": "2024-03-24T06:09:48.474773Z",
     "start_time": "2024-03-24T06:09:48.468234Z"
    }
   },
   "id": "327de03c66728130",
   "execution_count": 37
  },
  {
   "cell_type": "code",
   "outputs": [
    {
     "data": {
      "text/plain": "{'l': 0,\n 'o': 1,\n 'c': 2,\n 'i': 3,\n '¶': 4,\n 'ō': 5,\n 'd': 6,\n 'h': 7,\n 'j': 8,\n 'ó': 9,\n 'p': 10,\n '2': 11,\n 'í': 12,\n 'v': 13,\n 'u': 14,\n '–': 15,\n 'é': 16,\n '<': 17,\n 'b': 18,\n 'f': 19,\n 'ā': 20,\n 't': 21,\n 'ñ': 22,\n '/': 23,\n 's': 24,\n ' ': 25,\n 'm': 26,\n 'r': 27,\n ')': 28,\n ':': 29,\n '&': 30,\n '1': 31,\n '(': 32,\n 'g': 33,\n 'á': 34,\n 'n': 35,\n 'y': 36,\n '.': 37,\n ';': 38,\n ',': 39,\n 'x': 40,\n 'a': 41,\n 'e': 42,\n 'q': 43,\n 'z': 44,\n 'ç': 45,\n 'ú': 46,\n '-': 47,\n '<PAD>': 48,\n '<SOS>': 49,\n '<EOS>': 50,\n '<UNK>': 51}"
     },
     "execution_count": 38,
     "metadata": {},
     "output_type": "execute_result"
    }
   ],
   "source": [
    "char_to_token = {char : i for i, char in enumerate(final_char_set)}\n",
    "char_to_token"
   ],
   "metadata": {
    "collapsed": false,
    "ExecuteTime": {
     "end_time": "2024-03-24T06:10:02.358897Z",
     "start_time": "2024-03-24T06:10:02.351390Z"
    }
   },
   "id": "222a2502dde02df3",
   "execution_count": 38
  },
  {
   "cell_type": "code",
   "outputs": [
    {
     "data": {
      "text/plain": "45"
     },
     "execution_count": 39,
     "metadata": {},
     "output_type": "execute_result"
    }
   ],
   "source": [
    "char_to_token[\"ç\"]"
   ],
   "metadata": {
    "collapsed": false,
    "ExecuteTime": {
     "end_time": "2024-03-24T06:10:19.943953Z",
     "start_time": "2024-03-24T06:10:19.937656Z"
    }
   },
   "id": "1b135e9dd40b3c75",
   "execution_count": 39
  },
  {
   "cell_type": "code",
   "outputs": [
    {
     "data": {
      "text/plain": "{0: 'l',\n 1: 'o',\n 2: 'c',\n 3: 'i',\n 4: '¶',\n 5: 'ō',\n 6: 'd',\n 7: 'h',\n 8: 'j',\n 9: 'ó',\n 10: 'p',\n 11: '2',\n 12: 'í',\n 13: 'v',\n 14: 'u',\n 15: '–',\n 16: 'é',\n 17: '<',\n 18: 'b',\n 19: 'f',\n 20: 'ā',\n 21: 't',\n 22: 'ñ',\n 23: '/',\n 24: 's',\n 25: ' ',\n 26: 'm',\n 27: 'r',\n 28: ')',\n 29: ':',\n 30: '&',\n 31: '1',\n 32: '(',\n 33: 'g',\n 34: 'á',\n 35: 'n',\n 36: 'y',\n 37: '.',\n 38: ';',\n 39: ',',\n 40: 'x',\n 41: 'a',\n 42: 'e',\n 43: 'q',\n 44: 'z',\n 45: 'ç',\n 46: 'ú',\n 47: '-',\n 48: '<PAD>',\n 49: '<SOS>',\n 50: '<EOS>',\n 51: '<UNK>'}"
     },
     "execution_count": 40,
     "metadata": {},
     "output_type": "execute_result"
    }
   ],
   "source": [
    "token_to_char = {token : char for char, token in char_to_token.items()}\n",
    "token_to_char"
   ],
   "metadata": {
    "collapsed": false,
    "ExecuteTime": {
     "end_time": "2024-03-24T06:10:22.398536Z",
     "start_time": "2024-03-24T06:10:22.391103Z"
    }
   },
   "id": "6a41aabbb8cbc698",
   "execution_count": 40
  },
  {
   "cell_type": "code",
   "outputs": [],
   "source": [
    "token_to_char[char_to_token[\"ç\"]] = \"z\""
   ],
   "metadata": {
    "collapsed": false,
    "ExecuteTime": {
     "end_time": "2024-03-24T06:10:39.023458Z",
     "start_time": "2024-03-24T06:10:39.018245Z"
    }
   },
   "id": "9ab82ea1d0b3708c",
   "execution_count": 41
  },
  {
   "cell_type": "code",
   "outputs": [],
   "source": [
    "import pickle\n",
    "\n",
    "with open('char_to_token.pkl', 'wb') as f:\n",
    "    pickle.dump(char_to_token, f, protocol=pickle.HIGHEST_PROTOCOL)"
   ],
   "metadata": {
    "collapsed": false,
    "ExecuteTime": {
     "end_time": "2024-03-24T06:10:42.528520Z",
     "start_time": "2024-03-24T06:10:42.522922Z"
    }
   },
   "id": "1af320e981355ccf",
   "execution_count": 42
  },
  {
   "cell_type": "code",
   "outputs": [],
   "source": [
    "with open('token_to_char.pkl', 'wb') as f:\n",
    "    pickle.dump(token_to_char, f, protocol=pickle.HIGHEST_PROTOCOL)"
   ],
   "metadata": {
    "collapsed": false,
    "ExecuteTime": {
     "end_time": "2024-03-24T06:10:43.400077Z",
     "start_time": "2024-03-24T06:10:43.390881Z"
    }
   },
   "id": "801ba06b39990244",
   "execution_count": 43
  },
  {
   "cell_type": "code",
   "outputs": [
    {
     "data": {
      "text/plain": "74"
     },
     "execution_count": 44,
     "metadata": {},
     "output_type": "execute_result"
    }
   ],
   "source": [
    "max([len(char) for char in rodrigo_dict[\"label\"]])"
   ],
   "metadata": {
    "collapsed": false,
    "ExecuteTime": {
     "end_time": "2024-03-24T07:37:32.902958Z",
     "start_time": "2024-03-24T07:37:32.895303Z"
    }
   },
   "id": "a6d6c353698e9710",
   "execution_count": 44
  },
  {
   "cell_type": "code",
   "outputs": [
    {
     "data": {
      "text/plain": "47"
     },
     "execution_count": 45,
     "metadata": {},
     "output_type": "execute_result"
    }
   ],
   "source": [
    "max([len(char) for char in flatten_list])"
   ],
   "metadata": {
    "collapsed": false,
    "ExecuteTime": {
     "end_time": "2024-03-24T07:52:08.450367Z",
     "start_time": "2024-03-24T07:52:08.443553Z"
    }
   },
   "id": "6ac023f7f475a922",
   "execution_count": 45
  },
  {
   "cell_type": "code",
   "outputs": [
    {
     "data": {
      "text/plain": "              label                   file path\n0          estabais          estabais_18255.jpg\n1      sobrepuestas      sobrepuestas_17532.jpg\n2  desengaados halo  desengaados halo_18432.jpg\n3       urbanicemos       urbanicemos_18912.jpg\n4         marchemos          marchemos_9680.jpg",
      "text/html": "<div>\n<style scoped>\n    .dataframe tbody tr th:only-of-type {\n        vertical-align: middle;\n    }\n\n    .dataframe tbody tr th {\n        vertical-align: top;\n    }\n\n    .dataframe thead th {\n        text-align: right;\n    }\n</style>\n<table border=\"1\" class=\"dataframe\">\n  <thead>\n    <tr style=\"text-align: right;\">\n      <th></th>\n      <th>label</th>\n      <th>file path</th>\n    </tr>\n  </thead>\n  <tbody>\n    <tr>\n      <th>0</th>\n      <td>estabais</td>\n      <td>estabais_18255.jpg</td>\n    </tr>\n    <tr>\n      <th>1</th>\n      <td>sobrepuestas</td>\n      <td>sobrepuestas_17532.jpg</td>\n    </tr>\n    <tr>\n      <th>2</th>\n      <td>desengaados halo</td>\n      <td>desengaados halo_18432.jpg</td>\n    </tr>\n    <tr>\n      <th>3</th>\n      <td>urbanicemos</td>\n      <td>urbanicemos_18912.jpg</td>\n    </tr>\n    <tr>\n      <th>4</th>\n      <td>marchemos</td>\n      <td>marchemos_9680.jpg</td>\n    </tr>\n  </tbody>\n</table>\n</div>"
     },
     "execution_count": 18,
     "metadata": {},
     "output_type": "execute_result"
    }
   ],
   "source": [
    "import os\n",
    "import pandas as pd\n",
    "decoder_train_folder = \"generated_dataset_for_decoder/train\"\n",
    "decoder_train_list = os.listdir(decoder_train_folder)\n",
    "decoder_train_dataset = {\"label\": [], \"file path\": []}\n",
    "for file in decoder_train_list:\n",
    "    label = file.split(\"_\")[0]\n",
    "    decoder_train_dataset[\"label\"].append(label)\n",
    "    decoder_train_dataset[\"file path\"].append(file)\n",
    "decoder_dataset_DataFrame = pd.DataFrame(decoder_train_dataset)\n",
    "decoder_dataset_DataFrame.head()"
   ],
   "metadata": {
    "collapsed": false,
    "ExecuteTime": {
     "end_time": "2024-03-26T14:12:00.229705Z",
     "start_time": "2024-03-26T14:12:00.205448Z"
    }
   },
   "id": "8ce9bdfd3559f8ac",
   "execution_count": 18
  },
  {
   "cell_type": "code",
   "outputs": [],
   "source": [
    "decoder_dataset_DataFrame.to_csv(\"generated_dataset_for_decoder/train.csv\")"
   ],
   "metadata": {
    "collapsed": false,
    "ExecuteTime": {
     "end_time": "2024-03-26T14:12:10.661733Z",
     "start_time": "2024-03-26T14:12:10.612402Z"
    }
   },
   "id": "77ca104728f7ff06",
   "execution_count": 19
  },
  {
   "cell_type": "code",
   "outputs": [],
   "source": [],
   "metadata": {
    "collapsed": false
   },
   "id": "f6631470f8c0e759"
  }
 ],
 "metadata": {
  "kernelspec": {
   "display_name": "Python 3",
   "language": "python",
   "name": "python3"
  },
  "language_info": {
   "codemirror_mode": {
    "name": "ipython",
    "version": 2
   },
   "file_extension": ".py",
   "mimetype": "text/x-python",
   "name": "python",
   "nbconvert_exporter": "python",
   "pygments_lexer": "ipython2",
   "version": "2.7.6"
  }
 },
 "nbformat": 4,
 "nbformat_minor": 5
}
