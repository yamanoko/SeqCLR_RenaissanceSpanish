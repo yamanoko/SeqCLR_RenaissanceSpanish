{
 "cells": [
  {
   "cell_type": "code",
   "execution_count": 5,
   "id": "initial_id",
   "metadata": {
    "ExecuteTime": {
     "end_time": "2024-03-27T01:30:35.926977Z",
     "start_time": "2024-03-27T01:30:34.517327Z"
    },
    "collapsed": true
   },
   "outputs": [],
   "source": [
    "import json\n",
    "\n",
    "import torch\n",
    "import torch.nn as nn\n",
    "\n",
    "import torch.utils.data\n",
    "from torch.utils.data import DataLoader, ConcatDataset\n",
    "\n",
    "from encoder import Encoder\n",
    "from custom_dataset import ContrastiveLearningDataset\n",
    "from custom_loss import contrastive_loss\n",
    "from torch.optim import Adam\n",
    "from torch.optim.lr_scheduler import StepLR\n",
    "\n",
    "config = json.load(open('config.json', 'r'))[\"SSL\"]"
   ]
  },
  {
   "cell_type": "code",
   "execution_count": 6,
   "id": "2f039402b58fd4a5",
   "metadata": {
    "ExecuteTime": {
     "end_time": "2024-03-27T01:30:36.781092Z",
     "start_time": "2024-03-27T01:30:36.383272Z"
    },
    "collapsed": false
   },
   "outputs": [],
   "source": [
    "torch.manual_seed(0)\n",
    "\n",
    "device = torch.device(\"cuda\" if torch.cuda.is_available() else \"cpu\")\n",
    "model = Encoder()\n",
    "model = model.to(device)\n",
    "optimizer = Adam(model.parameters(), lr=config[\"start lr\"])\n",
    "scheduler = StepLR(optimizer, step_size=config[\"lr scheduler step size\"], gamma=0.1)\n",
    "dataset = []\n",
    "for i in range(1, 4):\n",
    "\tif config[f\"dataset {i}\"] is not None:\n",
    "\t\tdataset.append(ContrastiveLearningDataset(img_dir=config[f\"dataset {i}\"]))\n",
    "dataset = ConcatDataset(dataset)\n",
    "train_dataloader = DataLoader(dataset, batch_size=config[\"Batch size\"], shuffle=True)"
   ]
  },
  {
   "cell_type": "code",
   "execution_count": 7,
   "id": "64d7d878a9df3900",
   "metadata": {
    "ExecuteTime": {
     "end_time": "2024-03-27T01:56:43.402986Z",
     "start_time": "2024-03-27T01:30:50.232616Z"
    },
    "collapsed": false
   },
   "outputs": [
    {
     "name": "stdout",
     "output_type": "stream",
     "text": [
      "Epoch 1/1, Batch 1/13180, Loss:13.108957290649414\n",
      "Epoch 1/1, Batch 101/13180, Loss:13.027593612670898\n",
      "Epoch 1/1, Batch 201/13180, Loss:13.027542114257812\n",
      "Epoch 1/1, Batch 301/13180, Loss:13.026399612426758\n",
      "Epoch 1/1, Batch 401/13180, Loss:13.025890350341797\n",
      "Epoch 1/1, Batch 501/13180, Loss:13.026226997375488\n",
      "Epoch 1/1, Batch 601/13180, Loss:13.025873184204102\n",
      "Epoch 1/1, Batch 701/13180, Loss:13.025595664978027\n",
      "Epoch 1/1, Batch 801/13180, Loss:13.025497436523438\n",
      "Epoch 1/1, Batch 901/13180, Loss:13.025455474853516\n",
      "Epoch 1/1, Batch 1001/13180, Loss:13.025470733642578\n",
      "Epoch 1/1, Batch 1101/13180, Loss:13.025384902954102\n",
      "Epoch 1/1, Batch 1201/13180, Loss:13.025444030761719\n",
      "Epoch 1/1, Batch 1301/13180, Loss:13.025369644165039\n",
      "Epoch 1/1, Batch 1401/13180, Loss:13.025398254394531\n",
      "Epoch 1/1, Batch 1501/13180, Loss:13.025331497192383\n",
      "Epoch 1/1, Batch 1601/13180, Loss:13.025375366210938\n",
      "Epoch 1/1, Batch 1701/13180, Loss:13.025347709655762\n",
      "Epoch 1/1, Batch 1801/13180, Loss:13.025392532348633\n",
      "Epoch 1/1, Batch 1901/13180, Loss:13.02532958984375\n",
      "Epoch 1/1, Batch 2001/13180, Loss:13.025338172912598\n",
      "Epoch 1/1, Batch 2101/13180, Loss:13.025322914123535\n",
      "Epoch 1/1, Batch 2201/13180, Loss:13.025330543518066\n",
      "Epoch 1/1, Batch 2301/13180, Loss:13.025321006774902\n",
      "Epoch 1/1, Batch 2401/13180, Loss:13.025355339050293\n",
      "Epoch 1/1, Batch 2501/13180, Loss:13.025320053100586\n",
      "Epoch 1/1, Batch 2601/13180, Loss:13.025308609008789\n",
      "Epoch 1/1, Batch 2701/13180, Loss:13.025314331054688\n",
      "Epoch 1/1, Batch 2801/13180, Loss:13.025335311889648\n",
      "Epoch 1/1, Batch 2901/13180, Loss:13.025320053100586\n",
      "Epoch 1/1, Batch 3001/13180, Loss:13.025360107421875\n",
      "Epoch 1/1, Batch 3101/13180, Loss:13.025323867797852\n",
      "Epoch 1/1, Batch 3201/13180, Loss:13.025406837463379\n",
      "Epoch 1/1, Batch 3301/13180, Loss:13.025343894958496\n",
      "Epoch 1/1, Batch 3401/13180, Loss:13.025365829467773\n",
      "Epoch 1/1, Batch 3501/13180, Loss:13.025336265563965\n",
      "Epoch 1/1, Batch 3601/13180, Loss:13.025367736816406\n",
      "Epoch 1/1, Batch 3701/13180, Loss:13.025364875793457\n",
      "Epoch 1/1, Batch 3801/13180, Loss:13.025365829467773\n",
      "Epoch 1/1, Batch 3901/13180, Loss:13.02536392211914\n",
      "Epoch 1/1, Batch 4001/13180, Loss:13.025365829467773\n",
      "Epoch 1/1, Batch 4101/13180, Loss:13.02536392211914\n",
      "Epoch 1/1, Batch 4201/13180, Loss:13.025365829467773\n",
      "Epoch 1/1, Batch 4301/13180, Loss:13.02536392211914\n",
      "Epoch 1/1, Batch 4401/13180, Loss:13.02536392211914\n",
      "Epoch 1/1, Batch 4501/13180, Loss:13.02536392211914\n",
      "Epoch 1/1, Batch 4601/13180, Loss:13.025365829467773\n",
      "Epoch 1/1, Batch 4701/13180, Loss:13.02536392211914\n",
      "Epoch 1/1, Batch 4801/13180, Loss:13.02536392211914\n",
      "Epoch 1/1, Batch 4901/13180, Loss:13.025365829467773\n",
      "Epoch 1/1, Batch 5001/13180, Loss:13.02536392211914\n",
      "Epoch 1/1, Batch 5101/13180, Loss:13.02536392211914\n",
      "Epoch 1/1, Batch 5201/13180, Loss:13.025365829467773\n",
      "Epoch 1/1, Batch 5301/13180, Loss:13.025365829467773\n",
      "Epoch 1/1, Batch 5401/13180, Loss:13.02536392211914\n",
      "Epoch 1/1, Batch 5501/13180, Loss:13.02536392211914\n",
      "Epoch 1/1, Batch 5601/13180, Loss:13.02536392211914\n",
      "Epoch 1/1, Batch 5701/13180, Loss:13.025365829467773\n",
      "Epoch 1/1, Batch 5801/13180, Loss:13.02536392211914\n",
      "Epoch 1/1, Batch 5901/13180, Loss:13.02536392211914\n",
      "Epoch 1/1, Batch 6001/13180, Loss:13.02536392211914\n",
      "Epoch 1/1, Batch 6101/13180, Loss:13.02536392211914\n",
      "Epoch 1/1, Batch 6201/13180, Loss:13.02536392211914\n",
      "Epoch 1/1, Batch 6301/13180, Loss:13.025365829467773\n",
      "Epoch 1/1, Batch 6401/13180, Loss:13.025365829467773\n",
      "Epoch 1/1, Batch 6501/13180, Loss:13.025365829467773\n",
      "Epoch 1/1, Batch 6601/13180, Loss:13.025365829467773\n",
      "Epoch 1/1, Batch 6701/13180, Loss:13.025365829467773\n",
      "Epoch 1/1, Batch 6801/13180, Loss:13.025365829467773\n",
      "Epoch 1/1, Batch 6901/13180, Loss:13.025394439697266\n",
      "Epoch 1/1, Batch 7001/13180, Loss:13.02537727355957\n",
      "Epoch 1/1, Batch 7101/13180, Loss:13.025371551513672\n",
      "Epoch 1/1, Batch 7201/13180, Loss:13.025371551513672\n",
      "Epoch 1/1, Batch 7301/13180, Loss:13.025367736816406\n",
      "Epoch 1/1, Batch 7401/13180, Loss:13.025365829467773\n",
      "Epoch 1/1, Batch 7501/13180, Loss:13.025364875793457\n",
      "Epoch 1/1, Batch 7601/13180, Loss:13.025365829467773\n",
      "Epoch 1/1, Batch 7701/13180, Loss:13.025365829467773\n",
      "Epoch 1/1, Batch 7801/13180, Loss:13.025365829467773\n",
      "Epoch 1/1, Batch 7901/13180, Loss:13.025365829467773\n",
      "Epoch 1/1, Batch 8001/13180, Loss:13.025365829467773\n",
      "Epoch 1/1, Batch 8101/13180, Loss:13.025365829467773\n",
      "Epoch 1/1, Batch 8201/13180, Loss:13.025365829467773\n",
      "Epoch 1/1, Batch 8301/13180, Loss:13.025365829467773\n",
      "Epoch 1/1, Batch 8401/13180, Loss:13.025364875793457\n",
      "Epoch 1/1, Batch 8501/13180, Loss:13.025365829467773\n",
      "Epoch 1/1, Batch 8601/13180, Loss:13.02536392211914\n",
      "Epoch 1/1, Batch 8701/13180, Loss:13.025365829467773\n",
      "Epoch 1/1, Batch 8801/13180, Loss:13.025365829467773\n",
      "Epoch 1/1, Batch 8901/13180, Loss:13.025365829467773\n",
      "Epoch 1/1, Batch 9001/13180, Loss:13.025365829467773\n",
      "Epoch 1/1, Batch 9101/13180, Loss:13.025365829467773\n",
      "Epoch 1/1, Batch 9201/13180, Loss:13.025365829467773\n",
      "Epoch 1/1, Batch 9301/13180, Loss:13.025365829467773\n",
      "Epoch 1/1, Batch 9401/13180, Loss:13.025365829467773\n",
      "Epoch 1/1, Batch 9501/13180, Loss:13.025365829467773\n",
      "Epoch 1/1, Batch 9601/13180, Loss:13.025365829467773\n",
      "Epoch 1/1, Batch 9701/13180, Loss:13.025365829467773\n",
      "Epoch 1/1, Batch 9801/13180, Loss:13.025365829467773\n",
      "Epoch 1/1, Batch 9901/13180, Loss:13.02536392211914\n",
      "Epoch 1/1, Batch 10001/13180, Loss:13.025365829467773\n",
      "Epoch 1/1, Batch 10101/13180, Loss:13.02536392211914\n",
      "Epoch 1/1, Batch 10201/13180, Loss:13.025365829467773\n",
      "Epoch 1/1, Batch 10301/13180, Loss:13.025365829467773\n",
      "Epoch 1/1, Batch 10401/13180, Loss:13.025464057922363\n",
      "Epoch 1/1, Batch 10501/13180, Loss:13.025439262390137\n",
      "Epoch 1/1, Batch 10601/13180, Loss:13.025405883789062\n",
      "Epoch 1/1, Batch 10701/13180, Loss:13.025389671325684\n",
      "Epoch 1/1, Batch 10801/13180, Loss:13.02538013458252\n",
      "Epoch 1/1, Batch 10901/13180, Loss:13.025371551513672\n",
      "Epoch 1/1, Batch 11001/13180, Loss:13.025371551513672\n",
      "Epoch 1/1, Batch 11101/13180, Loss:13.025365829467773\n",
      "Epoch 1/1, Batch 11201/13180, Loss:13.025368690490723\n",
      "Epoch 1/1, Batch 11301/13180, Loss:13.025365829467773\n",
      "Epoch 1/1, Batch 11401/13180, Loss:13.025365829467773\n",
      "Epoch 1/1, Batch 11501/13180, Loss:13.02536392211914\n",
      "Epoch 1/1, Batch 11601/13180, Loss:13.02536392211914\n",
      "Epoch 1/1, Batch 11701/13180, Loss:13.02536392211914\n",
      "Epoch 1/1, Batch 11801/13180, Loss:13.025365829467773\n",
      "Epoch 1/1, Batch 11901/13180, Loss:13.02536392211914\n",
      "Epoch 1/1, Batch 12001/13180, Loss:13.02536392211914\n",
      "Epoch 1/1, Batch 12101/13180, Loss:13.025365829467773\n",
      "Epoch 1/1, Batch 12201/13180, Loss:13.025365829467773\n",
      "Epoch 1/1, Batch 12301/13180, Loss:13.025365829467773\n",
      "Epoch 1/1, Batch 12401/13180, Loss:13.02536392211914\n",
      "Epoch 1/1, Batch 12501/13180, Loss:13.02536392211914\n",
      "Epoch 1/1, Batch 12601/13180, Loss:13.02536392211914\n",
      "Epoch 1/1, Batch 12701/13180, Loss:13.02536392211914\n",
      "Epoch 1/1, Batch 12801/13180, Loss:13.025365829467773\n",
      "Epoch 1/1, Batch 12901/13180, Loss:13.02536392211914\n",
      "Epoch 1/1, Batch 13001/13180, Loss:13.025365829467773\n",
      "Epoch 1/1, Batch 13101/13180, Loss:13.02536392211914\n",
      "Epoch 1/1, Average Loss:13.025426715928976\n"
     ]
    }
   ],
   "source": [
    "torch.manual_seed(0)\n",
    "epochs = config[\"epoch size\"]\n",
    "step = 0\n",
    "steps = []\n",
    "loss_list = []\n",
    "\n",
    "for epoch in range(epochs):\n",
    "    batch_loss = 0\n",
    "    for i, batch in enumerate(train_dataloader):\n",
    "        original, augmented = batch['original'], batch['augmented']\n",
    "        original = original.to(device)\n",
    "        augmented = augmented.to(device)\n",
    "\n",
    "        optimizer.zero_grad()\n",
    "\n",
    "        original_embeddings, _ = model(original)\n",
    "        augmented_embeddings, _ = model(augmented)\n",
    "        \n",
    "        avg_pool = nn.AdaptiveAvgPool2d((original_embeddings.shape[1] // 4, original_embeddings.shape[2]))\n",
    "\n",
    "        original_embeddings = avg_pool(original_embeddings)\n",
    "        augmented_embeddings = avg_pool(augmented_embeddings)\n",
    "\n",
    "        flattened_original = original_embeddings.reshape(original_embeddings.shape[0] * original_embeddings.shape[1], -1)\n",
    "        flattened_augmented = augmented_embeddings.reshape(original_embeddings.shape[0] * original_embeddings.shape[1], -1)\n",
    "\n",
    "        loss = contrastive_loss(flattened_original, flattened_augmented)\n",
    "        batch_loss += loss.item()\n",
    "        if i % 100 == 0:\n",
    "            print(f\"Epoch {epoch + 1}/{epochs}, Batch {i + 1}/{len(train_dataloader)}, Loss:{loss.item()}\")\n",
    "            step += 100\n",
    "            steps.append(step)\n",
    "            loss_list.append(loss.item())\n",
    "        loss.backward()\n",
    "        optimizer.step()\n",
    "    scheduler.step()\n",
    "    print(f\"Epoch {epoch + 1}/{epochs}, Average Loss:{batch_loss / len(train_dataloader)}\")"
   ]
  },
  {
   "cell_type": "code",
   "execution_count": 8,
   "id": "260fc71c",
   "metadata": {},
   "outputs": [
    {
     "data": {
      "text/plain": [
       "[<matplotlib.lines.Line2D at 0x771fa0f243a0>]"
      ]
     },
     "execution_count": 8,
     "metadata": {},
     "output_type": "execute_result"
    },
    {
     "data": {
      "image/png": "[encoded data removed]",
      "text/plain": [
       "<Figure size 640x480 with 1 Axes>"
      ]
     },
     "metadata": {},
     "output_type": "display_data"
    }
   ],
   "source": [
    "from matplotlib import pyplot as plt\n",
    "plt.xlabel(\"Steps\")\n",
    "plt.ylabel(\"Loss\")\n",
    "plt.plot(steps, loss_list)"
   ]
  },
  {
   "cell_type": "code",
   "execution_count": 9,
   "id": "8f9b334fe656ec77",
   "metadata": {
    "ExecuteTime": {
     "end_time": "2024-03-27T02:00:56.866874Z",
     "start_time": "2024-03-27T02:00:56.550725Z"
    },
    "collapsed": false
   },
   "outputs": [],
   "source": [
    "torch.save(model.state_dict(), config[\"saved Encoder path\"])"
   ]
  }
 ],
 "metadata": {
  "kernelspec": {
   "display_name": "Python 3",
   "language": "python",
   "name": "python3"
  },
  "language_info": {
   "codemirror_mode": {
    "name": "ipython",
    "version": 3
   },
   "file_extension": ".py",
   "mimetype": "text/x-python",
   "name": "python",
   "nbconvert_exporter": "python",
   "pygments_lexer": "ipython3",
   "version": "3.8.19"
  }
 },
 "nbformat": 4,
 "nbformat_minor": 5
}
