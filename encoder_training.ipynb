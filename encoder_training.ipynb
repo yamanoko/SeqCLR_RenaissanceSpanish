{
 "cells": [
  {
   "cell_type": "code",
   "execution_count": 1,
   "id": "initial_id",
   "metadata": {
    "ExecuteTime": {
     "end_time": "2024-03-27T01:30:35.926977Z",
     "start_time": "2024-03-27T01:30:34.517327Z"
    },
    "collapsed": true
   },
   "outputs": [],
   "source": [
    "import json\n",
    "\n",
    "import torch\n",
    "import torch.nn as nn\n",
    "\n",
    "import torch.utils.data\n",
    "from torch.utils.data import DataLoader, ConcatDataset\n",
    "\n",
    "from encoder import Encoder\n",
    "from ViT_encoder import ViTEncoder\n",
    "from custom_dataset import ContrastiveLearningDataset\n",
    "from custom_loss import contrastive_loss\n",
    "from torch.optim import Adam, SGD\n",
    "from torch.optim.lr_scheduler import StepLR\n",
    "\n",
    "activate_ViT = json.load(open('config.json', 'r'))[\"Encoder\"][\"ViT\"]\n",
    "config = json.load(open('config.json', 'r'))[\"SSL\"]"
   ]
  },
  {
   "cell_type": "code",
   "execution_count": 2,
   "id": "2f039402b58fd4a5",
   "metadata": {
    "ExecuteTime": {
     "end_time": "2024-03-27T01:30:36.781092Z",
     "start_time": "2024-03-27T01:30:36.383272Z"
    },
    "collapsed": false
   },
   "outputs": [
    {
     "name": "stdout",
     "output_type": "stream",
     "text": [
      "ResNet\n"
     ]
    }
   ],
   "source": [
    "# torch.manual_seed(0)\n",
    "\n",
    "device = torch.device(\"cuda\" if torch.cuda.is_available() else \"cpu\")\n",
    "if activate_ViT:\n",
    "\tprint(\"ViT\")\n",
    "\tmodel = ViTEncoder(input_size=(64, 384), patch_size=16, hidden_dim=516, num_heads=3, num_layers=12)\n",
    "else:\n",
    "\tprint(\"ResNet\")\n",
    "\tmodel = Encoder()\n",
    "model = model.to(device)\n",
    "optimizer = SGD(model.parameters(), lr=config[\"start lr\"])\n",
    "scheduler = StepLR(optimizer, step_size=config[\"lr scheduler step size\"], gamma=0.1)\n",
    "dataset = []\n",
    "for i in range(1, 4):\n",
    "\tif config[f\"dataset {i}\"] is not None:\n",
    "\t\tdataset.append(ContrastiveLearningDataset(img_dir=config[f\"dataset {i}\"]))\n",
    "dataset = ConcatDataset(dataset)\n",
    "train_dataloader = DataLoader(dataset, batch_size=config[\"Batch size\"], shuffle=True)"
   ]
  },
  {
   "cell_type": "code",
   "execution_count": 3,
   "id": "64d7d878a9df3900",
   "metadata": {
    "ExecuteTime": {
     "end_time": "2024-03-27T01:56:43.402986Z",
     "start_time": "2024-03-27T01:30:50.232616Z"
    },
    "collapsed": false
   },
   "outputs": [
    {
     "name": "stdout",
     "output_type": "stream",
     "text": [
      "Epoch 1/1, Batch 1/3125, Loss:8.704073905944824\n",
      "Epoch 1/1, Batch 101/3125, Loss:8.017635345458984\n",
      "Epoch 1/1, Batch 201/3125, Loss:7.810523986816406\n",
      "Epoch 1/1, Batch 301/3125, Loss:7.617037296295166\n",
      "Epoch 1/1, Batch 401/3125, Loss:7.472840785980225\n",
      "Epoch 1/1, Batch 501/3125, Loss:7.3936991691589355\n",
      "Epoch 1/1, Batch 601/3125, Loss:7.368917942047119\n",
      "Epoch 1/1, Batch 701/3125, Loss:7.293414115905762\n",
      "Epoch 1/1, Batch 801/3125, Loss:7.271058082580566\n",
      "Epoch 1/1, Batch 901/3125, Loss:7.262601852416992\n",
      "Epoch 1/1, Batch 1001/3125, Loss:7.162755489349365\n",
      "Epoch 1/1, Batch 1101/3125, Loss:7.133586883544922\n",
      "Epoch 1/1, Batch 1201/3125, Loss:7.156090259552002\n",
      "Epoch 1/1, Batch 1301/3125, Loss:7.137417793273926\n",
      "Epoch 1/1, Batch 1401/3125, Loss:7.195276260375977\n",
      "Epoch 1/1, Batch 1501/3125, Loss:7.1230950355529785\n",
      "Epoch 1/1, Batch 1601/3125, Loss:7.122363090515137\n",
      "Epoch 1/1, Batch 1701/3125, Loss:7.126960754394531\n",
      "Epoch 1/1, Batch 1801/3125, Loss:7.10275411605835\n",
      "Epoch 1/1, Batch 1901/3125, Loss:7.084040641784668\n",
      "Epoch 1/1, Batch 2001/3125, Loss:7.03726863861084\n",
      "Epoch 1/1, Batch 2101/3125, Loss:7.028680801391602\n",
      "Epoch 1/1, Batch 2201/3125, Loss:7.02737283706665\n",
      "Epoch 1/1, Batch 2301/3125, Loss:7.056900501251221\n",
      "Epoch 1/1, Batch 2401/3125, Loss:7.000967502593994\n",
      "Epoch 1/1, Batch 2501/3125, Loss:7.0033369064331055\n",
      "Epoch 1/1, Batch 2601/3125, Loss:6.9944024085998535\n",
      "Epoch 1/1, Batch 2701/3125, Loss:7.000821113586426\n",
      "Epoch 1/1, Batch 2801/3125, Loss:7.011070251464844\n",
      "Epoch 1/1, Batch 2901/3125, Loss:6.992020130157471\n",
      "Epoch 1/1, Batch 3001/3125, Loss:6.994518280029297\n",
      "Epoch 1/1, Batch 3101/3125, Loss:6.983077049255371\n",
      "Epoch 1/1, Average Loss:7.215636798858642\n"
     ]
    }
   ],
   "source": [
    "# torch.manual_seed(0)\n",
    "epochs = config[\"epoch size\"]\n",
    "step = 0\n",
    "steps = []\n",
    "loss_list = []\n",
    "\n",
    "for epoch in range(epochs):\n",
    "    batch_loss = 0\n",
    "    for i, batch in enumerate(train_dataloader):\n",
    "        original, augmented = batch['original'], batch['augmented']\n",
    "        original = original.to(device)\n",
    "        augmented = augmented.to(device)\n",
    "\n",
    "        optimizer.zero_grad()\n",
    "\n",
    "        original_embeddings, _ = model(original)\n",
    "        augmented_embeddings, _ = model(augmented)\n",
    "        \n",
    "        avg_pool = nn.AdaptiveAvgPool2d((5, original_embeddings.shape[2]))\n",
    "\n",
    "        original_embeddings = avg_pool(original_embeddings)\n",
    "        augmented_embeddings = avg_pool(augmented_embeddings)\n",
    "\n",
    "        original_embeddings = original_embeddings.view(original_embeddings.shape[0] // 16, original_embeddings.shape[1] * 16, original_embeddings.shape[2])\n",
    "        augmented_embeddings = augmented_embeddings.view(augmented_embeddings.shape[0] // 16, augmented_embeddings.shape[1] * 16, augmented_embeddings.shape[2])\n",
    "\n",
    "        # flattened_original = original_embeddings.reshape(original_embeddings.shape[0] * original_embeddings.shape[1], -1)\n",
    "        # flattened_augmented = augmented_embeddings.reshape(original_embeddings.shape[0] * original_embeddings.shape[1], -1)\n",
    "\n",
    "        # loss = contrastive_loss(flattened_original, flattened_augmented)\n",
    "        loss = contrastive_loss(original_embeddings, augmented_embeddings)\n",
    "        batch_loss += loss.item()\n",
    "        if i % 100 == 0:\n",
    "            print(f\"Epoch {epoch + 1}/{epochs}, Batch {i + 1}/{len(train_dataloader)}, Loss:{loss.item()}\")\n",
    "            step += 100\n",
    "            steps.append(step)\n",
    "            loss_list.append(loss.item())\n",
    "        loss.backward()\n",
    "        optimizer.step()\n",
    "        scheduler.step()\n",
    "    print(f\"Epoch {epoch + 1}/{epochs}, Average Loss:{batch_loss / len(train_dataloader)}\")"
   ]
  },
  {
   "cell_type": "code",
   "execution_count": 4,
   "id": "260fc71c",
   "metadata": {},
   "outputs": [
    {
     "data": {
      "text/plain": [
       "[<matplotlib.lines.Line2D at 0x72e924fd89d0>]"
      ]
     },
     "execution_count": 4,
     "metadata": {},
     "output_type": "execute_result"
    },
    {
     "data": {
      "image/png": "[encoded data removed]",
      "text/plain": [
       "<Figure size 640x480 with 1 Axes>"
      ]
     },
     "metadata": {},
     "output_type": "display_data"
    }
   ],
   "source": [
    "from matplotlib import pyplot as plt\n",
    "plt.xlabel(\"Steps\")\n",
    "plt.ylabel(\"Loss\")\n",
    "plt.plot(steps, loss_list)"
   ]
  },
  {
   "cell_type": "code",
   "execution_count": 5,
   "id": "8f9b334fe656ec77",
   "metadata": {
    "ExecuteTime": {
     "end_time": "2024-03-27T02:00:56.866874Z",
     "start_time": "2024-03-27T02:00:56.550725Z"
    },
    "collapsed": false
   },
   "outputs": [],
   "source": [
    "torch.save(model.state_dict(), config[\"saved Encoder path\"])\n",
    "# torch.save(model.state_dict(), \"ViT_encoder.pth\" if activate_ViT else \"ResNet_encoder.pth\")"
   ]
  },
  {
   "cell_type": "code",
   "execution_count": null,
   "id": "542dbd94",
   "metadata": {},
   "outputs": [],
   "source": []
  }
 ],
 "metadata": {
  "kernelspec": {
   "display_name": "pytorch_bootcamp",
   "language": "python",
   "name": "python3"
  },
  "language_info": {
   "codemirror_mode": {
    "name": "ipython",
    "version": 3
   },
   "file_extension": ".py",
   "mimetype": "text/x-python",
   "name": "python",
   "nbconvert_exporter": "python",
   "pygments_lexer": "ipython3",
   "version": "3.8.19"
  }
 },
 "nbformat": 4,
 "nbformat_minor": 5
}
