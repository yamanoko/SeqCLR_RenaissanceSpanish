{
 "cells": [
  {
   "cell_type": "code",
   "execution_count": 1,
   "id": "initial_id",
   "metadata": {
    "ExecuteTime": {
     "end_time": "2024-03-27T01:30:35.926977Z",
     "start_time": "2024-03-27T01:30:34.517327Z"
    },
    "collapsed": true
   },
   "outputs": [],
   "source": [
    "import torch.utils.data\n",
    "from torch.utils.data import DataLoader\n",
    "\n",
    "from encoder import Encoder\n",
    "from custom_dataset import ContrastiveLearningDataset\n",
    "from custom_loss import contrastive_loss\n",
    "from torch import optim"
   ]
  },
  {
   "cell_type": "code",
   "execution_count": 2,
   "id": "2f039402b58fd4a5",
   "metadata": {
    "ExecuteTime": {
     "end_time": "2024-03-27T01:30:36.781092Z",
     "start_time": "2024-03-27T01:30:36.383272Z"
    },
    "collapsed": false
   },
   "outputs": [],
   "source": [
    "torch.manual_seed(0)\n",
    "\n",
    "model = Encoder()\n",
    "# dataset = torch.utils.data.ConcatDataset([generated_dataset, Rodrigo_dataset])\n",
    "optimizer = optim.Adam(model.parameters(), lr=0.01, eps=0.001)\n",
    "# optimizer = optim.RMSprop(model.parameters())\n",
    "book_dataset = ContrastiveLearningDataset('cropped_images_line')\n",
    "generated_dataset = ContrastiveLearningDataset('generated_dataset')\n",
    "dataset = torch.utils.data.ConcatDataset([book_dataset, generated_dataset])\n",
    "BATCH_SIZE = 64\n",
    "train_dataloader = DataLoader(dataset, batch_size=BATCH_SIZE, shuffle=True)\n",
    "device = torch.device(\"cuda\" if torch.cuda.is_available() else \"cpu\")\n",
    "model = model.to(device)"
   ]
  },
  {
   "cell_type": "code",
   "execution_count": 3,
   "id": "9e1248b1c365a13e",
   "metadata": {
    "ExecuteTime": {
     "end_time": "2024-03-27T01:30:49.508663Z",
     "start_time": "2024-03-27T01:30:49.499892Z"
    },
    "collapsed": false
   },
   "outputs": [
    {
     "data": {
      "text/plain": [
       "True"
      ]
     },
     "execution_count": 3,
     "metadata": {},
     "output_type": "execute_result"
    }
   ],
   "source": [
    "torch.cuda.is_available()"
   ]
  },
  {
   "cell_type": "code",
   "execution_count": 4,
   "id": "64d7d878a9df3900",
   "metadata": {
    "ExecuteTime": {
     "end_time": "2024-03-27T01:56:43.402986Z",
     "start_time": "2024-03-27T01:30:50.232616Z"
    },
    "collapsed": false
   },
   "outputs": [
    {
     "name": "stdout",
     "output_type": "stream",
     "text": [
      "Epoch 1/5, Batch 1/621, Loss:1967.94580078125\n",
      "Epoch 1/5, Batch 101/621, Loss:1790.57373046875\n",
      "Epoch 1/5, Batch 201/621, Loss:1766.6455078125\n",
      "Epoch 1/5, Batch 301/621, Loss:1758.156982421875\n",
      "Epoch 1/5, Batch 401/621, Loss:1753.1778564453125\n",
      "Epoch 1/5, Batch 501/621, Loss:1746.778076171875\n",
      "Epoch 1/5, Batch 601/621, Loss:1743.1485595703125\n",
      "Epoch 1/5, Average Loss:1766.971390335648\n",
      "Epoch 2/5, Batch 1/621, Loss:1745.473876953125\n",
      "Epoch 2/5, Batch 101/621, Loss:1740.743408203125\n",
      "Epoch 2/5, Batch 201/621, Loss:1738.405517578125\n",
      "Epoch 2/5, Batch 301/621, Loss:1736.8748779296875\n",
      "Epoch 2/5, Batch 401/621, Loss:1749.757568359375\n",
      "Epoch 2/5, Batch 501/621, Loss:1784.7783203125\n",
      "Epoch 2/5, Batch 601/621, Loss:1759.12109375\n",
      "Epoch 2/5, Average Loss:1747.8783701283921\n",
      "Epoch 3/5, Batch 1/621, Loss:1758.75244140625\n",
      "Epoch 3/5, Batch 101/621, Loss:1757.3055419921875\n",
      "Epoch 3/5, Batch 201/621, Loss:1755.847900390625\n",
      "Epoch 3/5, Batch 301/621, Loss:1750.13623046875\n",
      "Epoch 3/5, Batch 401/621, Loss:1748.75244140625\n",
      "Epoch 3/5, Batch 501/621, Loss:1746.9722900390625\n",
      "Epoch 3/5, Batch 601/621, Loss:1746.429443359375\n",
      "Epoch 3/5, Average Loss:1749.3490597883092\n",
      "Epoch 4/5, Batch 1/621, Loss:1746.3524169921875\n",
      "Epoch 4/5, Batch 101/621, Loss:1745.545654296875\n",
      "Epoch 4/5, Batch 201/621, Loss:1744.783935546875\n",
      "Epoch 4/5, Batch 301/621, Loss:1821.140869140625\n",
      "Epoch 4/5, Batch 401/621, Loss:1796.544921875\n",
      "Epoch 4/5, Batch 501/621, Loss:1783.3140869140625\n",
      "Epoch 4/5, Batch 601/621, Loss:1783.13720703125\n",
      "Epoch 4/5, Average Loss:1771.3215635732752\n",
      "Epoch 5/5, Batch 1/621, Loss:1782.78955078125\n",
      "Epoch 5/5, Batch 101/621, Loss:1782.4541015625\n",
      "Epoch 5/5, Batch 201/621, Loss:1780.863037109375\n",
      "Epoch 5/5, Batch 301/621, Loss:1776.0823974609375\n",
      "Epoch 5/5, Batch 401/621, Loss:1774.0830078125\n",
      "Epoch 5/5, Batch 501/621, Loss:1773.43603515625\n",
      "Epoch 5/5, Batch 601/621, Loss:1773.301513671875\n",
      "Epoch 5/5, Average Loss:1774.5698066256857\n"
     ]
    }
   ],
   "source": [
    "torch.manual_seed(0)\n",
    "epochs = 5\n",
    "\n",
    "for epoch in range(epochs):\n",
    "    batch_loss = 0\n",
    "    for i, batch in enumerate(train_dataloader):\n",
    "        original, augmented = batch['original'], batch['augmented']\n",
    "        original = original.to(device)\n",
    "        augmented = augmented.to(device)\n",
    "\n",
    "        optimizer.zero_grad()\n",
    "\n",
    "        original_embeddings, _ = model(original)\n",
    "        augmented_embeddings, _ = model(augmented)\n",
    "        \n",
    "        flattened_original = original_embeddings.reshape(original_embeddings.shape[0] * original_embeddings.shape[1], -1)\n",
    "        flattened_augmented = augmented_embeddings.reshape(original_embeddings.shape[0] * original_embeddings.shape[1], -1)\n",
    "\n",
    "        loss = contrastive_loss(flattened_original, flattened_augmented)\n",
    "        batch_loss += loss.item()\n",
    "        if i % 100 == 0:\n",
    "            print(f\"Epoch {epoch + 1}/{epochs}, Batch {i + 1}/{len(train_dataloader)}, Loss:{loss.item()}\")\n",
    "        loss.backward()\n",
    "        optimizer.step()\n",
    "    # print(batch_loss)\n",
    "    print(f\"Epoch {epoch + 1}/{epochs}, Average Loss:{batch_loss / len(train_dataloader)}\")"
   ]
  },
  {
   "cell_type": "code",
   "execution_count": 5,
   "id": "8f9b334fe656ec77",
   "metadata": {
    "ExecuteTime": {
     "end_time": "2024-03-27T02:00:56.866874Z",
     "start_time": "2024-03-27T02:00:56.550725Z"
    },
    "collapsed": false
   },
   "outputs": [],
   "source": [
    "torch.save(model.state_dict(), 'encoder.pt')"
   ]
  },
  {
   "cell_type": "code",
   "execution_count": null,
   "id": "c1dd505a",
   "metadata": {},
   "outputs": [],
   "source": []
  }
 ],
 "metadata": {
  "kernelspec": {
   "display_name": "Python 3",
   "language": "python",
   "name": "python3"
  },
  "language_info": {
   "codemirror_mode": {
    "name": "ipython",
    "version": 3
   },
   "file_extension": ".py",
   "mimetype": "text/x-python",
   "name": "python",
   "nbconvert_exporter": "python",
   "pygments_lexer": "ipython3",
   "version": "3.8.19"
  }
 },
 "nbformat": 4,
 "nbformat_minor": 5
}
