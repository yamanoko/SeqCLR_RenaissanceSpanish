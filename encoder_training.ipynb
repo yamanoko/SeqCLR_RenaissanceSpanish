{
 "cells": [
  {
   "cell_type": "code",
   "execution_count": 1,
   "id": "initial_id",
   "metadata": {
    "ExecuteTime": {
     "end_time": "2024-03-27T01:30:35.926977Z",
     "start_time": "2024-03-27T01:30:34.517327Z"
    },
    "collapsed": true
   },
   "outputs": [],
   "source": [
    "import torch.utils.data\n",
    "from torch.utils.data import DataLoader\n",
    "\n",
    "from encoder import Encoder\n",
    "from custom_dataset import ContrastiveLearningDataset\n",
    "from custom_loss import contrastive_loss\n",
    "from torch import optim"
   ]
  },
  {
   "cell_type": "code",
   "execution_count": 2,
   "id": "2f039402b58fd4a5",
   "metadata": {
    "ExecuteTime": {
     "end_time": "2024-03-27T01:30:36.781092Z",
     "start_time": "2024-03-27T01:30:36.383272Z"
    },
    "collapsed": false
   },
   "outputs": [],
   "source": [
    "torch.manual_seed(0)\n",
    "\n",
    "model = Encoder()\n",
    "# dataset = torch.utils.data.ConcatDataset([generated_dataset, Rodrigo_dataset])\n",
    "optimizer = optim.Adam(model.parameters(), lr=0.01, eps=0.001)\n",
    "# optimizer = optim.RMSprop(model.parameters())\n",
    "dataset = ContrastiveLearningDataset('cropped_images')\n",
    "BATCH_SIZE = 64\n",
    "train_dataloader = DataLoader(dataset, batch_size=BATCH_SIZE, shuffle=True)\n",
    "device = torch.device(\"cuda\" if torch.cuda.is_available() else \"cpu\")\n",
    "model = model.to(device)"
   ]
  },
  {
   "cell_type": "code",
   "execution_count": 3,
   "id": "9e1248b1c365a13e",
   "metadata": {
    "ExecuteTime": {
     "end_time": "2024-03-27T01:30:49.508663Z",
     "start_time": "2024-03-27T01:30:49.499892Z"
    },
    "collapsed": false
   },
   "outputs": [
    {
     "data": {
      "text/plain": [
       "True"
      ]
     },
     "execution_count": 3,
     "metadata": {},
     "output_type": "execute_result"
    }
   ],
   "source": [
    "torch.cuda.is_available()"
   ]
  },
  {
   "cell_type": "code",
   "execution_count": 4,
   "id": "64d7d878a9df3900",
   "metadata": {
    "ExecuteTime": {
     "end_time": "2024-03-27T01:56:43.402986Z",
     "start_time": "2024-03-27T01:30:50.232616Z"
    },
    "collapsed": false
   },
   "outputs": [
    {
     "name": "stdout",
     "output_type": "stream",
     "text": [
      "Epoch 1/3, Batch 1/1747, Loss:358.8406982421875\n",
      "Epoch 1/3, Batch 101/1747, Loss:311.3273620605469\n",
      "Epoch 1/3, Batch 201/1747, Loss:310.59954833984375\n",
      "Epoch 1/3, Batch 301/1747, Loss:310.42193603515625\n",
      "Epoch 1/3, Batch 401/1747, Loss:310.3695068359375\n",
      "Epoch 1/3, Batch 501/1747, Loss:310.1219482421875\n",
      "Epoch 1/3, Batch 601/1747, Loss:310.1600341796875\n",
      "Epoch 1/3, Batch 701/1747, Loss:310.3951416015625\n",
      "Epoch 1/3, Batch 801/1747, Loss:310.0890808105469\n",
      "Epoch 1/3, Batch 901/1747, Loss:310.21746826171875\n",
      "Epoch 1/3, Batch 1001/1747, Loss:310.4662780761719\n",
      "Epoch 1/3, Batch 1101/1747, Loss:310.1789245605469\n",
      "Epoch 1/3, Batch 1201/1747, Loss:310.03082275390625\n",
      "Epoch 1/3, Batch 1301/1747, Loss:310.140625\n",
      "Epoch 1/3, Batch 1401/1747, Loss:309.991943359375\n",
      "Epoch 1/3, Batch 1501/1747, Loss:310.0330810546875\n",
      "Epoch 1/3, Batch 1601/1747, Loss:310.13360595703125\n",
      "Epoch 1/3, Batch 1701/1747, Loss:310.19140625\n",
      "Epoch 1/3, Average Loss:310.4442180421739\n",
      "Epoch 2/3, Batch 1/1747, Loss:310.020263671875\n",
      "Epoch 2/3, Batch 101/1747, Loss:310.0365905761719\n",
      "Epoch 2/3, Batch 201/1747, Loss:309.9244079589844\n",
      "Epoch 2/3, Batch 301/1747, Loss:309.99237060546875\n",
      "Epoch 2/3, Batch 401/1747, Loss:309.98162841796875\n",
      "Epoch 2/3, Batch 501/1747, Loss:310.31536865234375\n",
      "Epoch 2/3, Batch 601/1747, Loss:310.01971435546875\n",
      "Epoch 2/3, Batch 701/1747, Loss:310.050537109375\n",
      "Epoch 2/3, Batch 801/1747, Loss:310.2227783203125\n",
      "Epoch 2/3, Batch 901/1747, Loss:309.88623046875\n",
      "Epoch 2/3, Batch 1001/1747, Loss:309.93707275390625\n",
      "Epoch 2/3, Batch 1101/1747, Loss:310.0701904296875\n",
      "Epoch 2/3, Batch 1201/1747, Loss:310.03399658203125\n",
      "Epoch 2/3, Batch 1301/1747, Loss:309.936279296875\n",
      "Epoch 2/3, Batch 1401/1747, Loss:310.13348388671875\n",
      "Epoch 2/3, Batch 1501/1747, Loss:311.28094482421875\n",
      "Epoch 2/3, Batch 1601/1747, Loss:310.30816650390625\n",
      "Epoch 2/3, Batch 1701/1747, Loss:310.03369140625\n",
      "Epoch 2/3, Average Loss:309.9961081091581\n",
      "Epoch 3/3, Batch 1/1747, Loss:310.03411865234375\n",
      "Epoch 3/3, Batch 101/1747, Loss:310.1656494140625\n",
      "Epoch 3/3, Batch 201/1747, Loss:309.9610595703125\n",
      "Epoch 3/3, Batch 301/1747, Loss:310.18304443359375\n",
      "Epoch 3/3, Batch 401/1747, Loss:310.1910400390625\n",
      "Epoch 3/3, Batch 501/1747, Loss:310.0377197265625\n",
      "Epoch 3/3, Batch 601/1747, Loss:309.95037841796875\n",
      "Epoch 3/3, Batch 701/1747, Loss:310.00628662109375\n",
      "Epoch 3/3, Batch 801/1747, Loss:309.884521484375\n",
      "Epoch 3/3, Batch 901/1747, Loss:310.017578125\n",
      "Epoch 3/3, Batch 1001/1747, Loss:310.41656494140625\n",
      "Epoch 3/3, Batch 1101/1747, Loss:309.9822998046875\n",
      "Epoch 3/3, Batch 1201/1747, Loss:310.14080810546875\n",
      "Epoch 3/3, Batch 1301/1747, Loss:309.9071044921875\n",
      "Epoch 3/3, Batch 1401/1747, Loss:309.909423828125\n",
      "Epoch 3/3, Batch 1501/1747, Loss:310.04461669921875\n",
      "Epoch 3/3, Batch 1601/1747, Loss:309.976318359375\n",
      "Epoch 3/3, Batch 1701/1747, Loss:309.83758544921875\n",
      "Epoch 3/3, Average Loss:309.96053608990974\n"
     ]
    }
   ],
   "source": [
    "torch.manual_seed(0)\n",
    "epochs = 3\n",
    "\n",
    "for epoch in range(epochs):\n",
    "    batch_loss = 0\n",
    "    for i, batch in enumerate(train_dataloader):\n",
    "        original, augmented = batch['original'], batch['augmented']\n",
    "        original = original.to(device)\n",
    "        augmented = augmented.to(device)\n",
    "\n",
    "        optimizer.zero_grad()\n",
    "\n",
    "        original_embeddings, _ = model(original)\n",
    "        augmented_embeddings, _ = model(augmented)\n",
    "        \n",
    "        flattened_original = original_embeddings.reshape(original_embeddings.shape[0] * original_embeddings.shape[1], -1)\n",
    "        flattened_augmented = augmented_embeddings.reshape(original_embeddings.shape[0] * original_embeddings.shape[1], -1)\n",
    "\n",
    "        loss = contrastive_loss(flattened_original, flattened_augmented)\n",
    "        batch_loss += loss.item()\n",
    "        if i % 100 == 0:\n",
    "            print(f\"Epoch {epoch + 1}/{epochs}, Batch {i + 1}/{len(train_dataloader)}, Loss:{loss.item()}\")\n",
    "        loss.backward()\n",
    "        optimizer.step()\n",
    "    # print(batch_loss)\n",
    "    print(f\"Epoch {epoch + 1}/{epochs}, Average Loss:{batch_loss / len(train_dataloader)}\")"
   ]
  },
  {
   "cell_type": "code",
   "execution_count": 5,
   "id": "8f9b334fe656ec77",
   "metadata": {
    "ExecuteTime": {
     "end_time": "2024-03-27T02:00:56.866874Z",
     "start_time": "2024-03-27T02:00:56.550725Z"
    },
    "collapsed": false
   },
   "outputs": [],
   "source": [
    "torch.save(model.state_dict(), 'encoder.pt')"
   ]
  }
 ],
 "metadata": {
  "kernelspec": {
   "display_name": "Python 3",
   "language": "python",
   "name": "python3"
  },
  "language_info": {
   "codemirror_mode": {
    "name": "ipython",
    "version": 3
   },
   "file_extension": ".py",
   "mimetype": "text/x-python",
   "name": "python",
   "nbconvert_exporter": "python",
   "pygments_lexer": "ipython3",
   "version": "3.8.19"
  }
 },
 "nbformat": 4,
 "nbformat_minor": 5
}
