{
 "cells": [
  {
   "cell_type": "code",
   "execution_count": 1,
   "id": "initial_id",
   "metadata": {
    "ExecuteTime": {
     "end_time": "2024-03-27T01:30:35.926977Z",
     "start_time": "2024-03-27T01:30:34.517327Z"
    },
    "collapsed": true
   },
   "outputs": [],
   "source": [
    "import torch.utils.data\n",
    "from torch.utils.data import DataLoader\n",
    "\n",
    "from encoder import Encoder\n",
    "from custom_dataset import ContrastiveLearningDataset\n",
    "from custom_loss import contrastive_loss\n",
    "from torch import optim"
   ]
  },
  {
   "cell_type": "code",
   "execution_count": 2,
   "id": "2f039402b58fd4a5",
   "metadata": {
    "ExecuteTime": {
     "end_time": "2024-03-27T01:30:36.781092Z",
     "start_time": "2024-03-27T01:30:36.383272Z"
    },
    "collapsed": false
   },
   "outputs": [],
   "source": [
    "torch.manual_seed(0)\n",
    "\n",
    "model = Encoder()\n",
    "# dataset = torch.utils.data.ConcatDataset([generated_dataset, Rodrigo_dataset])\n",
    "optimizer = optim.Adam(model.parameters(), lr=0.01, eps=0.001)\n",
    "# optimizer = optim.RMSprop(model.parameters())\n",
    "dataset = ContrastiveLearningDataset('./generated_dataset', max_size=20000,  crop_height=40)\n",
    "train_dataloader = DataLoader(dataset, batch_size=64, shuffle=True)\n",
    "device = torch.device(\"cuda\" if torch.cuda.is_available() else \"cpu\")\n",
    "model = model.to(device)"
   ]
  },
  {
   "cell_type": "code",
   "execution_count": 3,
   "id": "9e1248b1c365a13e",
   "metadata": {
    "ExecuteTime": {
     "end_time": "2024-03-27T01:30:49.508663Z",
     "start_time": "2024-03-27T01:30:49.499892Z"
    },
    "collapsed": false
   },
   "outputs": [
    {
     "data": {
      "text/plain": [
       "True"
      ]
     },
     "execution_count": 3,
     "metadata": {},
     "output_type": "execute_result"
    }
   ],
   "source": [
    "torch.cuda.is_available()"
   ]
  },
  {
   "cell_type": "code",
   "execution_count": 4,
   "id": "64d7d878a9df3900",
   "metadata": {
    "ExecuteTime": {
     "end_time": "2024-03-27T01:56:43.402986Z",
     "start_time": "2024-03-27T01:30:50.232616Z"
    },
    "collapsed": false
   },
   "outputs": [
    {
     "name": "stderr",
     "output_type": "stream",
     "text": [
      " 12%|█▎        | 1/8 [03:15<22:45, 195.13s/it]"
     ]
    },
    {
     "name": "stdout",
     "output_type": "stream",
     "text": [
      "17692.66796875\n"
     ]
    },
    {
     "name": "stderr",
     "output_type": "stream",
     "text": [
      " 25%|██▌       | 2/8 [06:29<19:27, 194.60s/it]"
     ]
    },
    {
     "name": "stdout",
     "output_type": "stream",
     "text": [
      "17657.69140625\n"
     ]
    },
    {
     "name": "stderr",
     "output_type": "stream",
     "text": [
      " 38%|███▊      | 3/8 [09:43<16:12, 194.48s/it]"
     ]
    },
    {
     "name": "stdout",
     "output_type": "stream",
     "text": [
      "17648.91796875\n"
     ]
    },
    {
     "name": "stderr",
     "output_type": "stream",
     "text": [
      " 50%|█████     | 4/8 [12:57<12:57, 194.32s/it]"
     ]
    },
    {
     "name": "stdout",
     "output_type": "stream",
     "text": [
      "17647.0546875\n"
     ]
    },
    {
     "name": "stderr",
     "output_type": "stream",
     "text": [
      " 62%|██████▎   | 5/8 [16:11<09:42, 194.21s/it]"
     ]
    },
    {
     "name": "stdout",
     "output_type": "stream",
     "text": [
      "17646.375\n"
     ]
    },
    {
     "name": "stderr",
     "output_type": "stream",
     "text": [
      " 75%|███████▌  | 6/8 [19:26<06:28, 194.23s/it]"
     ]
    },
    {
     "name": "stdout",
     "output_type": "stream",
     "text": [
      "17646.25\n"
     ]
    },
    {
     "name": "stderr",
     "output_type": "stream",
     "text": [
      " 88%|████████▊ | 7/8 [22:39<03:14, 194.04s/it]"
     ]
    },
    {
     "name": "stdout",
     "output_type": "stream",
     "text": [
      "17646.1875\n"
     ]
    },
    {
     "name": "stderr",
     "output_type": "stream",
     "text": [
      "100%|██████████| 8/8 [25:53<00:00, 194.15s/it]"
     ]
    },
    {
     "name": "stdout",
     "output_type": "stream",
     "text": [
      "17646.146484375\n"
     ]
    },
    {
     "name": "stderr",
     "output_type": "stream",
     "text": [
      "\n"
     ]
    }
   ],
   "source": [
    "from tqdm import tqdm\n",
    "\n",
    "torch.manual_seed(0)\n",
    "epochs = 8\n",
    "\n",
    "for epoch in tqdm(range(epochs)):\n",
    "    batch_loss = 0\n",
    "    for batch in train_dataloader:\n",
    "        original, augmented = batch['original'], batch['augmented']\n",
    "        original = original.to(device)\n",
    "        augmented = augmented.to(device)\n",
    "\n",
    "        optimizer.zero_grad()\n",
    "\n",
    "        original_embeddings, _ = model(original)\n",
    "        augmented_embeddings, _ = model(augmented)\n",
    "        \n",
    "        flattened_original = original_embeddings.reshape(original_embeddings.shape[0] * original_embeddings.shape[1], -1)\n",
    "        flattened_augmented = augmented_embeddings.reshape(original_embeddings.shape[0] * original_embeddings.shape[1], -1)\n",
    "\n",
    "        loss = contrastive_loss(flattened_original, flattened_augmented)\n",
    "        batch_loss = loss.item()\n",
    "        # print(loss.item())\n",
    "        loss.backward()\n",
    "        optimizer.step()\n",
    "    print(batch_loss)"
   ]
  },
  {
   "cell_type": "code",
   "execution_count": 5,
   "id": "8f9b334fe656ec77",
   "metadata": {
    "ExecuteTime": {
     "end_time": "2024-03-27T02:00:56.866874Z",
     "start_time": "2024-03-27T02:00:56.550725Z"
    },
    "collapsed": false
   },
   "outputs": [],
   "source": [
    "torch.save(model.state_dict(), 'encoder.pt')"
   ]
  },
  {
   "cell_type": "code",
   "execution_count": 6,
   "id": "63e6b4e316e48ab9",
   "metadata": {
    "ExecuteTime": {
     "end_time": "2024-03-25T07:03:08.907662Z",
     "start_time": "2024-03-25T07:03:08.774576Z"
    },
    "collapsed": false
   },
   "outputs": [
    {
     "name": "stdout",
     "output_type": "stream",
     "text": [
      " char_to_token.pkl\t  make_dataset.ipynb\r\n",
      " custom_dataset.py\t  Padilla\r\n",
      " custom_loss.py\t\t 'Padilla - 1 Nobleza virtuosa_testTranscription.docx'\r\n",
      " data_processing.ipynb\t 'Padilla - Nobleza virtuosa_testExtract.pdf'\r\n",
      " Decoder.py\t\t  __pycache__\r\n",
      " decoder_training.ipynb   ResNet.py\r\n",
      " encoder.pt\t\t  Rodrigo\r\n",
      " encoder.py\t\t  test.png\r\n",
      " encoder_training.ipynb   token_to_char.pkl\r\n",
      " generated_dataset\r\n"
     ]
    }
   ],
   "source": [
    "!ls"
   ]
  },
  {
   "cell_type": "code",
   "execution_count": null,
   "id": "7bc9a0a5c3166924",
   "metadata": {
    "collapsed": false
   },
   "outputs": [],
   "source": []
  }
 ],
 "metadata": {
  "kernelspec": {
   "display_name": "Python 3",
   "language": "python",
   "name": "python3"
  },
  "language_info": {
   "codemirror_mode": {
    "name": "ipython",
    "version": 2
   },
   "file_extension": ".py",
   "mimetype": "text/x-python",
   "name": "python",
   "nbconvert_exporter": "python",
   "pygments_lexer": "ipython2",
   "version": "2.7.6"
  }
 },
 "nbformat": 4,
 "nbformat_minor": 5
}
