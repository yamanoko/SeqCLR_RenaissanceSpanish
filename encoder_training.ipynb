{
 "cells": [
  {
   "cell_type": "code",
   "execution_count": 1,
   "id": "initial_id",
   "metadata": {
    "ExecuteTime": {
     "end_time": "2024-03-27T01:30:35.926977Z",
     "start_time": "2024-03-27T01:30:34.517327Z"
    },
    "collapsed": true
   },
   "outputs": [],
   "source": [
    "import torch.utils.data\n",
    "from torch.utils.data import DataLoader\n",
    "\n",
    "from encoder import Encoder\n",
    "from custom_dataset import ContrastiveLearningDataset\n",
    "from custom_loss import contrastive_loss\n",
    "from torch import optim"
   ]
  },
  {
   "cell_type": "code",
   "execution_count": 2,
   "id": "2f039402b58fd4a5",
   "metadata": {
    "ExecuteTime": {
     "end_time": "2024-03-27T01:30:36.781092Z",
     "start_time": "2024-03-27T01:30:36.383272Z"
    },
    "collapsed": false
   },
   "outputs": [],
   "source": [
    "torch.manual_seed(0)\n",
    "\n",
    "model = Encoder()\n",
    "# dataset = torch.utils.data.ConcatDataset([generated_dataset, Rodrigo_dataset])\n",
    "optimizer = optim.Adam(model.parameters(), lr=0.01, eps=0.001)\n",
    "# optimizer = optim.RMSprop(model.parameters())\n",
    "dataset = ContrastiveLearningDataset('cropped_images')\n",
    "BATCH_SIZE = 64\n",
    "train_dataloader = DataLoader(dataset, batch_size=BATCH_SIZE, shuffle=True)\n",
    "device = torch.device(\"cuda\" if torch.cuda.is_available() else \"cpu\")\n",
    "model = model.to(device)"
   ]
  },
  {
   "cell_type": "code",
   "execution_count": 3,
   "id": "9e1248b1c365a13e",
   "metadata": {
    "ExecuteTime": {
     "end_time": "2024-03-27T01:30:49.508663Z",
     "start_time": "2024-03-27T01:30:49.499892Z"
    },
    "collapsed": false
   },
   "outputs": [
    {
     "data": {
      "text/plain": [
       "True"
      ]
     },
     "execution_count": 3,
     "metadata": {},
     "output_type": "execute_result"
    }
   ],
   "source": [
    "torch.cuda.is_available()"
   ]
  },
  {
   "cell_type": "code",
   "execution_count": 4,
   "id": "64d7d878a9df3900",
   "metadata": {
    "ExecuteTime": {
     "end_time": "2024-03-27T01:56:43.402986Z",
     "start_time": "2024-03-27T01:30:50.232616Z"
    },
    "collapsed": false
   },
   "outputs": [
    {
     "name": "stdout",
     "output_type": "stream",
     "text": [
      "Epoch 1/3, Batch 1/1747, Loss:360.906494140625\n",
      "Epoch 1/3, Batch 101/1747, Loss:312.74749755859375\n",
      "Epoch 1/3, Batch 201/1747, Loss:311.70355224609375\n",
      "Epoch 1/3, Batch 301/1747, Loss:311.18682861328125\n",
      "Epoch 1/3, Batch 401/1747, Loss:311.18084716796875\n",
      "Epoch 1/3, Batch 501/1747, Loss:310.6376953125\n",
      "Epoch 1/3, Batch 601/1747, Loss:310.4555969238281\n",
      "Epoch 1/3, Batch 701/1747, Loss:310.521728515625\n",
      "Epoch 1/3, Batch 801/1747, Loss:310.435302734375\n",
      "Epoch 1/3, Batch 901/1747, Loss:310.3323974609375\n",
      "Epoch 1/3, Batch 1001/1747, Loss:310.37017822265625\n",
      "Epoch 1/3, Batch 1101/1747, Loss:310.29913330078125\n",
      "Epoch 1/3, Batch 1201/1747, Loss:310.4059753417969\n",
      "Epoch 1/3, Batch 1301/1747, Loss:310.06011962890625\n",
      "Epoch 1/3, Batch 1401/1747, Loss:310.087646484375\n",
      "Epoch 1/3, Batch 1501/1747, Loss:310.4847717285156\n",
      "Epoch 1/3, Batch 1601/1747, Loss:310.24285888671875\n",
      "Epoch 1/3, Batch 1701/1747, Loss:310.0840759277344\n",
      "Epoch 1/3, Average Loss:310.8630087054929\n",
      "Epoch 2/3, Batch 1/1747, Loss:310.13836669921875\n",
      "Epoch 2/3, Batch 101/1747, Loss:310.07763671875\n",
      "Epoch 2/3, Batch 201/1747, Loss:309.95867919921875\n",
      "Epoch 2/3, Batch 301/1747, Loss:310.737060546875\n",
      "Epoch 2/3, Batch 401/1747, Loss:309.9343566894531\n",
      "Epoch 2/3, Batch 501/1747, Loss:309.9403991699219\n",
      "Epoch 2/3, Batch 601/1747, Loss:309.961669921875\n",
      "Epoch 2/3, Batch 701/1747, Loss:309.955810546875\n",
      "Epoch 2/3, Batch 801/1747, Loss:310.09454345703125\n",
      "Epoch 2/3, Batch 901/1747, Loss:310.09930419921875\n",
      "Epoch 2/3, Batch 1001/1747, Loss:310.0807800292969\n",
      "Epoch 2/3, Batch 1101/1747, Loss:310.03619384765625\n",
      "Epoch 2/3, Batch 1201/1747, Loss:310.166259765625\n",
      "Epoch 2/3, Batch 1301/1747, Loss:309.95184326171875\n",
      "Epoch 2/3, Batch 1401/1747, Loss:310.7012939453125\n",
      "Epoch 2/3, Batch 1501/1747, Loss:310.87982177734375\n",
      "Epoch 2/3, Batch 1601/1747, Loss:310.162353515625\n",
      "Epoch 2/3, Batch 1701/1747, Loss:310.2126770019531\n",
      "Epoch 2/3, Average Loss:310.1049614891572\n",
      "Epoch 3/3, Batch 1/1747, Loss:310.0203857421875\n",
      "Epoch 3/3, Batch 101/1747, Loss:310.12677001953125\n",
      "Epoch 3/3, Batch 201/1747, Loss:309.9255065917969\n",
      "Epoch 3/3, Batch 301/1747, Loss:310.6551818847656\n",
      "Epoch 3/3, Batch 401/1747, Loss:310.05218505859375\n",
      "Epoch 3/3, Batch 501/1747, Loss:309.8033752441406\n",
      "Epoch 3/3, Batch 601/1747, Loss:309.83251953125\n",
      "Epoch 3/3, Batch 701/1747, Loss:309.82550048828125\n",
      "Epoch 3/3, Batch 801/1747, Loss:309.8692321777344\n",
      "Epoch 3/3, Batch 901/1747, Loss:309.78314208984375\n",
      "Epoch 3/3, Batch 1001/1747, Loss:310.00201416015625\n",
      "Epoch 3/3, Batch 1101/1747, Loss:309.7879638671875\n",
      "Epoch 3/3, Batch 1201/1747, Loss:309.8310241699219\n",
      "Epoch 3/3, Batch 1301/1747, Loss:310.4573974609375\n",
      "Epoch 3/3, Batch 1401/1747, Loss:310.01153564453125\n",
      "Epoch 3/3, Batch 1501/1747, Loss:309.86138916015625\n",
      "Epoch 3/3, Batch 1601/1747, Loss:309.78900146484375\n",
      "Epoch 3/3, Batch 1701/1747, Loss:309.8565368652344\n",
      "Epoch 3/3, Average Loss:309.8523249503334\n"
     ]
    }
   ],
   "source": [
    "torch.manual_seed(0)\n",
    "epochs = 3\n",
    "\n",
    "for epoch in range(epochs):\n",
    "    batch_loss = 0\n",
    "    for i, batch in enumerate(train_dataloader):\n",
    "        original, augmented = batch['original'], batch['augmented']\n",
    "        original = original.to(device)\n",
    "        augmented = augmented.to(device)\n",
    "\n",
    "        optimizer.zero_grad()\n",
    "\n",
    "        original_embeddings, _ = model(original)\n",
    "        augmented_embeddings, _ = model(augmented)\n",
    "        \n",
    "        flattened_original = original_embeddings.reshape(original_embeddings.shape[0] * original_embeddings.shape[1], -1)\n",
    "        flattened_augmented = augmented_embeddings.reshape(original_embeddings.shape[0] * original_embeddings.shape[1], -1)\n",
    "\n",
    "        loss = contrastive_loss(flattened_original, flattened_augmented)\n",
    "        batch_loss += loss.item()\n",
    "        if i % 100 == 0:\n",
    "            print(f\"Epoch {epoch + 1}/{epochs}, Batch {i + 1}/{len(train_dataloader)}, Loss:{loss.item()}\")\n",
    "        loss.backward()\n",
    "        optimizer.step()\n",
    "    # print(batch_loss)\n",
    "    print(f\"Epoch {epoch + 1}/{epochs}, Average Loss:{batch_loss / len(train_dataloader)}\")"
   ]
  },
  {
   "cell_type": "code",
   "execution_count": 5,
   "id": "8f9b334fe656ec77",
   "metadata": {
    "ExecuteTime": {
     "end_time": "2024-03-27T02:00:56.866874Z",
     "start_time": "2024-03-27T02:00:56.550725Z"
    },
    "collapsed": false
   },
   "outputs": [],
   "source": [
    "torch.save(model.state_dict(), 'encoder.pt')"
   ]
  },
  {
   "cell_type": "code",
   "execution_count": 6,
   "id": "63e6b4e316e48ab9",
   "metadata": {
    "ExecuteTime": {
     "end_time": "2024-03-25T07:03:08.907662Z",
     "start_time": "2024-03-25T07:03:08.774576Z"
    },
    "collapsed": false
   },
   "outputs": [
    {
     "name": "stdout",
     "output_type": "stream",
     "text": [
      " char_to_token.pkl\t  make_dataset.ipynb\r\n",
      " custom_dataset.py\t  Padilla\r\n",
      " custom_loss.py\t\t 'Padilla - 1 Nobleza virtuosa_testTranscription.docx'\r\n",
      " data_processing.ipynb\t 'Padilla - Nobleza virtuosa_testExtract.pdf'\r\n",
      " Decoder.py\t\t  __pycache__\r\n",
      " decoder_training.ipynb   ResNet.py\r\n",
      " encoder.pt\t\t  Rodrigo\r\n",
      " encoder.py\t\t  test.png\r\n",
      " encoder_training.ipynb   token_to_char.pkl\r\n",
      " generated_dataset\r\n"
     ]
    }
   ],
   "source": [
    "!ls"
   ]
  },
  {
   "cell_type": "code",
   "execution_count": null,
   "id": "7bc9a0a5c3166924",
   "metadata": {
    "collapsed": false
   },
   "outputs": [],
   "source": []
  }
 ],
 "metadata": {
  "kernelspec": {
   "display_name": "Python 3",
   "language": "python",
   "name": "python3"
  },
  "language_info": {
   "codemirror_mode": {
    "name": "ipython",
    "version": 3
   },
   "file_extension": ".py",
   "mimetype": "text/x-python",
   "name": "python",
   "nbconvert_exporter": "python",
   "pygments_lexer": "ipython3",
   "version": "3.8.19"
  }
 },
 "nbformat": 4,
 "nbformat_minor": 5
}
