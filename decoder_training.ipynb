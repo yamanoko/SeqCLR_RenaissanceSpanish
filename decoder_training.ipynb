{
 "cells": [
  {
   "cell_type": "code",
   "execution_count": 1,
   "id": "initial_id",
   "metadata": {
    "ExecuteTime": {
     "end_time": "2024-03-27T06:03:21.962242Z",
     "start_time": "2024-03-27T06:03:20.470921Z"
    },
    "collapsed": true
   },
   "outputs": [],
   "source": [
    "import torch\n",
    "import torchvision.transforms\n",
    "from tinycss2 import tokenizer\n",
    "from torch.nn import CrossEntropyLoss\n",
    "from torch.optim import Adam\n",
    "from torch.utils.data import DataLoader, random_split\n",
    "import os\n",
    "import pickle\n",
    "from PIL import Image\n",
    "from torchvision import transforms\n",
    "from torch.nn import functional as F\n",
    "from torch import nn\n",
    "from typing import List\n",
    "from torchmetrics.text import CharErrorRate\n",
    "\n",
    "device = torch.device('cuda' if torch.cuda.is_available() else 'cpu')"
   ]
  },
  {
   "cell_type": "code",
   "execution_count": 2,
   "id": "3557c22a31170df6",
   "metadata": {
    "ExecuteTime": {
     "end_time": "2024-03-27T06:03:22.062966Z",
     "start_time": "2024-03-27T06:03:21.963669Z"
    },
    "collapsed": false
   },
   "outputs": [],
   "source": [
    "from custom_dataset import DecoderDataset\n",
    "from encoder import Encoder\n",
    "from Decoder import LSTMAttnDecoder\n",
    "\n",
    "with open('char_to_token.pkl', 'rb') as f:\n",
    "    token_dict = pickle.load(f)"
   ]
  },
  {
   "cell_type": "code",
   "execution_count": 3,
   "id": "4abde9bc222e096",
   "metadata": {
    "ExecuteTime": {
     "end_time": "2024-03-27T06:03:22.413255Z",
     "start_time": "2024-03-27T06:03:22.063926Z"
    },
    "collapsed": false
   },
   "outputs": [
    {
     "data": {
      "text/plain": [
       "<All keys matched successfully>"
      ]
     },
     "execution_count": 3,
     "metadata": {},
     "output_type": "execute_result"
    }
   ],
   "source": [
    "torch.manual_seed(0)\n",
    "encoder = Encoder().to(device)\n",
    "decoder = LSTMAttnDecoder(256, len(token_dict)).to(device)\n",
    "encoder.load_state_dict(torch.load('encoder.pt'))\n",
    "# for param in encoder.parameters():\n",
    "#     param.requires_grad = False"
   ]
  },
  {
   "cell_type": "code",
   "execution_count": 5,
   "id": "4712e4896ad072bb",
   "metadata": {
    "ExecuteTime": {
     "end_time": "2024-03-27T06:03:22.453557Z",
     "start_time": "2024-03-27T06:03:22.414380Z"
    },
    "collapsed": false
   },
   "outputs": [],
   "source": [
    "torch.manual_seed(0)\n",
    "decoder_dataset = DecoderDataset('Padilla_v2/labeled_dataset.csv', 'Padilla_v2/cropped_images', token_dict)\n",
    "# decoder_dataset = torch.utils.data.ConcatDataset([padilla_dataset, generated_dataset, padilla_dataset])\n",
    "train_size = int(0.9 * len(decoder_dataset))\n",
    "val_size = len(decoder_dataset) - train_size\n",
    "train_dataset, val_dataset = random_split(decoder_dataset, [train_size, val_size])\n",
    "train_dataloader = DataLoader(train_dataset, batch_size=16)\n",
    "val_dataloader = DataLoader(val_dataset, batch_size=16)"
   ]
  },
  {
   "cell_type": "code",
   "execution_count": 6,
   "id": "8a17bcc4c72ed46",
   "metadata": {
    "ExecuteTime": {
     "end_time": "2024-03-27T06:03:22.458590Z",
     "start_time": "2024-03-27T06:03:22.454838Z"
    },
    "collapsed": false
   },
   "outputs": [],
   "source": [
    "criterion = CrossEntropyLoss()\n",
    "optimizer = Adam(list(encoder.parameters()) + list(decoder.parameters()))\n",
    "cer = CharErrorRate()"
   ]
  },
  {
   "cell_type": "code",
   "execution_count": 7,
   "id": "de8070dfec477796",
   "metadata": {
    "ExecuteTime": {
     "end_time": "2024-03-27T06:03:22.937882Z",
     "start_time": "2024-03-27T06:03:22.926232Z"
    },
    "collapsed": false
   },
   "outputs": [],
   "source": [
    "with open(\"token_to_char.pkl\", \"rb\") as f:\n",
    "    token_to_char = pickle.load(f)\n",
    "\n",
    "def tokenizer_func(input_list: List[torch.tensor], token: List[str]) -> List[str]:\n",
    "    return [token[index.item()] for index in input_list]"
   ]
  },
  {
   "cell_type": "code",
   "execution_count": 8,
   "id": "62c0f2bf0ec0b3f6",
   "metadata": {
    "ExecuteTime": {
     "end_time": "2024-03-27T07:27:20.638820Z",
     "start_time": "2024-03-27T06:03:23.842968Z"
    },
    "collapsed": false
   },
   "outputs": [
    {
     "name": "stderr",
     "output_type": "stream",
     "text": [
      "/tmp/ipykernel_7340/3829644394.py:19: UserWarning: Implicit dimension choice for log_softmax has been deprecated. Change the call to include dim=X as an argument.\n",
      "  _, decoder_output_labels = torch.max(F.log_softmax(decoder_output), dim=1)\n"
     ]
    },
    {
     "name": "stdout",
     "output_type": "stream",
     "text": [
      "Epoch 1/20, Batch 0/184, Loss: 59.32204818725586, CER: 1.161216139793396\n",
      "Epoch 1/20, Batch 100/184, Loss: 11.021418571472168, CER: 0.1827794760465622\n"
     ]
    },
    {
     "name": "stderr",
     "output_type": "stream",
     "text": [
      "/tmp/ipykernel_7340/3829644394.py:54: UserWarning: Implicit dimension choice for log_softmax has been deprecated. Change the call to include dim=X as an argument.\n",
      "  _, decoder_output_labels = torch.max(F.log_softmax(decoder_output), dim=1)\n"
     ]
    },
    {
     "name": "stdout",
     "output_type": "stream",
     "text": [
      "Epoch 1/20, Validation Loss: 9.989326045626687, Validation CER: 0.09130334854125977\n",
      "Epoch 2/20, Batch 0/184, Loss: 10.818525314331055, CER: 0.1424829214811325\n",
      "Epoch 2/20, Batch 100/184, Loss: 9.862584114074707, CER: 0.08815042674541473\n",
      "Epoch 2/20, Validation Loss: 9.029148873828706, Validation CER: 0.0757196694612503\n",
      "Epoch 3/20, Batch 0/184, Loss: 9.179789543151855, CER: 0.11130879074335098\n",
      "Epoch 3/20, Batch 100/184, Loss: 8.450202941894531, CER: 0.07744695991277695\n",
      "Epoch 3/20, Validation Loss: 8.58728449685233, Validation CER: 0.06949900090694427\n",
      "Epoch 4/20, Batch 0/184, Loss: 8.109784126281738, CER: 0.09128548204898834\n",
      "Epoch 4/20, Batch 100/184, Loss: 7.932694435119629, CER: 0.06963706761598587\n",
      "Epoch 4/20, Validation Loss: 8.480842431386312, Validation CER: 0.07104355096817017\n",
      "Epoch 5/20, Batch 0/184, Loss: 7.00336217880249, CER: 0.07738927006721497\n",
      "Epoch 5/20, Batch 100/184, Loss: 7.20535945892334, CER: 0.06303885579109192\n",
      "Epoch 5/20, Validation Loss: 8.388581820896693, Validation CER: 0.06638182699680328\n",
      "Epoch 6/20, Batch 0/184, Loss: 6.078336238861084, CER: 0.04315716773271561\n",
      "Epoch 6/20, Batch 100/184, Loss: 6.929692268371582, CER: 0.05290861800312996\n",
      "Epoch 6/20, Validation Loss: 8.792266641344343, Validation CER: 0.06926507502794266\n",
      "Epoch 7/20, Batch 0/184, Loss: 5.6058573722839355, CER: 0.037733279168605804\n",
      "Epoch 7/20, Batch 100/184, Loss: 6.176915645599365, CER: 0.04997958242893219\n",
      "Epoch 7/20, Validation Loss: 8.393516971951438, Validation CER: 0.06501907855272293\n",
      "Epoch 8/20, Batch 0/184, Loss: 5.104393482208252, CER: 0.039921652525663376\n",
      "Epoch 8/20, Batch 100/184, Loss: 6.049473762512207, CER: 0.04611732438206673\n",
      "Epoch 8/20, Validation Loss: 8.426624547867547, Validation CER: 0.06506305187940598\n",
      "Epoch 9/20, Batch 0/184, Loss: 5.327002048492432, CER: 0.052229445427656174\n",
      "Epoch 9/20, Batch 100/184, Loss: 5.36271333694458, CER: 0.03971200808882713\n",
      "Epoch 9/20, Validation Loss: 8.25222331001645, Validation CER: 0.06403674930334091\n",
      "Epoch 10/20, Batch 0/184, Loss: 4.818943977355957, CER: 0.05402026325464249\n",
      "Epoch 10/20, Batch 100/184, Loss: 5.09271764755249, CER: 0.03662009909749031\n",
      "Epoch 10/20, Validation Loss: 8.378207570030575, Validation CER: 0.06106218695640564\n",
      "Epoch 11/20, Batch 0/184, Loss: 4.709242343902588, CER: 0.03155932575464249\n",
      "Epoch 11/20, Batch 100/184, Loss: 5.125007629394531, CER: 0.0357653871178627\n",
      "Epoch 11/20, Validation Loss: 8.551803543454124, Validation CER: 0.06148579716682434\n",
      "Epoch 12/20, Batch 0/184, Loss: 4.596796035766602, CER: 0.03504704684019089\n",
      "Epoch 12/20, Batch 100/184, Loss: 4.931427478790283, CER: 0.03337457776069641\n",
      "Epoch 12/20, Validation Loss: 8.394272043591453, Validation CER: 0.0622093565762043\n",
      "Epoch 13/20, Batch 0/184, Loss: 4.491673946380615, CER: 0.04506632685661316\n",
      "Epoch 13/20, Batch 100/184, Loss: 4.979414939880371, CER: 0.03094375878572464\n",
      "Epoch 13/20, Validation Loss: 8.649797905059089, Validation CER: 0.06271403282880783\n",
      "Epoch 14/20, Batch 0/184, Loss: 4.119359970092773, CER: 0.03299415484070778\n",
      "Epoch 14/20, Batch 100/184, Loss: 4.446214199066162, CER: 0.030363021418452263\n",
      "Epoch 14/20, Validation Loss: 8.604088113421486, Validation CER: 0.06309901177883148\n",
      "Epoch 15/20, Batch 0/184, Loss: 4.3224616050720215, CER: 0.041154440492391586\n",
      "Epoch 15/20, Batch 100/184, Loss: 3.8988845348358154, CER: 0.02924896962940693\n",
      "Epoch 15/20, Validation Loss: 8.855894486109415, Validation CER: 0.05982194468379021\n",
      "Epoch 16/20, Batch 0/184, Loss: 4.100344181060791, CER: 0.02609311416745186\n",
      "Epoch 16/20, Batch 100/184, Loss: 4.338926792144775, CER: 0.027615590021014214\n",
      "Epoch 16/20, Validation Loss: 9.069452467418852, Validation CER: 0.06175527721643448\n",
      "Epoch 17/20, Batch 0/184, Loss: 3.8217391967773438, CER: 0.02720918506383896\n",
      "Epoch 17/20, Batch 100/184, Loss: 3.833876371383667, CER: 0.027294538915157318\n",
      "Epoch 17/20, Validation Loss: 8.969464154470534, Validation CER: 0.059401415288448334\n",
      "Epoch 18/20, Batch 0/184, Loss: 3.970837116241455, CER: 0.04940660670399666\n",
      "Epoch 18/20, Batch 100/184, Loss: 3.3512120246887207, CER: 0.025853989645838737\n",
      "Epoch 18/20, Validation Loss: 8.914703437260219, Validation CER: 0.06024071201682091\n",
      "Epoch 19/20, Batch 0/184, Loss: 3.633344888687134, CER: 0.03901948407292366\n",
      "Epoch 19/20, Batch 100/184, Loss: 3.5634655952453613, CER: 0.025953594595193863\n",
      "Epoch 19/20, Validation Loss: 9.334222237269083, Validation CER: 0.07131799310445786\n",
      "Epoch 20/20, Batch 0/184, Loss: 3.9551899433135986, CER: 0.03929029405117035\n",
      "Epoch 20/20, Batch 100/184, Loss: 2.6438119411468506, CER: 0.024703899398446083\n",
      "Epoch 20/20, Validation Loss: 8.835204828353156, Validation CER: 0.06408291310071945\n"
     ]
    }
   ],
   "source": [
    "epochs = 20\n",
    "SOS_token = token_dict['<SOS>']\n",
    "\n",
    "for epoch in range(epochs):\n",
    "    # Training loop\n",
    "    decoder.train()\n",
    "    total_cer = 0\n",
    "    batch_count = 0\n",
    "    for i, (imgs, labels) in enumerate(train_dataloader):\n",
    "        imgs, labels = imgs.to(device), labels.to(device)\n",
    "\n",
    "        encoder_outputs, decoder_hidden = encoder(imgs)  # Encoder's forward pass\n",
    "        decoder_input = torch.tensor([[SOS_token]] * labels.size(0)).to(device)  # SOS token\n",
    "\n",
    "        loss = 0\n",
    "        predictions = []\n",
    "        for t in range(labels.size(1)):\n",
    "            decoder_output, decoder_hidden = decoder(decoder_input, decoder_hidden, encoder_outputs)\n",
    "            _, decoder_output_labels = torch.max(F.log_softmax(decoder_output), dim=1)\n",
    "\n",
    "            loss += criterion(decoder_output, labels[:, t])\n",
    "            predictions.append(decoder_output_labels.unsqueeze(0))\n",
    "\n",
    "            decoder_input = labels[:, t].unsqueeze(1)  # Teacher forcing\n",
    "\n",
    "        # Transpose the prediction to match labels, calculate and accumulate CER\n",
    "        predictions = torch.cat(predictions).transpose(0, 1)\n",
    "        total_cer += sum(cer(tokenizer_func(pred.view(-1), token_to_char), tokenizer_func(label.view(-1), token_to_char)) for pred, label in\n",
    "                         zip(predictions, labels)) / len(predictions)\n",
    "        optimizer.zero_grad()\n",
    "        loss.backward()\n",
    "        optimizer.step()\n",
    "        batch_count += 1\n",
    "\n",
    "        if i % 100 == 0:\n",
    "            print(\n",
    "                f\"Epoch {epoch + 1}/{epochs}, Batch {i}/{len(train_dataloader)}, Loss: {loss.item()}, CER: {total_cer / batch_count}\")\n",
    "\n",
    "    # Validation loop\n",
    "    decoder.eval()\n",
    "    with torch.no_grad():  # Disable gradient calculation\n",
    "        total_val_loss = 0\n",
    "        total_val_cer = 0\n",
    "        val_batch_count = 0\n",
    "        for i, (imgs, labels) in enumerate(val_dataloader):\n",
    "            imgs, labels = imgs.to(device), labels.to(device)\n",
    "            encoder_outputs, decoder_hidden = encoder(imgs)\n",
    "            decoder_input = torch.tensor([[SOS_token]] * labels.size(0)).to(device)\n",
    "\n",
    "            loss = 0\n",
    "            val_predictions = []\n",
    "            for t in range(labels.size(1)):\n",
    "                decoder_output, decoder_hidden = decoder(decoder_input, decoder_hidden, encoder_outputs)\n",
    "                _, decoder_output_labels = torch.max(F.log_softmax(decoder_output), dim=1)\n",
    "\n",
    "                loss += criterion(decoder_output, labels[:, t])\n",
    "                val_predictions.append(decoder_output_labels.unsqueeze(0))\n",
    "\n",
    "                decoder_input = labels[:, t].unsqueeze(1)  # Teacher forcing\n",
    "\n",
    "            total_val_loss += loss.item()\n",
    "            # Transpose and calculate CER\n",
    "            val_predictions = torch.cat(val_predictions).transpose(0, 1)\n",
    "            total_val_cer += sum(cer(tokenizer_func(pred.view(-1), token_to_char), tokenizer_func(label.view(-1), token_to_char)) for pred, label in\n",
    "                                 zip(val_predictions, labels)) / len(val_predictions)\n",
    "            val_batch_count += 1\n",
    "\n",
    "        val_loss = total_val_loss / val_batch_count\n",
    "        val_cer = total_val_cer / val_batch_count\n",
    "\n",
    "    print(f\"Epoch {epoch + 1}/{epochs}, Validation Loss: {val_loss}, Validation CER: {val_cer}\")"
   ]
  },
  {
   "cell_type": "code",
   "execution_count": 9,
   "id": "5e27b99170654237",
   "metadata": {
    "ExecuteTime": {
     "end_time": "2024-03-27T09:39:39.652656Z",
     "start_time": "2024-03-27T09:39:39.459332Z"
    },
    "collapsed": false
   },
   "outputs": [],
   "source": [
    "torch.save(decoder.state_dict(), \"decoder.pt\")\n",
    "torch.save(encoder.state_dict(), \"fine_tuned_encoder.pt\")"
   ]
  },
  {
   "cell_type": "code",
   "execution_count": 10,
   "id": "7604ff06cdfe4973",
   "metadata": {
    "ExecuteTime": {
     "end_time": "2024-03-27T11:27:53.969331Z",
     "start_time": "2024-03-27T11:27:52.350586Z"
    },
    "collapsed": false
   },
   "outputs": [
    {
     "data": {
      "text/plain": [
       "<All keys matched successfully>"
      ]
     },
     "execution_count": 10,
     "metadata": {},
     "output_type": "execute_result"
    }
   ],
   "source": [
    "import pickle\n",
    "import torch\n",
    "from encoder import Encoder\n",
    "from Decoder import LSTMAttnDecoder\n",
    "from torch.utils.data import DataLoader\n",
    "import os\n",
    "from torchvision import transforms\n",
    "from torchvision.transforms import Resize, ToTensor, Lambda\n",
    "from custom_dataset import resize_and_pad\n",
    "\n",
    "with open(\"token_to_char.pkl\", \"rb\") as f:\n",
    "    token_to_char = pickle.load(f)\n",
    "\n",
    "device = torch.device('cuda' if torch.cuda.is_available() else 'cpu')\n",
    "encoder = Encoder().to(device)\n",
    "decoder = LSTMAttnDecoder(256, len(token_to_char)).to(device)\n",
    "encoder.load_state_dict(torch.load('fine_tuned_encoder.pt'))\n",
    "decoder.load_state_dict(torch.load('decoder.pt'))"
   ]
  },
  {
   "cell_type": "code",
   "execution_count": 13,
   "id": "85e2c34d9b8af6e7",
   "metadata": {
    "ExecuteTime": {
     "end_time": "2024-03-27T11:28:22.545815Z",
     "start_time": "2024-03-27T11:28:22.539827Z"
    },
    "collapsed": false
   },
   "outputs": [],
   "source": [
    "with open('char_to_token.pkl', 'rb') as f:\n",
    "    token_dict = pickle.load(f)\n",
    "\n",
    "SOS_token = token_dict['<SOS>']\n",
    "test_dataset_folder = \"cropped_images\""
   ]
  },
  {
   "cell_type": "code",
   "execution_count": 15,
   "id": "d63e02ef35002045",
   "metadata": {
    "collapsed": false
   },
   "outputs": [
    {
     "data": {
      "image/jpeg": "[encoded data removed]",
      "image/png": "[encoded data removed]",
      "text/plain": [
       "<PIL.JpegImagePlugin.JpegImageFile image mode=RGB size=104x34>"
      ]
     },
     "metadata": {},
     "output_type": "display_data"
    },
    {
     "name": "stdout",
     "output_type": "stream",
     "text": [
      "['e', 's', 't', 'e', '<EOS>']\n"
     ]
    },
    {
     "name": "stderr",
     "output_type": "stream",
     "text": [
      "/tmp/ipykernel_7340/3709203161.py:31: UserWarning: Implicit dimension choice for log_softmax has been deprecated. Change the call to include dim=X as an argument.\n",
      "  _, topi = F.log_softmax(decoder_output).topk(1)\n"
     ]
    },
    {
     "data": {
      "image/jpeg": "[encoded data removed]",
      "image/png": "[encoded data removed]",
      "text/plain": [
       "<PIL.JpegImagePlugin.JpegImageFile image mode=RGB size=47x39>"
      ]
     },
     "metadata": {},
     "output_type": "display_data"
    },
    {
     "name": "stdout",
     "output_type": "stream",
     "text": [
      "['t', 'e', 's', '<EOS>']\n"
     ]
    },
    {
     "data": {
      "image/jpeg": "[encoded data removed]",
      "image/png": "[encoded data removed]",
      "text/plain": [
       "<PIL.JpegImagePlugin.JpegImageFile image mode=RGB size=83x37>"
      ]
     },
     "metadata": {},
     "output_type": "display_data"
    },
    {
     "name": "stdout",
     "output_type": "stream",
     "text": [
      "['s', 'o', 'l', 'a', '<EOS>']\n"
     ]
    },
    {
     "data": {
      "image/jpeg": "[encoded data removed]",
      "image/png": "[encoded data removed]",
      "text/plain": [
       "<PIL.JpegImagePlugin.JpegImageFile image mode=RGB size=77x33>"
      ]
     },
     "metadata": {},
     "output_type": "display_data"
    },
    {
     "name": "stdout",
     "output_type": "stream",
     "text": [
      "['s', 'o', 'l', 'a', '<EOS>']\n"
     ]
    },
    {
     "data": {
      "image/jpeg": "[encoded data removed]",
      "image/png": "[encoded data removed]",
      "text/plain": [
       "<PIL.JpegImagePlugin.JpegImageFile image mode=RGB size=28x30>"
      ]
     },
     "metadata": {},
     "output_type": "display_data"
    },
    {
     "name": "stdout",
     "output_type": "stream",
     "text": [
      "['e', 's', '<EOS>']\n"
     ]
    },
    {
     "data": {
      "image/jpeg": "[encoded data removed]",
      "image/png": "[encoded data removed]",
      "text/plain": [
       "<PIL.JpegImagePlugin.JpegImageFile image mode=RGB size=41x29>"
      ]
     },
     "metadata": {},
     "output_type": "display_data"
    },
    {
     "name": "stdout",
     "output_type": "stream",
     "text": [
      "['t', 'e', 's', '<EOS>']\n"
     ]
    },
    {
     "data": {
      "image/jpeg": "[encoded data removed]",
      "image/png": "[encoded data removed]",
      "text/plain": [
       "<PIL.JpegImagePlugin.JpegImageFile image mode=RGB size=134x31>"
      ]
     },
     "metadata": {},
     "output_type": "display_data"
    },
    {
     "name": "stdout",
     "output_type": "stream",
     "text": [
      "['v', 'i', 'd', 'a', ',', '<EOS>']\n"
     ]
    },
    {
     "data": {
      "image/jpeg": "[encoded data removed]",
      "image/png": "[encoded data removed]",
      "text/plain": [
       "<PIL.JpegImagePlugin.JpegImageFile image mode=RGB size=29x31>"
      ]
     },
     "metadata": {},
     "output_type": "display_data"
    },
    {
     "name": "stdout",
     "output_type": "stream",
     "text": [
      "['s', 'e', 'r', '<EOS>']\n"
     ]
    },
    {
     "data": {
      "image/jpeg": "[encoded data removed]",
      "image/png": "[encoded data removed]",
      "text/plain": [
       "<PIL.JpegImagePlugin.JpegImageFile image mode=RGB size=25x20>"
      ]
     },
     "metadata": {},
     "output_type": "display_data"
    },
    {
     "name": "stdout",
     "output_type": "stream",
     "text": [
      "['s', 'e', 'r', '<EOS>']\n"
     ]
    },
    {
     "data": {
      "image/jpeg": "[encoded data removed]",
      "image/png": "[encoded data removed]",
      "text/plain": [
       "<PIL.JpegImagePlugin.JpegImageFile image mode=RGB size=83x34>"
      ]
     },
     "metadata": {},
     "output_type": "display_data"
    },
    {
     "name": "stdout",
     "output_type": "stream",
     "text": [
      "['d', 'e', 'l', 'l', 'a', 's', '<EOS>']\n"
     ]
    }
   ],
   "source": [
    "import PIL\n",
    "from PIL import Image\n",
    "from matplotlib import pyplot as plt\n",
    "\n",
    "import random\n",
    "\n",
    "img_size = (32, 100)\n",
    "\n",
    "data_transform = transforms.Compose([\n",
    "            Lambda(lambda img: img.convert(\"L\")),  # Convert image to grayscale\n",
    "            Lambda(lambda img: resize_and_pad(img=img, target_size=img_size)),\n",
    "            Resize(img_size),\n",
    "            ToTensor(),  # Convert image to PyTorch Tensor in CHW format\n",
    "        ])\n",
    "\n",
    "decoder.eval()\n",
    "\n",
    "test_data_files = os.listdir(test_dataset_folder)\n",
    "random.shuffle(test_data_files)\n",
    "\n",
    "with torch.no_grad():\n",
    "    for filename in test_data_files[:10]:\n",
    "        image = Image.open(os.path.join(test_dataset_folder, filename))\n",
    "        display(image)\n",
    "        image_tensor = data_transform(image).unsqueeze(0).to(device)\n",
    "        encoder_outputs, decoder_hidden = encoder(image_tensor)\n",
    "        decoder_input = torch.tensor([[SOS_token]] * image_tensor.size(0)).to(device)\n",
    "        prediction = []\n",
    "        for t in range(50):  # Assuming maximum sequence length is 50\n",
    "            decoder_output, decoder_hidden = decoder(decoder_input, decoder_hidden, encoder_outputs)\n",
    "            _, topi = F.log_softmax(decoder_output).topk(1)\n",
    "            decoder_input = topi.detach()\n",
    "            prediction.append(decoder_input.item())\n",
    "            if decoder_input.item() == token_dict['<EOS>']:\n",
    "                break\n",
    "        print([token_to_char[i] for i in prediction])"
   ]
  },
  {
   "cell_type": "code",
   "execution_count": null,
   "id": "9950d83afb706bd6",
   "metadata": {
    "collapsed": false
   },
   "outputs": [],
   "source": []
  }
 ],
 "metadata": {
  "kernelspec": {
   "display_name": "Python 3",
   "language": "python",
   "name": "python3"
  },
  "language_info": {
   "codemirror_mode": {
    "name": "ipython",
    "version": 3
   },
   "file_extension": ".py",
   "mimetype": "text/x-python",
   "name": "python",
   "nbconvert_exporter": "python",
   "pygments_lexer": "ipython3",
   "version": "3.8.19"
  }
 },
 "nbformat": 4,
 "nbformat_minor": 5
}
